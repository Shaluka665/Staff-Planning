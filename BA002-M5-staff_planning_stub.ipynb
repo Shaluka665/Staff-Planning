{
 "cells": [
  {
   "cell_type": "markdown",
   "metadata": {},
   "source": [
    "# Optimisation Case Study - Staff Planning"
   ]
  },
  {
   "cell_type": "markdown",
   "metadata": {},
   "source": [
    "## CREATED BY:\n",
    "\n",
    "#### SHALULA SINHA\n",
    "\n",
    "#### METPALLI ANIKETH\n"
   ]
  },
  {
   "cell_type": "code",
   "execution_count": null,
   "metadata": {},
   "outputs": [],
   "source": []
  },
  {
   "cell_type": "code",
   "execution_count": 1,
   "metadata": {},
   "outputs": [],
   "source": [
    "# Importing Libraries \n",
    "\n",
    "import pandas as pd\n",
    "import numpy as np\n",
    "import math\n",
    "from pyomo.environ import *"
   ]
  },
  {
   "cell_type": "code",
   "execution_count": 2,
   "metadata": {},
   "outputs": [],
   "source": [
    "from __future__ import division\n",
    "from pyomo.opt import SolverFactory"
   ]
  },
  {
   "cell_type": "code",
   "execution_count": 3,
   "metadata": {},
   "outputs": [],
   "source": [
    "# Reading the data from Excel workbook\n",
    "\n",
    "#Let's read the data according to the respective order of sheets given in the excel workbook\n",
    "\n",
    "#Reading the data from DemandData sheet\n",
    "\n",
    "demand_data = pd.read_excel(\"/Users/dranzer/Documents/upGrad/DS/Course-5-Business Requirements/M7-Optimisation Case Study/Staffing+Data.xlsx\",sheet_name=\"DemandData\")\n",
    "\n"
   ]
  },
  {
   "cell_type": "code",
   "execution_count": 4,
   "metadata": {},
   "outputs": [
    {
     "data": {
      "text/html": [
       "<div>\n",
       "<style scoped>\n",
       "    .dataframe tbody tr th:only-of-type {\n",
       "        vertical-align: middle;\n",
       "    }\n",
       "\n",
       "    .dataframe tbody tr th {\n",
       "        vertical-align: top;\n",
       "    }\n",
       "\n",
       "    .dataframe thead th {\n",
       "        text-align: right;\n",
       "    }\n",
       "</style>\n",
       "<table border=\"1\" class=\"dataframe\">\n",
       "  <thead>\n",
       "    <tr style=\"text-align: right;\">\n",
       "      <th></th>\n",
       "      <th>State</th>\n",
       "      <th>Month</th>\n",
       "      <th>Demand</th>\n",
       "    </tr>\n",
       "  </thead>\n",
       "  <tbody>\n",
       "    <tr>\n",
       "      <th>0</th>\n",
       "      <td>A</td>\n",
       "      <td>Jan</td>\n",
       "      <td>5240</td>\n",
       "    </tr>\n",
       "    <tr>\n",
       "      <th>1</th>\n",
       "      <td>A</td>\n",
       "      <td>Feb</td>\n",
       "      <td>4878</td>\n",
       "    </tr>\n",
       "    <tr>\n",
       "      <th>2</th>\n",
       "      <td>A</td>\n",
       "      <td>Mar</td>\n",
       "      <td>5942</td>\n",
       "    </tr>\n",
       "    <tr>\n",
       "      <th>3</th>\n",
       "      <td>A</td>\n",
       "      <td>Apr</td>\n",
       "      <td>2297</td>\n",
       "    </tr>\n",
       "    <tr>\n",
       "      <th>4</th>\n",
       "      <td>A</td>\n",
       "      <td>May</td>\n",
       "      <td>1992</td>\n",
       "    </tr>\n",
       "  </tbody>\n",
       "</table>\n",
       "</div>"
      ],
      "text/plain": [
       "  State Month  Demand\n",
       "0     A   Jan    5240\n",
       "1     A   Feb    4878\n",
       "2     A   Mar    5942\n",
       "3     A   Apr    2297\n",
       "4     A   May    1992"
      ]
     },
     "execution_count": 4,
     "metadata": {},
     "output_type": "execute_result"
    }
   ],
   "source": [
    "demand_data.head()"
   ]
  },
  {
   "cell_type": "code",
   "execution_count": 5,
   "metadata": {},
   "outputs": [],
   "source": [
    "#Reading the data from StaffAvailability sheet\n",
    "\n",
    "staff_avail = pd.read_excel(\"/Users/dranzer/Documents/upGrad/DS/Course-5-Business Requirements/M7-Optimisation Case Study/Staffing+Data.xlsx\",sheet_name=\"StaffAvailability\")\n",
    "\n"
   ]
  },
  {
   "cell_type": "code",
   "execution_count": 6,
   "metadata": {},
   "outputs": [
    {
     "data": {
      "text/html": [
       "<div>\n",
       "<style scoped>\n",
       "    .dataframe tbody tr th:only-of-type {\n",
       "        vertical-align: middle;\n",
       "    }\n",
       "\n",
       "    .dataframe tbody tr th {\n",
       "        vertical-align: top;\n",
       "    }\n",
       "\n",
       "    .dataframe thead th {\n",
       "        text-align: right;\n",
       "    }\n",
       "</style>\n",
       "<table border=\"1\" class=\"dataframe\">\n",
       "  <thead>\n",
       "    <tr style=\"text-align: right;\">\n",
       "      <th></th>\n",
       "      <th>State</th>\n",
       "      <th>Month</th>\n",
       "      <th>LB</th>\n",
       "      <th>UB</th>\n",
       "      <th>StaffAvPer</th>\n",
       "    </tr>\n",
       "  </thead>\n",
       "  <tbody>\n",
       "    <tr>\n",
       "      <th>0</th>\n",
       "      <td>A</td>\n",
       "      <td>Jan</td>\n",
       "      <td>0.70</td>\n",
       "      <td>0.90</td>\n",
       "      <td>0.81</td>\n",
       "    </tr>\n",
       "    <tr>\n",
       "      <th>1</th>\n",
       "      <td>A</td>\n",
       "      <td>Feb</td>\n",
       "      <td>0.65</td>\n",
       "      <td>0.85</td>\n",
       "      <td>0.76</td>\n",
       "    </tr>\n",
       "    <tr>\n",
       "      <th>2</th>\n",
       "      <td>A</td>\n",
       "      <td>Mar</td>\n",
       "      <td>0.70</td>\n",
       "      <td>0.80</td>\n",
       "      <td>0.75</td>\n",
       "    </tr>\n",
       "    <tr>\n",
       "      <th>3</th>\n",
       "      <td>A</td>\n",
       "      <td>Apr</td>\n",
       "      <td>0.75</td>\n",
       "      <td>0.85</td>\n",
       "      <td>0.80</td>\n",
       "    </tr>\n",
       "    <tr>\n",
       "      <th>4</th>\n",
       "      <td>A</td>\n",
       "      <td>May</td>\n",
       "      <td>0.70</td>\n",
       "      <td>0.85</td>\n",
       "      <td>0.78</td>\n",
       "    </tr>\n",
       "  </tbody>\n",
       "</table>\n",
       "</div>"
      ],
      "text/plain": [
       "  State Month    LB    UB  StaffAvPer\n",
       "0     A   Jan  0.70  0.90        0.81\n",
       "1     A   Feb  0.65  0.85        0.76\n",
       "2     A   Mar  0.70  0.80        0.75\n",
       "3     A   Apr  0.75  0.85        0.80\n",
       "4     A   May  0.70  0.85        0.78"
      ]
     },
     "execution_count": 6,
     "metadata": {},
     "output_type": "execute_result"
    }
   ],
   "source": [
    "staff_avail.head()"
   ]
  },
  {
   "cell_type": "code",
   "execution_count": 7,
   "metadata": {},
   "outputs": [],
   "source": [
    "#Reading the data from Cost sheet\n",
    "\n",
    "cost = pd.read_excel(\"/Users/dranzer/Documents/upGrad/DS/Course-5-Business Requirements/M7-Optimisation Case Study/Staffing+Data.xlsx\",sheet_name=\"Cost\")\n"
   ]
  },
  {
   "cell_type": "code",
   "execution_count": 8,
   "metadata": {},
   "outputs": [
    {
     "data": {
      "text/html": [
       "<div>\n",
       "<style scoped>\n",
       "    .dataframe tbody tr th:only-of-type {\n",
       "        vertical-align: middle;\n",
       "    }\n",
       "\n",
       "    .dataframe tbody tr th {\n",
       "        vertical-align: top;\n",
       "    }\n",
       "\n",
       "    .dataframe thead th {\n",
       "        text-align: right;\n",
       "    }\n",
       "</style>\n",
       "<table border=\"1\" class=\"dataframe\">\n",
       "  <thead>\n",
       "    <tr style=\"text-align: right;\">\n",
       "      <th></th>\n",
       "      <th>State</th>\n",
       "      <th>Month</th>\n",
       "      <th>AnnualSalary</th>\n",
       "      <th>MonthlySalary</th>\n",
       "      <th>UnitOutSourceCost</th>\n",
       "    </tr>\n",
       "  </thead>\n",
       "  <tbody>\n",
       "    <tr>\n",
       "      <th>0</th>\n",
       "      <td>A</td>\n",
       "      <td>Jan</td>\n",
       "      <td>60000</td>\n",
       "      <td>5000.0</td>\n",
       "      <td>180</td>\n",
       "    </tr>\n",
       "    <tr>\n",
       "      <th>1</th>\n",
       "      <td>A</td>\n",
       "      <td>Feb</td>\n",
       "      <td>60000</td>\n",
       "      <td>5000.0</td>\n",
       "      <td>180</td>\n",
       "    </tr>\n",
       "    <tr>\n",
       "      <th>2</th>\n",
       "      <td>A</td>\n",
       "      <td>Mar</td>\n",
       "      <td>60000</td>\n",
       "      <td>5000.0</td>\n",
       "      <td>180</td>\n",
       "    </tr>\n",
       "    <tr>\n",
       "      <th>3</th>\n",
       "      <td>A</td>\n",
       "      <td>Apr</td>\n",
       "      <td>60000</td>\n",
       "      <td>5000.0</td>\n",
       "      <td>180</td>\n",
       "    </tr>\n",
       "    <tr>\n",
       "      <th>4</th>\n",
       "      <td>A</td>\n",
       "      <td>May</td>\n",
       "      <td>60000</td>\n",
       "      <td>5000.0</td>\n",
       "      <td>180</td>\n",
       "    </tr>\n",
       "  </tbody>\n",
       "</table>\n",
       "</div>"
      ],
      "text/plain": [
       "  State Month  AnnualSalary  MonthlySalary  UnitOutSourceCost\n",
       "0     A   Jan         60000         5000.0                180\n",
       "1     A   Feb         60000         5000.0                180\n",
       "2     A   Mar         60000         5000.0                180\n",
       "3     A   Apr         60000         5000.0                180\n",
       "4     A   May         60000         5000.0                180"
      ]
     },
     "execution_count": 8,
     "metadata": {},
     "output_type": "execute_result"
    }
   ],
   "source": [
    "\n",
    "cost.head()\n"
   ]
  },
  {
   "cell_type": "code",
   "execution_count": 9,
   "metadata": {},
   "outputs": [],
   "source": [
    "#Reading the data from ServiceRate sheet\n",
    "\n",
    "service_rate = pd.read_excel(\"/Users/dranzer/Documents/upGrad/DS/Course-5-Business Requirements/M7-Optimisation Case Study/Staffing+Data.xlsx\",sheet_name=\"ServiceRate\")\n"
   ]
  },
  {
   "cell_type": "code",
   "execution_count": 10,
   "metadata": {},
   "outputs": [
    {
     "data": {
      "text/html": [
       "<div>\n",
       "<style scoped>\n",
       "    .dataframe tbody tr th:only-of-type {\n",
       "        vertical-align: middle;\n",
       "    }\n",
       "\n",
       "    .dataframe tbody tr th {\n",
       "        vertical-align: top;\n",
       "    }\n",
       "\n",
       "    .dataframe thead th {\n",
       "        text-align: right;\n",
       "    }\n",
       "</style>\n",
       "<table border=\"1\" class=\"dataframe\">\n",
       "  <thead>\n",
       "    <tr style=\"text-align: right;\">\n",
       "      <th></th>\n",
       "      <th>MgAppServedPerMonth</th>\n",
       "    </tr>\n",
       "  </thead>\n",
       "  <tbody>\n",
       "    <tr>\n",
       "      <th>0</th>\n",
       "      <td>40</td>\n",
       "    </tr>\n",
       "  </tbody>\n",
       "</table>\n",
       "</div>"
      ],
      "text/plain": [
       "   MgAppServedPerMonth\n",
       "0                   40"
      ]
     },
     "execution_count": 10,
     "metadata": {},
     "output_type": "execute_result"
    }
   ],
   "source": [
    "service_rate"
   ]
  },
  {
   "cell_type": "markdown",
   "metadata": {},
   "source": [
    "### Now that we have imported the data from the excel workbook into the pandas dataframes, let's now create dictionaries which will help us solve the problem statement. We can create these dictionaries from the respective dataframes by setting up the index values as KEYS and the others as VALUES."
   ]
  },
  {
   "cell_type": "markdown",
   "metadata": {},
   "source": [
    "## Data pre-processing "
   ]
  },
  {
   "cell_type": "code",
   "execution_count": 11,
   "metadata": {},
   "outputs": [],
   "source": [
    "# Create the required Python data structures for indexes and parameters\n",
    "\n",
    "# Let's start by creating Dictionaries"
   ]
  },
  {
   "cell_type": "code",
   "execution_count": 12,
   "metadata": {},
   "outputs": [],
   "source": [
    "#Let's create a dictionary for the DemandData dataframe\n",
    "\n",
    "dict_demand = demand_data.set_index(['State','Month'])['Demand'].to_dict()\n"
   ]
  },
  {
   "cell_type": "code",
   "execution_count": 13,
   "metadata": {},
   "outputs": [
    {
     "data": {
      "text/plain": [
       "{('A', 'Jan'): 5240,\n",
       " ('A', 'Feb'): 4878,\n",
       " ('A', 'Mar'): 5942,\n",
       " ('A', 'Apr'): 2297,\n",
       " ('A', 'May'): 1992,\n",
       " ('A', 'Jun'): 2275,\n",
       " ('A', 'Jul'): 5334,\n",
       " ('A', 'Aug'): 3371,\n",
       " ('A', 'Sep'): 3759,\n",
       " ('A', 'Oct'): 3529,\n",
       " ('A', 'Nov'): 4284,\n",
       " ('A', 'Dec'): 5183,\n",
       " ('B', 'Jan'): 4927,\n",
       " ('B', 'Feb'): 2628,\n",
       " ('B', 'Mar'): 2974,\n",
       " ('B', 'Apr'): 2338,\n",
       " ('B', 'May'): 4020,\n",
       " ('B', 'Jun'): 3147,\n",
       " ('B', 'Jul'): 4271,\n",
       " ('B', 'Aug'): 2620,\n",
       " ('B', 'Sep'): 4517,\n",
       " ('B', 'Oct'): 4155,\n",
       " ('B', 'Nov'): 3137,\n",
       " ('B', 'Dec'): 4227,\n",
       " ('C', 'Jan'): 1162,\n",
       " ('C', 'Feb'): 1967,\n",
       " ('C', 'Mar'): 1898,\n",
       " ('C', 'Apr'): 2261,\n",
       " ('C', 'May'): 2030,\n",
       " ('C', 'Jun'): 1642,\n",
       " ('C', 'Jul'): 2489,\n",
       " ('C', 'Aug'): 2496,\n",
       " ('C', 'Sep'): 922,\n",
       " ('C', 'Oct'): 2421,\n",
       " ('C', 'Nov'): 963,\n",
       " ('C', 'Dec'): 1998}"
      ]
     },
     "execution_count": 13,
     "metadata": {},
     "output_type": "execute_result"
    }
   ],
   "source": [
    "dict_demand"
   ]
  },
  {
   "cell_type": "code",
   "execution_count": 14,
   "metadata": {},
   "outputs": [],
   "source": [
    "#Let's create a dictionary for the FullTimeEquivalent employees with their Monthly Salaries from COST dataframe\n",
    "\n",
    "dict_FTE_Salary = cost.set_index(['State','Month'])['MonthlySalary'].to_dict()\n",
    "\n"
   ]
  },
  {
   "cell_type": "code",
   "execution_count": 15,
   "metadata": {},
   "outputs": [
    {
     "data": {
      "text/plain": [
       "{('A', 'Jan'): 5000.0,\n",
       " ('A', 'Feb'): 5000.0,\n",
       " ('A', 'Mar'): 5000.0,\n",
       " ('A', 'Apr'): 5000.0,\n",
       " ('A', 'May'): 5000.0,\n",
       " ('A', 'Jun'): 5000.0,\n",
       " ('A', 'Jul'): 5000.0,\n",
       " ('A', 'Aug'): 5000.0,\n",
       " ('A', 'Sep'): 5000.0,\n",
       " ('A', 'Oct'): 5000.0,\n",
       " ('A', 'Nov'): 5000.0,\n",
       " ('A', 'Dec'): 5000.0,\n",
       " ('B', 'Jan'): 4583.333333333333,\n",
       " ('B', 'Feb'): 4583.333333333333,\n",
       " ('B', 'Mar'): 4583.333333333333,\n",
       " ('B', 'Apr'): 4583.333333333333,\n",
       " ('B', 'May'): 4583.333333333333,\n",
       " ('B', 'Jun'): 4583.333333333333,\n",
       " ('B', 'Jul'): 4583.333333333333,\n",
       " ('B', 'Aug'): 4583.333333333333,\n",
       " ('B', 'Sep'): 4583.333333333333,\n",
       " ('B', 'Oct'): 4583.333333333333,\n",
       " ('B', 'Nov'): 4583.333333333333,\n",
       " ('B', 'Dec'): 4583.333333333333,\n",
       " ('C', 'Jan'): 4416.666666666667,\n",
       " ('C', 'Feb'): 4416.666666666667,\n",
       " ('C', 'Mar'): 4416.666666666667,\n",
       " ('C', 'Apr'): 4416.666666666667,\n",
       " ('C', 'May'): 4416.666666666667,\n",
       " ('C', 'Jun'): 4416.666666666667,\n",
       " ('C', 'Jul'): 4416.666666666667,\n",
       " ('C', 'Aug'): 4416.666666666667,\n",
       " ('C', 'Sep'): 4416.666666666667,\n",
       " ('C', 'Oct'): 4416.666666666667,\n",
       " ('C', 'Nov'): 4416.666666666667,\n",
       " ('C', 'Dec'): 4416.666666666667}"
      ]
     },
     "execution_count": 15,
     "metadata": {},
     "output_type": "execute_result"
    }
   ],
   "source": [
    "dict_FTE_Salary"
   ]
  },
  {
   "cell_type": "code",
   "execution_count": 16,
   "metadata": {},
   "outputs": [],
   "source": [
    "#Let's create a dictionary for the OutSourced employees with their Unit Out Source Cost from COST dataframe\n",
    "\n",
    "dict_OSE_UnitCost = cost.set_index(['State','Month'])['UnitOutSourceCost'].to_dict()\n"
   ]
  },
  {
   "cell_type": "code",
   "execution_count": 17,
   "metadata": {},
   "outputs": [
    {
     "data": {
      "text/plain": [
       "{('A', 'Jan'): 180,\n",
       " ('A', 'Feb'): 180,\n",
       " ('A', 'Mar'): 180,\n",
       " ('A', 'Apr'): 180,\n",
       " ('A', 'May'): 180,\n",
       " ('A', 'Jun'): 180,\n",
       " ('A', 'Jul'): 180,\n",
       " ('A', 'Aug'): 180,\n",
       " ('A', 'Sep'): 180,\n",
       " ('A', 'Oct'): 180,\n",
       " ('A', 'Nov'): 180,\n",
       " ('A', 'Dec'): 180,\n",
       " ('B', 'Jan'): 150,\n",
       " ('B', 'Feb'): 150,\n",
       " ('B', 'Mar'): 150,\n",
       " ('B', 'Apr'): 150,\n",
       " ('B', 'May'): 150,\n",
       " ('B', 'Jun'): 150,\n",
       " ('B', 'Jul'): 150,\n",
       " ('B', 'Aug'): 150,\n",
       " ('B', 'Sep'): 150,\n",
       " ('B', 'Oct'): 150,\n",
       " ('B', 'Nov'): 150,\n",
       " ('B', 'Dec'): 150,\n",
       " ('C', 'Jan'): 160,\n",
       " ('C', 'Feb'): 160,\n",
       " ('C', 'Mar'): 160,\n",
       " ('C', 'Apr'): 160,\n",
       " ('C', 'May'): 160,\n",
       " ('C', 'Jun'): 160,\n",
       " ('C', 'Jul'): 160,\n",
       " ('C', 'Aug'): 160,\n",
       " ('C', 'Sep'): 160,\n",
       " ('C', 'Oct'): 160,\n",
       " ('C', 'Nov'): 160,\n",
       " ('C', 'Dec'): 160}"
      ]
     },
     "execution_count": 17,
     "metadata": {},
     "output_type": "execute_result"
    }
   ],
   "source": [
    "\n",
    "dict_OSE_UnitCost\n"
   ]
  },
  {
   "cell_type": "code",
   "execution_count": 18,
   "metadata": {},
   "outputs": [],
   "source": [
    "# Number of Applications when an FTE employee is working for 100 percent of his working days\n",
    "\n",
    "FTE_ApplnServiceRate = service_rate.iloc[0,0]\n"
   ]
  },
  {
   "cell_type": "code",
   "execution_count": 19,
   "metadata": {},
   "outputs": [
    {
     "data": {
      "text/plain": [
       "40"
      ]
     },
     "execution_count": 19,
     "metadata": {},
     "output_type": "execute_result"
    }
   ],
   "source": [
    "FTE_ApplnServiceRate"
   ]
  },
  {
   "cell_type": "code",
   "execution_count": 20,
   "metadata": {},
   "outputs": [],
   "source": [
    "#Let's now create dictionaries for the StaffAvailability dataframe\n",
    "\n",
    "#Dictionary for the Lower Bound of Staff Availability\n",
    "\n",
    "dict_StaffAvail_LB = staff_avail.set_index(['State','Month'])['LB'].to_dict()\n"
   ]
  },
  {
   "cell_type": "code",
   "execution_count": 21,
   "metadata": {},
   "outputs": [
    {
     "data": {
      "text/plain": [
       "{('A', 'Jan'): 0.7,\n",
       " ('A', 'Feb'): 0.65,\n",
       " ('A', 'Mar'): 0.7,\n",
       " ('A', 'Apr'): 0.75,\n",
       " ('A', 'May'): 0.7,\n",
       " ('A', 'Jun'): 0.65,\n",
       " ('A', 'Jul'): 0.6,\n",
       " ('A', 'Aug'): 0.65,\n",
       " ('A', 'Sep'): 0.7,\n",
       " ('A', 'Oct'): 0.65,\n",
       " ('A', 'Nov'): 0.6,\n",
       " ('A', 'Dec'): 0.6,\n",
       " ('B', 'Jan'): 0.7,\n",
       " ('B', 'Feb'): 0.65,\n",
       " ('B', 'Mar'): 0.7,\n",
       " ('B', 'Apr'): 0.75,\n",
       " ('B', 'May'): 0.7,\n",
       " ('B', 'Jun'): 0.65,\n",
       " ('B', 'Jul'): 0.6,\n",
       " ('B', 'Aug'): 0.65,\n",
       " ('B', 'Sep'): 0.7,\n",
       " ('B', 'Oct'): 0.65,\n",
       " ('B', 'Nov'): 0.6,\n",
       " ('B', 'Dec'): 0.6,\n",
       " ('C', 'Jan'): 0.7,\n",
       " ('C', 'Feb'): 0.65,\n",
       " ('C', 'Mar'): 0.7,\n",
       " ('C', 'Apr'): 0.75,\n",
       " ('C', 'May'): 0.7,\n",
       " ('C', 'Jun'): 0.65,\n",
       " ('C', 'Jul'): 0.6,\n",
       " ('C', 'Aug'): 0.65,\n",
       " ('C', 'Sep'): 0.7,\n",
       " ('C', 'Oct'): 0.65,\n",
       " ('C', 'Nov'): 0.6,\n",
       " ('C', 'Dec'): 0.6}"
      ]
     },
     "execution_count": 21,
     "metadata": {},
     "output_type": "execute_result"
    }
   ],
   "source": [
    "dict_StaffAvail_LB"
   ]
  },
  {
   "cell_type": "code",
   "execution_count": 22,
   "metadata": {},
   "outputs": [],
   "source": [
    "#Dictionary for the Upper Bound of Staff Availability\n",
    "\n",
    "dict_StaffAvail_UB = staff_avail.set_index(['State','Month'])['UB'].to_dict()\n",
    "\n"
   ]
  },
  {
   "cell_type": "code",
   "execution_count": 23,
   "metadata": {},
   "outputs": [
    {
     "data": {
      "text/plain": [
       "{('A', 'Jan'): 0.9,\n",
       " ('A', 'Feb'): 0.85,\n",
       " ('A', 'Mar'): 0.8,\n",
       " ('A', 'Apr'): 0.85,\n",
       " ('A', 'May'): 0.85,\n",
       " ('A', 'Jun'): 0.8,\n",
       " ('A', 'Jul'): 0.75,\n",
       " ('A', 'Aug'): 0.85,\n",
       " ('A', 'Sep'): 0.9,\n",
       " ('A', 'Oct'): 0.8,\n",
       " ('A', 'Nov'): 0.75,\n",
       " ('A', 'Dec'): 0.7,\n",
       " ('B', 'Jan'): 0.9,\n",
       " ('B', 'Feb'): 0.85,\n",
       " ('B', 'Mar'): 0.8,\n",
       " ('B', 'Apr'): 0.85,\n",
       " ('B', 'May'): 0.85,\n",
       " ('B', 'Jun'): 0.8,\n",
       " ('B', 'Jul'): 0.75,\n",
       " ('B', 'Aug'): 0.85,\n",
       " ('B', 'Sep'): 0.9,\n",
       " ('B', 'Oct'): 0.8,\n",
       " ('B', 'Nov'): 0.75,\n",
       " ('B', 'Dec'): 0.7,\n",
       " ('C', 'Jan'): 0.9,\n",
       " ('C', 'Feb'): 0.85,\n",
       " ('C', 'Mar'): 0.8,\n",
       " ('C', 'Apr'): 0.85,\n",
       " ('C', 'May'): 0.85,\n",
       " ('C', 'Jun'): 0.8,\n",
       " ('C', 'Jul'): 0.75,\n",
       " ('C', 'Aug'): 0.85,\n",
       " ('C', 'Sep'): 0.9,\n",
       " ('C', 'Oct'): 0.8,\n",
       " ('C', 'Nov'): 0.75,\n",
       " ('C', 'Dec'): 0.7}"
      ]
     },
     "execution_count": 23,
     "metadata": {},
     "output_type": "execute_result"
    }
   ],
   "source": [
    "dict_StaffAvail_UB"
   ]
  },
  {
   "cell_type": "code",
   "execution_count": 24,
   "metadata": {},
   "outputs": [],
   "source": [
    "#Dictionary for the Average availability of an FTE (Full Time Employee equivalent) in percentages\n",
    "\n",
    "dict_StaffAvailPer_FTE = staff_avail.set_index(['State','Month'])['StaffAvPer'].to_dict()\n"
   ]
  },
  {
   "cell_type": "code",
   "execution_count": 25,
   "metadata": {},
   "outputs": [
    {
     "data": {
      "text/plain": [
       "{('A', 'Jan'): 0.81,\n",
       " ('A', 'Feb'): 0.76,\n",
       " ('A', 'Mar'): 0.75,\n",
       " ('A', 'Apr'): 0.8,\n",
       " ('A', 'May'): 0.78,\n",
       " ('A', 'Jun'): 0.73,\n",
       " ('A', 'Jul'): 0.68,\n",
       " ('A', 'Aug'): 0.76,\n",
       " ('A', 'Sep'): 0.81,\n",
       " ('A', 'Oct'): 0.73,\n",
       " ('A', 'Nov'): 0.68,\n",
       " ('A', 'Dec'): 0.65,\n",
       " ('B', 'Jan'): 0.81,\n",
       " ('B', 'Feb'): 0.76,\n",
       " ('B', 'Mar'): 0.75,\n",
       " ('B', 'Apr'): 0.8,\n",
       " ('B', 'May'): 0.78,\n",
       " ('B', 'Jun'): 0.73,\n",
       " ('B', 'Jul'): 0.68,\n",
       " ('B', 'Aug'): 0.76,\n",
       " ('B', 'Sep'): 0.81,\n",
       " ('B', 'Oct'): 0.73,\n",
       " ('B', 'Nov'): 0.68,\n",
       " ('B', 'Dec'): 0.65,\n",
       " ('C', 'Jan'): 0.81,\n",
       " ('C', 'Feb'): 0.76,\n",
       " ('C', 'Mar'): 0.75,\n",
       " ('C', 'Apr'): 0.8,\n",
       " ('C', 'May'): 0.78,\n",
       " ('C', 'Jun'): 0.73,\n",
       " ('C', 'Jul'): 0.68,\n",
       " ('C', 'Aug'): 0.76,\n",
       " ('C', 'Sep'): 0.81,\n",
       " ('C', 'Oct'): 0.73,\n",
       " ('C', 'Nov'): 0.68,\n",
       " ('C', 'Dec'): 0.65}"
      ]
     },
     "execution_count": 25,
     "metadata": {},
     "output_type": "execute_result"
    }
   ],
   "source": [
    "dict_StaffAvailPer_FTE"
   ]
  },
  {
   "cell_type": "markdown",
   "metadata": {},
   "source": [
    "#### We also need to extract the state(i) and the month(j) values because they are the indices. So, let's do that by extracting them from the cost dataframe. "
   ]
  },
  {
   "cell_type": "code",
   "execution_count": 26,
   "metadata": {},
   "outputs": [],
   "source": [
    "#Extracting the index values i.e., the state(i) and month(j) values\n",
    "\n",
    "location_state = cost['State'].unique().tolist()     \n",
    "\n",
    "month = cost['Month'].unique().tolist()\n"
   ]
  },
  {
   "cell_type": "code",
   "execution_count": 27,
   "metadata": {},
   "outputs": [
    {
     "data": {
      "text/plain": [
       "['A', 'B', 'C']"
      ]
     },
     "execution_count": 27,
     "metadata": {},
     "output_type": "execute_result"
    }
   ],
   "source": [
    "#Printing the location_state values \n",
    "\n",
    "location_state"
   ]
  },
  {
   "cell_type": "code",
   "execution_count": 28,
   "metadata": {},
   "outputs": [
    {
     "data": {
      "text/plain": [
       "['Jan',\n",
       " 'Feb',\n",
       " 'Mar',\n",
       " 'Apr',\n",
       " 'May',\n",
       " 'Jun',\n",
       " 'Jul',\n",
       " 'Aug',\n",
       " 'Sep',\n",
       " 'Oct',\n",
       " 'Nov',\n",
       " 'Dec']"
      ]
     },
     "execution_count": 28,
     "metadata": {},
     "output_type": "execute_result"
    }
   ],
   "source": [
    "#Printing the month values\n",
    "\n",
    "month\n"
   ]
  },
  {
   "cell_type": "markdown",
   "metadata": {},
   "source": [
    "# Question 1\n",
    "\n",
    "The company wants to know the optimised staffing recommendations for the business case described. \n",
    "Write the mathematical model for the deterministic optimisation problem. Define and explain your decision variables, objective function and the constraint. (Hint: Use months of the year as the model timeline).\n",
    "\n"
   ]
  },
  {
   "cell_type": "markdown",
   "metadata": {},
   "source": [
    "**Sets:** \n",
    "\n",
    "To define the indexes for the given problem <br>\n",
    "- Bank location : i\n",
    "- Month : j\n",
    "\n",
    "---\n",
    "\n",
    "\n",
    "**Parameter:**\n",
    "- State-wise demand for insurance for the year : Demand(i,j)\n",
    "- Staff Availability percentage at particular location : StaffAv(i,j)\n",
    "- Full Time Employee(FTE) Salary per month : FTESalary(i,j)\n",
    "- Unit Outsourcing Cost : UnitOutSourceCost(i,j)\n",
    "- Maximum number of Application that can be served by FTE per month : 40\n",
    "\n",
    "---\n",
    "\n",
    "**Decision Variable:**\n",
    "- FTE Equivalent at any location in a month : X(i,j)\n",
    "- Outsourced Application Quantity in a Month : Y(i,j)\n",
    "\n",
    "---\n",
    "\n",
    "**Objective Function:**\n",
    "\n",
    "1) Annual Total Cost of FTE\n",
    "   \\begin{align}\n",
    " {X}_{i,j} * \\text {FTESalary}_{i,j}\n",
    "\\end{align}\n",
    "   \n",
    "   \n",
    "   \n",
    "2) Annual Total Cost of Outsourced Insurance Application\n",
    "\\begin{align}\n",
    " {Y}_{i,j} * \\text {UnitCost}_{i,j}\n",
    "\\end{align}\n",
    "\n",
    "\n",
    "\n",
    "\n",
    "- Objective is to minimize the Total Cost(1+2):\n",
    "\\begin{align}\n",
    "\\textrm {min}\\sum \\limits _{i,j} \\text ({X}_{i,j} * \\text {FTESalary}_{i,j}) + ({Y}_{i,j} * \\text {UnitCost}_{i,j})\n",
    "\\end{align}\n",
    "\n",
    "---\n",
    "\n",
    "**Constraint:**\n",
    "- Sum of Full Time Equivalent Applications and the Outsourced Applications must be equal to Demand\n",
    "   \n",
    "   X(i,j) * StaffAv(i,j) * 40 + Y(i,j) = Demand(i,j)\n",
    "\n",
    "  \n",
    "  Regulatory Constraint\n",
    "\n",
    "1) For State A outsourced insurance applications cannot be more than 30% of the total number of applications for each month.\n",
    "   - Y(i,j) <= Demand(i,j) * 30%   \n",
    "   \n",
    "2) For State B outsourced insurance applications cannot be more than 40% of the total number of applications for each month.\n",
    "   - Y(i,j) <= Demand(i,j) * 40%\n",
    "\n",
    "\n",
    "\n",
    "\n",
    "- Y(i,j) should be Integer\n",
    "\n",
    "\n",
    "- X(i,j) should be continous\n"
   ]
  },
  {
   "cell_type": "markdown",
   "metadata": {},
   "source": [
    "**Note:** You can write the mathematical formulation directly in your report."
   ]
  },
  {
   "cell_type": "markdown",
   "metadata": {},
   "source": [
    "# Question 2\n",
    "\n",
    "Code the problem is Python and use any optimization package to solve it. Add comments to your code to explain each step. "
   ]
  },
  {
   "cell_type": "markdown",
   "metadata": {},
   "source": [
    "#### Expected output:\n",
    "\n",
    "Create a data frame containing the number of outsourced applications  and the number of FTEs for each state-month combination. You can choose to have extra columns like staff availability, demand etc. in your dataframe apart from the ones mentioned earlier. "
   ]
  },
  {
   "cell_type": "code",
   "execution_count": 29,
   "metadata": {},
   "outputs": [],
   "source": [
    "# Creating a model instance\n",
    "\n",
    "model = ConcreteModel()\n"
   ]
  },
  {
   "cell_type": "code",
   "execution_count": 30,
   "metadata": {},
   "outputs": [],
   "source": [
    "# Define Pyomo sets and Parameters\n"
   ]
  },
  {
   "cell_type": "code",
   "execution_count": 31,
   "metadata": {},
   "outputs": [],
   "source": [
    "# Let's now define the Sets\n",
    "\n",
    "# i --------> insurance company's locations A,B,C\n",
    "\n",
    "# j --------> months Jan,Feb,Mar,....,Dec\n",
    "\n",
    "\n",
    "model.i = Set(initialize = location_state, doc = 'States')\n",
    "\n",
    "model.j = Set(initialize = month, doc = 'Months')\n",
    "\n",
    "\n",
    "\n"
   ]
  },
  {
   "cell_type": "code",
   "execution_count": 32,
   "metadata": {},
   "outputs": [],
   "source": [
    "# Let's now define the parameters"
   ]
  },
  {
   "cell_type": "code",
   "execution_count": 33,
   "metadata": {},
   "outputs": [],
   "source": [
    "#Let's start with defining the parameters for Demand\n",
    "\n",
    "\n",
    "model.demand_par = Param(model.i, model.j, initialize=dict_demand, doc = 'Demand')\n",
    "\n"
   ]
  },
  {
   "cell_type": "code",
   "execution_count": 34,
   "metadata": {},
   "outputs": [],
   "source": [
    "#Parameter for FTE_Salary\n",
    "\n",
    "model.salaryFTE_par = Param(model.i,model.j,initialize=dict_FTE_Salary, doc = 'FTE_Salary')\n"
   ]
  },
  {
   "cell_type": "code",
   "execution_count": 35,
   "metadata": {},
   "outputs": [],
   "source": [
    "#Parameter for OSE_UnitCost\n",
    "\n",
    "model.unitcostOSE_par = Param(model.i,model.j,initialize=dict_OSE_UnitCost, doc = 'UnitOutSourceCost')\n"
   ]
  },
  {
   "cell_type": "code",
   "execution_count": 36,
   "metadata": {},
   "outputs": [],
   "source": [
    "#Parameter for Staff_Availability_FTE\n",
    "\n",
    "model.staffAvailFTE_par = Param(model.i,model.j,initialize=dict_StaffAvailPer_FTE, doc = 'Avg_StaffAvailability_FTE')\n",
    "\n"
   ]
  },
  {
   "cell_type": "code",
   "execution_count": 37,
   "metadata": {},
   "outputs": [],
   "source": [
    "#Parameter for Service rate of application when all (100 percent) of the FTE Employees are working\n",
    "\n",
    "model.rate_FTEAppService_par = Param(initialize=FTE_ApplnServiceRate, doc='FTEApplnServiceRate')\n",
    "\n"
   ]
  },
  {
   "cell_type": "code",
   "execution_count": 38,
   "metadata": {},
   "outputs": [],
   "source": [
    "#Parameter for how many applications can be processed for the given staff availability\n",
    "\n",
    "def function_FTEAPP(model,i,j):\n",
    "    return model.rate_FTEAppService_par * model.staffAvailFTE_par[i,j]\n",
    "\n",
    "model.FTEAppNumber = Param(model.i,model.j,initialize = function_FTEAPP, doc = 'Number_of_FTE_Applications')\n",
    "\n"
   ]
  },
  {
   "cell_type": "code",
   "execution_count": 39,
   "metadata": {},
   "outputs": [],
   "source": [
    "#Regulatory Constraint for State A\n",
    "\n",
    "def function_Reg_A(model,i,j):\n",
    "    return 0.30*model.demand_par[i,j]\n",
    "\n",
    "model.Reg_A = Param(model.i,model.j,initialize = function_Reg_A, doc = 'RegulatoryConstraint_Reg_A')\n",
    "\n"
   ]
  },
  {
   "cell_type": "code",
   "execution_count": 40,
   "metadata": {},
   "outputs": [],
   "source": [
    "#Regulatory Constraint for State B\n",
    "\n",
    "def function_Reg_B(model,i,j):\n",
    "    return 0.40*model.demand_par[i,j]\n",
    "\n",
    "model.Reg_B = Param(model.i,model.j,initialize = function_Reg_B, doc = 'RegulatoryConstraint_Reg_B')\n",
    "\n"
   ]
  },
  {
   "cell_type": "code",
   "execution_count": 41,
   "metadata": {},
   "outputs": [],
   "source": [
    "# Decision variables\n",
    "\n",
    "model.x = Var(model.i,model.j,domain = NonNegativeReals , doc = 'Number_of_FTE')\n",
    "\n",
    "model.y = Var(model.i,model.j,domain = NonNegativeIntegers, doc = 'Number_of_OutSourced_Applications')\n",
    "\n"
   ]
  },
  {
   "cell_type": "code",
   "execution_count": 42,
   "metadata": {},
   "outputs": [],
   "source": [
    "# Constraints\n",
    "\n",
    "# Demand Constraint\n",
    "\n",
    "model.demand_constraint = ConstraintList()\n",
    "\n",
    "for i in model.i:\n",
    "    for j in model.j:\n",
    "        model.demand_constraint.add(expr = model.x[i,j]*model.FTEAppNumber[i,j] + model.y[i,j]==model.demand_par[i,j])\n",
    "        \n",
    "\n"
   ]
  },
  {
   "cell_type": "code",
   "execution_count": 43,
   "metadata": {},
   "outputs": [],
   "source": [
    "# Constraints\n",
    "\n",
    "# Regulatory Constraint\n",
    "\n",
    "model.regulatory_constraint = ConstraintList()\n",
    "\n",
    "for i in model.i:\n",
    "    for j in model.j:\n",
    "        if i=='A':\n",
    "            model.regulatory_constraint.add(expr = model.y['A',j] <= model.Reg_A['A',j])\n",
    "        elif i=='B':\n",
    "            model.regulatory_constraint.add(expr = model.y['B',j] <= model.Reg_B['B',j])\n",
    "        \n",
    "\n"
   ]
  },
  {
   "cell_type": "code",
   "execution_count": 44,
   "metadata": {},
   "outputs": [],
   "source": [
    "# Objective function\n",
    "\n",
    "# Function for objective rule\n",
    "\n",
    "def objective_rule(model):\n",
    "    return sum(model.salaryFTE_par[i,j]*model.x[i,j] for i in model.i for j in model.j)+\\\n",
    "            sum(model.unitcostOSE_par[i,j]*model.y[i,j] for i in model.i for j in model.j)\n",
    "\n"
   ]
  },
  {
   "cell_type": "code",
   "execution_count": 45,
   "metadata": {},
   "outputs": [],
   "source": [
    "#Objective function\n",
    "\n",
    "model.objective = Objective(rule = objective_rule, sense = minimize, doc = 'DefineObjectiveFunction')\n",
    "\n"
   ]
  },
  {
   "cell_type": "code",
   "execution_count": 46,
   "metadata": {},
   "outputs": [],
   "source": [
    "# Invoking the solver\n",
    "\n",
    "result_cost = SolverFactory('glpk').solve(model)\n"
   ]
  },
  {
   "cell_type": "code",
   "execution_count": 47,
   "metadata": {},
   "outputs": [
    {
     "name": "stdout",
     "output_type": "stream",
     "text": [
      "# ==========================================================\n",
      "# = Solver Results                                         =\n",
      "# ==========================================================\n",
      "# ----------------------------------------------------------\n",
      "#   Problem Information\n",
      "# ----------------------------------------------------------\n",
      "Problem: \n",
      "- Name: unknown\n",
      "  Lower bound: 17962336.4487699\n",
      "  Upper bound: 17962336.4487699\n",
      "  Number of objectives: 1\n",
      "  Number of constraints: 61\n",
      "  Number of variables: 73\n",
      "  Number of nonzeros: 97\n",
      "  Sense: minimize\n",
      "# ----------------------------------------------------------\n",
      "#   Solver Information\n",
      "# ----------------------------------------------------------\n",
      "Solver: \n",
      "- Status: ok\n",
      "  Termination condition: optimal\n",
      "  Statistics: \n",
      "    Branch and bound: \n",
      "      Number of bounded subproblems: 0\n",
      "      Number of created subproblems: 0\n",
      "  Error rc: 0\n",
      "  Time: 0.013302087783813477\n",
      "# ----------------------------------------------------------\n",
      "#   Solution Information\n",
      "# ----------------------------------------------------------\n",
      "Solution: \n",
      "- number of solutions: 0\n",
      "  number of solutions displayed: 0\n"
     ]
    }
   ],
   "source": [
    "#Solver Results\n",
    "\n",
    "result_cost.write()\n"
   ]
  },
  {
   "cell_type": "code",
   "execution_count": 48,
   "metadata": {},
   "outputs": [
    {
     "name": "stdout",
     "output_type": "stream",
     "text": [
      "13 Set Declarations\n",
      "    FTEAppNumber_index : Size=1, Index=None, Ordered=True\n",
      "        Key  : Dimen : Domain : Size : Members\n",
      "        None :     2 :    i*j :   36 : {('A', 'Jan'), ('A', 'Feb'), ('A', 'Mar'), ('A', 'Apr'), ('A', 'May'), ('A', 'Jun'), ('A', 'Jul'), ('A', 'Aug'), ('A', 'Sep'), ('A', 'Oct'), ('A', 'Nov'), ('A', 'Dec'), ('B', 'Jan'), ('B', 'Feb'), ('B', 'Mar'), ('B', 'Apr'), ('B', 'May'), ('B', 'Jun'), ('B', 'Jul'), ('B', 'Aug'), ('B', 'Sep'), ('B', 'Oct'), ('B', 'Nov'), ('B', 'Dec'), ('C', 'Jan'), ('C', 'Feb'), ('C', 'Mar'), ('C', 'Apr'), ('C', 'May'), ('C', 'Jun'), ('C', 'Jul'), ('C', 'Aug'), ('C', 'Sep'), ('C', 'Oct'), ('C', 'Nov'), ('C', 'Dec')}\n",
      "    Reg_A_index : Size=1, Index=None, Ordered=True\n",
      "        Key  : Dimen : Domain : Size : Members\n",
      "        None :     2 :    i*j :   36 : {('A', 'Jan'), ('A', 'Feb'), ('A', 'Mar'), ('A', 'Apr'), ('A', 'May'), ('A', 'Jun'), ('A', 'Jul'), ('A', 'Aug'), ('A', 'Sep'), ('A', 'Oct'), ('A', 'Nov'), ('A', 'Dec'), ('B', 'Jan'), ('B', 'Feb'), ('B', 'Mar'), ('B', 'Apr'), ('B', 'May'), ('B', 'Jun'), ('B', 'Jul'), ('B', 'Aug'), ('B', 'Sep'), ('B', 'Oct'), ('B', 'Nov'), ('B', 'Dec'), ('C', 'Jan'), ('C', 'Feb'), ('C', 'Mar'), ('C', 'Apr'), ('C', 'May'), ('C', 'Jun'), ('C', 'Jul'), ('C', 'Aug'), ('C', 'Sep'), ('C', 'Oct'), ('C', 'Nov'), ('C', 'Dec')}\n",
      "    Reg_B_index : Size=1, Index=None, Ordered=True\n",
      "        Key  : Dimen : Domain : Size : Members\n",
      "        None :     2 :    i*j :   36 : {('A', 'Jan'), ('A', 'Feb'), ('A', 'Mar'), ('A', 'Apr'), ('A', 'May'), ('A', 'Jun'), ('A', 'Jul'), ('A', 'Aug'), ('A', 'Sep'), ('A', 'Oct'), ('A', 'Nov'), ('A', 'Dec'), ('B', 'Jan'), ('B', 'Feb'), ('B', 'Mar'), ('B', 'Apr'), ('B', 'May'), ('B', 'Jun'), ('B', 'Jul'), ('B', 'Aug'), ('B', 'Sep'), ('B', 'Oct'), ('B', 'Nov'), ('B', 'Dec'), ('C', 'Jan'), ('C', 'Feb'), ('C', 'Mar'), ('C', 'Apr'), ('C', 'May'), ('C', 'Jun'), ('C', 'Jul'), ('C', 'Aug'), ('C', 'Sep'), ('C', 'Oct'), ('C', 'Nov'), ('C', 'Dec')}\n",
      "    demand_constraint_index : Size=1, Index=None, Ordered=Insertion\n",
      "        Key  : Dimen : Domain : Size : Members\n",
      "        None :     1 :    Any :   36 : {1, 2, 3, 4, 5, 6, 7, 8, 9, 10, 11, 12, 13, 14, 15, 16, 17, 18, 19, 20, 21, 22, 23, 24, 25, 26, 27, 28, 29, 30, 31, 32, 33, 34, 35, 36}\n",
      "    demand_par_index : Size=1, Index=None, Ordered=True\n",
      "        Key  : Dimen : Domain : Size : Members\n",
      "        None :     2 :    i*j :   36 : {('A', 'Jan'), ('A', 'Feb'), ('A', 'Mar'), ('A', 'Apr'), ('A', 'May'), ('A', 'Jun'), ('A', 'Jul'), ('A', 'Aug'), ('A', 'Sep'), ('A', 'Oct'), ('A', 'Nov'), ('A', 'Dec'), ('B', 'Jan'), ('B', 'Feb'), ('B', 'Mar'), ('B', 'Apr'), ('B', 'May'), ('B', 'Jun'), ('B', 'Jul'), ('B', 'Aug'), ('B', 'Sep'), ('B', 'Oct'), ('B', 'Nov'), ('B', 'Dec'), ('C', 'Jan'), ('C', 'Feb'), ('C', 'Mar'), ('C', 'Apr'), ('C', 'May'), ('C', 'Jun'), ('C', 'Jul'), ('C', 'Aug'), ('C', 'Sep'), ('C', 'Oct'), ('C', 'Nov'), ('C', 'Dec')}\n",
      "    i : States\n",
      "        Size=1, Index=None, Ordered=Insertion\n",
      "        Key  : Dimen : Domain : Size : Members\n",
      "        None :     1 :    Any :    3 : {'A', 'B', 'C'}\n",
      "    j : Months\n",
      "        Size=1, Index=None, Ordered=Insertion\n",
      "        Key  : Dimen : Domain : Size : Members\n",
      "        None :     1 :    Any :   12 : {'Jan', 'Feb', 'Mar', 'Apr', 'May', 'Jun', 'Jul', 'Aug', 'Sep', 'Oct', 'Nov', 'Dec'}\n",
      "    regulatory_constraint_index : Size=1, Index=None, Ordered=Insertion\n",
      "        Key  : Dimen : Domain : Size : Members\n",
      "        None :     1 :    Any :   24 : {1, 2, 3, 4, 5, 6, 7, 8, 9, 10, 11, 12, 13, 14, 15, 16, 17, 18, 19, 20, 21, 22, 23, 24}\n",
      "    salaryFTE_par_index : Size=1, Index=None, Ordered=True\n",
      "        Key  : Dimen : Domain : Size : Members\n",
      "        None :     2 :    i*j :   36 : {('A', 'Jan'), ('A', 'Feb'), ('A', 'Mar'), ('A', 'Apr'), ('A', 'May'), ('A', 'Jun'), ('A', 'Jul'), ('A', 'Aug'), ('A', 'Sep'), ('A', 'Oct'), ('A', 'Nov'), ('A', 'Dec'), ('B', 'Jan'), ('B', 'Feb'), ('B', 'Mar'), ('B', 'Apr'), ('B', 'May'), ('B', 'Jun'), ('B', 'Jul'), ('B', 'Aug'), ('B', 'Sep'), ('B', 'Oct'), ('B', 'Nov'), ('B', 'Dec'), ('C', 'Jan'), ('C', 'Feb'), ('C', 'Mar'), ('C', 'Apr'), ('C', 'May'), ('C', 'Jun'), ('C', 'Jul'), ('C', 'Aug'), ('C', 'Sep'), ('C', 'Oct'), ('C', 'Nov'), ('C', 'Dec')}\n",
      "    staffAvailFTE_par_index : Size=1, Index=None, Ordered=True\n",
      "        Key  : Dimen : Domain : Size : Members\n",
      "        None :     2 :    i*j :   36 : {('A', 'Jan'), ('A', 'Feb'), ('A', 'Mar'), ('A', 'Apr'), ('A', 'May'), ('A', 'Jun'), ('A', 'Jul'), ('A', 'Aug'), ('A', 'Sep'), ('A', 'Oct'), ('A', 'Nov'), ('A', 'Dec'), ('B', 'Jan'), ('B', 'Feb'), ('B', 'Mar'), ('B', 'Apr'), ('B', 'May'), ('B', 'Jun'), ('B', 'Jul'), ('B', 'Aug'), ('B', 'Sep'), ('B', 'Oct'), ('B', 'Nov'), ('B', 'Dec'), ('C', 'Jan'), ('C', 'Feb'), ('C', 'Mar'), ('C', 'Apr'), ('C', 'May'), ('C', 'Jun'), ('C', 'Jul'), ('C', 'Aug'), ('C', 'Sep'), ('C', 'Oct'), ('C', 'Nov'), ('C', 'Dec')}\n",
      "    unitcostOSE_par_index : Size=1, Index=None, Ordered=True\n",
      "        Key  : Dimen : Domain : Size : Members\n",
      "        None :     2 :    i*j :   36 : {('A', 'Jan'), ('A', 'Feb'), ('A', 'Mar'), ('A', 'Apr'), ('A', 'May'), ('A', 'Jun'), ('A', 'Jul'), ('A', 'Aug'), ('A', 'Sep'), ('A', 'Oct'), ('A', 'Nov'), ('A', 'Dec'), ('B', 'Jan'), ('B', 'Feb'), ('B', 'Mar'), ('B', 'Apr'), ('B', 'May'), ('B', 'Jun'), ('B', 'Jul'), ('B', 'Aug'), ('B', 'Sep'), ('B', 'Oct'), ('B', 'Nov'), ('B', 'Dec'), ('C', 'Jan'), ('C', 'Feb'), ('C', 'Mar'), ('C', 'Apr'), ('C', 'May'), ('C', 'Jun'), ('C', 'Jul'), ('C', 'Aug'), ('C', 'Sep'), ('C', 'Oct'), ('C', 'Nov'), ('C', 'Dec')}\n",
      "    x_index : Size=1, Index=None, Ordered=True\n",
      "        Key  : Dimen : Domain : Size : Members\n",
      "        None :     2 :    i*j :   36 : {('A', 'Jan'), ('A', 'Feb'), ('A', 'Mar'), ('A', 'Apr'), ('A', 'May'), ('A', 'Jun'), ('A', 'Jul'), ('A', 'Aug'), ('A', 'Sep'), ('A', 'Oct'), ('A', 'Nov'), ('A', 'Dec'), ('B', 'Jan'), ('B', 'Feb'), ('B', 'Mar'), ('B', 'Apr'), ('B', 'May'), ('B', 'Jun'), ('B', 'Jul'), ('B', 'Aug'), ('B', 'Sep'), ('B', 'Oct'), ('B', 'Nov'), ('B', 'Dec'), ('C', 'Jan'), ('C', 'Feb'), ('C', 'Mar'), ('C', 'Apr'), ('C', 'May'), ('C', 'Jun'), ('C', 'Jul'), ('C', 'Aug'), ('C', 'Sep'), ('C', 'Oct'), ('C', 'Nov'), ('C', 'Dec')}\n",
      "    y_index : Size=1, Index=None, Ordered=True\n",
      "        Key  : Dimen : Domain : Size : Members\n",
      "        None :     2 :    i*j :   36 : {('A', 'Jan'), ('A', 'Feb'), ('A', 'Mar'), ('A', 'Apr'), ('A', 'May'), ('A', 'Jun'), ('A', 'Jul'), ('A', 'Aug'), ('A', 'Sep'), ('A', 'Oct'), ('A', 'Nov'), ('A', 'Dec'), ('B', 'Jan'), ('B', 'Feb'), ('B', 'Mar'), ('B', 'Apr'), ('B', 'May'), ('B', 'Jun'), ('B', 'Jul'), ('B', 'Aug'), ('B', 'Sep'), ('B', 'Oct'), ('B', 'Nov'), ('B', 'Dec'), ('C', 'Jan'), ('C', 'Feb'), ('C', 'Mar'), ('C', 'Apr'), ('C', 'May'), ('C', 'Jun'), ('C', 'Jul'), ('C', 'Aug'), ('C', 'Sep'), ('C', 'Oct'), ('C', 'Nov'), ('C', 'Dec')}\n",
      "\n",
      "8 Param Declarations\n",
      "    FTEAppNumber : Number_of_FTE_Applications\n",
      "        Size=36, Index=FTEAppNumber_index, Domain=Any, Default=None, Mutable=False\n",
      "        Key          : Value\n",
      "        ('A', 'Apr') :               32.0\n",
      "        ('A', 'Aug') :               30.4\n",
      "        ('A', 'Dec') :               26.0\n",
      "        ('A', 'Feb') :               30.4\n",
      "        ('A', 'Jan') : 32.400000000000006\n",
      "        ('A', 'Jul') : 27.200000000000003\n",
      "        ('A', 'Jun') :               29.2\n",
      "        ('A', 'Mar') :               30.0\n",
      "        ('A', 'May') : 31.200000000000003\n",
      "        ('A', 'Nov') : 27.200000000000003\n",
      "        ('A', 'Oct') :               29.2\n",
      "        ('A', 'Sep') : 32.400000000000006\n",
      "        ('B', 'Apr') :               32.0\n",
      "        ('B', 'Aug') :               30.4\n",
      "        ('B', 'Dec') :               26.0\n",
      "        ('B', 'Feb') :               30.4\n",
      "        ('B', 'Jan') : 32.400000000000006\n",
      "        ('B', 'Jul') : 27.200000000000003\n",
      "        ('B', 'Jun') :               29.2\n",
      "        ('B', 'Mar') :               30.0\n",
      "        ('B', 'May') : 31.200000000000003\n",
      "        ('B', 'Nov') : 27.200000000000003\n",
      "        ('B', 'Oct') :               29.2\n",
      "        ('B', 'Sep') : 32.400000000000006\n",
      "        ('C', 'Apr') :               32.0\n",
      "        ('C', 'Aug') :               30.4\n",
      "        ('C', 'Dec') :               26.0\n",
      "        ('C', 'Feb') :               30.4\n",
      "        ('C', 'Jan') : 32.400000000000006\n",
      "        ('C', 'Jul') : 27.200000000000003\n",
      "        ('C', 'Jun') :               29.2\n",
      "        ('C', 'Mar') :               30.0\n",
      "        ('C', 'May') : 31.200000000000003\n",
      "        ('C', 'Nov') : 27.200000000000003\n",
      "        ('C', 'Oct') :               29.2\n",
      "        ('C', 'Sep') : 32.400000000000006\n",
      "    Reg_A : RegulatoryConstraint_Reg_A\n",
      "        Size=36, Index=Reg_A_index, Domain=Any, Default=None, Mutable=False\n",
      "        Key          : Value\n",
      "        ('A', 'Apr') :              689.1\n",
      "        ('A', 'Aug') :             1011.3\n",
      "        ('A', 'Dec') : 1554.8999999999999\n",
      "        ('A', 'Feb') : 1463.3999999999999\n",
      "        ('A', 'Jan') :             1572.0\n",
      "        ('A', 'Jul') :             1600.2\n",
      "        ('A', 'Jun') :              682.5\n",
      "        ('A', 'Mar') :             1782.6\n",
      "        ('A', 'May') :              597.6\n",
      "        ('A', 'Nov') :             1285.2\n",
      "        ('A', 'Oct') :             1058.7\n",
      "        ('A', 'Sep') :             1127.7\n",
      "        ('B', 'Apr') :              701.4\n",
      "        ('B', 'Aug') :              786.0\n",
      "        ('B', 'Dec') :             1268.1\n",
      "        ('B', 'Feb') :              788.4\n",
      "        ('B', 'Jan') :             1478.1\n",
      "        ('B', 'Jul') :             1281.3\n",
      "        ('B', 'Jun') :  944.0999999999999\n",
      "        ('B', 'Mar') :  892.1999999999999\n",
      "        ('B', 'May') :             1206.0\n",
      "        ('B', 'Nov') :  941.0999999999999\n",
      "        ('B', 'Oct') :             1246.5\n",
      "        ('B', 'Sep') :             1355.1\n",
      "        ('C', 'Apr') :              678.3\n",
      "        ('C', 'Aug') :              748.8\n",
      "        ('C', 'Dec') :              599.4\n",
      "        ('C', 'Feb') :              590.1\n",
      "        ('C', 'Jan') : 348.59999999999997\n",
      "        ('C', 'Jul') :  746.6999999999999\n",
      "        ('C', 'Jun') : 492.59999999999997\n",
      "        ('C', 'Mar') :              569.4\n",
      "        ('C', 'May') :              609.0\n",
      "        ('C', 'Nov') :              288.9\n",
      "        ('C', 'Oct') :              726.3\n",
      "        ('C', 'Sep') : 276.59999999999997\n",
      "    Reg_B : RegulatoryConstraint_Reg_B\n",
      "        Size=36, Index=Reg_B_index, Domain=Any, Default=None, Mutable=False\n",
      "        Key          : Value\n",
      "        ('A', 'Apr') :  918.8000000000001\n",
      "        ('A', 'Aug') :             1348.4\n",
      "        ('A', 'Dec') : 2073.2000000000003\n",
      "        ('A', 'Feb') :             1951.2\n",
      "        ('A', 'Jan') :             2096.0\n",
      "        ('A', 'Jul') :             2133.6\n",
      "        ('A', 'Jun') :              910.0\n",
      "        ('A', 'Mar') :             2376.8\n",
      "        ('A', 'May') :  796.8000000000001\n",
      "        ('A', 'Nov') : 1713.6000000000001\n",
      "        ('A', 'Oct') : 1411.6000000000001\n",
      "        ('A', 'Sep') : 1503.6000000000001\n",
      "        ('B', 'Apr') :              935.2\n",
      "        ('B', 'Aug') :             1048.0\n",
      "        ('B', 'Dec') : 1690.8000000000002\n",
      "        ('B', 'Feb') :             1051.2\n",
      "        ('B', 'Jan') : 1970.8000000000002\n",
      "        ('B', 'Jul') :             1708.4\n",
      "        ('B', 'Jun') : 1258.8000000000002\n",
      "        ('B', 'Mar') : 1189.6000000000001\n",
      "        ('B', 'May') :             1608.0\n",
      "        ('B', 'Nov') : 1254.8000000000002\n",
      "        ('B', 'Oct') :             1662.0\n",
      "        ('B', 'Sep') : 1806.8000000000002\n",
      "        ('C', 'Apr') :  904.4000000000001\n",
      "        ('C', 'Aug') :  998.4000000000001\n",
      "        ('C', 'Dec') :              799.2\n",
      "        ('C', 'Feb') :  786.8000000000001\n",
      "        ('C', 'Jan') :              464.8\n",
      "        ('C', 'Jul') :              995.6\n",
      "        ('C', 'Jun') :  656.8000000000001\n",
      "        ('C', 'Mar') :              759.2\n",
      "        ('C', 'May') :              812.0\n",
      "        ('C', 'Nov') : 385.20000000000005\n",
      "        ('C', 'Oct') :  968.4000000000001\n",
      "        ('C', 'Sep') :              368.8\n",
      "    demand_par : Demand\n",
      "        Size=36, Index=demand_par_index, Domain=Any, Default=None, Mutable=False\n",
      "        Key          : Value\n",
      "        ('A', 'Apr') :  2297\n",
      "        ('A', 'Aug') :  3371\n",
      "        ('A', 'Dec') :  5183\n",
      "        ('A', 'Feb') :  4878\n",
      "        ('A', 'Jan') :  5240\n",
      "        ('A', 'Jul') :  5334\n",
      "        ('A', 'Jun') :  2275\n",
      "        ('A', 'Mar') :  5942\n",
      "        ('A', 'May') :  1992\n",
      "        ('A', 'Nov') :  4284\n",
      "        ('A', 'Oct') :  3529\n",
      "        ('A', 'Sep') :  3759\n",
      "        ('B', 'Apr') :  2338\n",
      "        ('B', 'Aug') :  2620\n",
      "        ('B', 'Dec') :  4227\n",
      "        ('B', 'Feb') :  2628\n",
      "        ('B', 'Jan') :  4927\n",
      "        ('B', 'Jul') :  4271\n",
      "        ('B', 'Jun') :  3147\n",
      "        ('B', 'Mar') :  2974\n",
      "        ('B', 'May') :  4020\n",
      "        ('B', 'Nov') :  3137\n",
      "        ('B', 'Oct') :  4155\n",
      "        ('B', 'Sep') :  4517\n",
      "        ('C', 'Apr') :  2261\n",
      "        ('C', 'Aug') :  2496\n",
      "        ('C', 'Dec') :  1998\n",
      "        ('C', 'Feb') :  1967\n",
      "        ('C', 'Jan') :  1162\n",
      "        ('C', 'Jul') :  2489\n",
      "        ('C', 'Jun') :  1642\n",
      "        ('C', 'Mar') :  1898\n",
      "        ('C', 'May') :  2030\n",
      "        ('C', 'Nov') :   963\n",
      "        ('C', 'Oct') :  2421\n",
      "        ('C', 'Sep') :   922\n",
      "    rate_FTEAppService_par : FTEApplnServiceRate\n",
      "        Size=1, Index=None, Domain=Any, Default=None, Mutable=False\n",
      "        Key  : Value\n",
      "        None :    40\n",
      "    salaryFTE_par : FTE_Salary\n",
      "        Size=36, Index=salaryFTE_par_index, Domain=Any, Default=None, Mutable=False\n",
      "        Key          : Value\n",
      "        ('A', 'Apr') :            5000.0\n",
      "        ('A', 'Aug') :            5000.0\n",
      "        ('A', 'Dec') :            5000.0\n",
      "        ('A', 'Feb') :            5000.0\n",
      "        ('A', 'Jan') :            5000.0\n",
      "        ('A', 'Jul') :            5000.0\n",
      "        ('A', 'Jun') :            5000.0\n",
      "        ('A', 'Mar') :            5000.0\n",
      "        ('A', 'May') :            5000.0\n",
      "        ('A', 'Nov') :            5000.0\n",
      "        ('A', 'Oct') :            5000.0\n",
      "        ('A', 'Sep') :            5000.0\n",
      "        ('B', 'Apr') : 4583.333333333333\n",
      "        ('B', 'Aug') : 4583.333333333333\n",
      "        ('B', 'Dec') : 4583.333333333333\n",
      "        ('B', 'Feb') : 4583.333333333333\n",
      "        ('B', 'Jan') : 4583.333333333333\n",
      "        ('B', 'Jul') : 4583.333333333333\n",
      "        ('B', 'Jun') : 4583.333333333333\n",
      "        ('B', 'Mar') : 4583.333333333333\n",
      "        ('B', 'May') : 4583.333333333333\n",
      "        ('B', 'Nov') : 4583.333333333333\n",
      "        ('B', 'Oct') : 4583.333333333333\n",
      "        ('B', 'Sep') : 4583.333333333333\n",
      "        ('C', 'Apr') : 4416.666666666667\n",
      "        ('C', 'Aug') : 4416.666666666667\n",
      "        ('C', 'Dec') : 4416.666666666667\n",
      "        ('C', 'Feb') : 4416.666666666667\n",
      "        ('C', 'Jan') : 4416.666666666667\n",
      "        ('C', 'Jul') : 4416.666666666667\n",
      "        ('C', 'Jun') : 4416.666666666667\n",
      "        ('C', 'Mar') : 4416.666666666667\n",
      "        ('C', 'May') : 4416.666666666667\n",
      "        ('C', 'Nov') : 4416.666666666667\n",
      "        ('C', 'Oct') : 4416.666666666667\n",
      "        ('C', 'Sep') : 4416.666666666667\n",
      "    staffAvailFTE_par : Avg_StaffAvailability_FTE\n",
      "        Size=36, Index=staffAvailFTE_par_index, Domain=Any, Default=None, Mutable=False\n",
      "        Key          : Value\n",
      "        ('A', 'Apr') :   0.8\n",
      "        ('A', 'Aug') :  0.76\n",
      "        ('A', 'Dec') :  0.65\n",
      "        ('A', 'Feb') :  0.76\n",
      "        ('A', 'Jan') :  0.81\n",
      "        ('A', 'Jul') :  0.68\n",
      "        ('A', 'Jun') :  0.73\n",
      "        ('A', 'Mar') :  0.75\n",
      "        ('A', 'May') :  0.78\n",
      "        ('A', 'Nov') :  0.68\n",
      "        ('A', 'Oct') :  0.73\n",
      "        ('A', 'Sep') :  0.81\n",
      "        ('B', 'Apr') :   0.8\n",
      "        ('B', 'Aug') :  0.76\n",
      "        ('B', 'Dec') :  0.65\n",
      "        ('B', 'Feb') :  0.76\n",
      "        ('B', 'Jan') :  0.81\n",
      "        ('B', 'Jul') :  0.68\n",
      "        ('B', 'Jun') :  0.73\n",
      "        ('B', 'Mar') :  0.75\n",
      "        ('B', 'May') :  0.78\n",
      "        ('B', 'Nov') :  0.68\n",
      "        ('B', 'Oct') :  0.73\n",
      "        ('B', 'Sep') :  0.81\n",
      "        ('C', 'Apr') :   0.8\n",
      "        ('C', 'Aug') :  0.76\n",
      "        ('C', 'Dec') :  0.65\n",
      "        ('C', 'Feb') :  0.76\n",
      "        ('C', 'Jan') :  0.81\n",
      "        ('C', 'Jul') :  0.68\n",
      "        ('C', 'Jun') :  0.73\n",
      "        ('C', 'Mar') :  0.75\n",
      "        ('C', 'May') :  0.78\n",
      "        ('C', 'Nov') :  0.68\n",
      "        ('C', 'Oct') :  0.73\n",
      "        ('C', 'Sep') :  0.81\n",
      "    unitcostOSE_par : UnitOutSourceCost\n",
      "        Size=36, Index=unitcostOSE_par_index, Domain=Any, Default=None, Mutable=False\n",
      "        Key          : Value\n",
      "        ('A', 'Apr') :   180\n",
      "        ('A', 'Aug') :   180\n",
      "        ('A', 'Dec') :   180\n",
      "        ('A', 'Feb') :   180\n",
      "        ('A', 'Jan') :   180\n",
      "        ('A', 'Jul') :   180\n",
      "        ('A', 'Jun') :   180\n",
      "        ('A', 'Mar') :   180\n",
      "        ('A', 'May') :   180\n",
      "        ('A', 'Nov') :   180\n",
      "        ('A', 'Oct') :   180\n",
      "        ('A', 'Sep') :   180\n",
      "        ('B', 'Apr') :   150\n",
      "        ('B', 'Aug') :   150\n",
      "        ('B', 'Dec') :   150\n",
      "        ('B', 'Feb') :   150\n",
      "        ('B', 'Jan') :   150\n",
      "        ('B', 'Jul') :   150\n",
      "        ('B', 'Jun') :   150\n",
      "        ('B', 'Mar') :   150\n",
      "        ('B', 'May') :   150\n",
      "        ('B', 'Nov') :   150\n",
      "        ('B', 'Oct') :   150\n",
      "        ('B', 'Sep') :   150\n",
      "        ('C', 'Apr') :   160\n",
      "        ('C', 'Aug') :   160\n",
      "        ('C', 'Dec') :   160\n",
      "        ('C', 'Feb') :   160\n",
      "        ('C', 'Jan') :   160\n",
      "        ('C', 'Jul') :   160\n",
      "        ('C', 'Jun') :   160\n",
      "        ('C', 'Mar') :   160\n",
      "        ('C', 'May') :   160\n",
      "        ('C', 'Nov') :   160\n",
      "        ('C', 'Oct') :   160\n",
      "        ('C', 'Sep') :   160\n",
      "\n",
      "2 Var Declarations\n",
      "    x : Number_of_FTE\n",
      "        Size=36, Index=x_index\n",
      "        Key          : Lower : Value            : Upper : Fixed : Stale : Domain\n",
      "        ('A', 'Apr') :     0 :         71.78125 :  None : False : False : NonNegativeReals\n",
      "        ('A', 'Aug') :     0 : 110.888157894737 :  None : False : False : NonNegativeReals\n",
      "        ('A', 'Dec') :     0 : 139.576923076923 :  None : False : False : NonNegativeReals\n",
      "        ('A', 'Feb') :     0 : 160.460526315789 :  None : False : False : NonNegativeReals\n",
      "        ('A', 'Jan') :     0 : 161.728395061728 :  None : False : False : NonNegativeReals\n",
      "        ('A', 'Jul') :     0 : 137.279411764706 :  None : False : False : NonNegativeReals\n",
      "        ('A', 'Jun') :     0 : 77.9109589041096 :  None : False : False : NonNegativeReals\n",
      "        ('A', 'Mar') :     0 : 198.066666666667 :  None : False : False : NonNegativeReals\n",
      "        ('A', 'May') :     0 : 63.8461538461538 :  None : False : False : NonNegativeReals\n",
      "        ('A', 'Nov') :     0 : 110.257352941176 :  None : False : False : NonNegativeReals\n",
      "        ('A', 'Oct') :     0 : 120.856164383562 :  None : False : False : NonNegativeReals\n",
      "        ('A', 'Sep') :     0 : 116.018518518519 :  None : False : False : NonNegativeReals\n",
      "        ('B', 'Apr') :     0 :          73.0625 :  None : False : False : NonNegativeReals\n",
      "        ('B', 'Aug') :     0 : 51.7105263157895 :  None : False : False : NonNegativeReals\n",
      "        ('B', 'Dec') :     0 : 97.5769230769231 :  None : False : False : NonNegativeReals\n",
      "        ('B', 'Feb') :     0 :           51.875 :  None : False : False : NonNegativeReals\n",
      "        ('B', 'Jan') :     0 : 152.067901234568 :  None : False : False : NonNegativeReals\n",
      "        ('B', 'Jul') :     0 : 94.2279411764706 :  None : False : False : NonNegativeReals\n",
      "        ('B', 'Jun') :     0 : 64.6917808219178 :  None : False : False : NonNegativeReals\n",
      "        ('B', 'Mar') :     0 :             59.5 :  None : False : False : NonNegativeReals\n",
      "        ('B', 'May') :     0 : 128.846153846154 :  None : False : False : NonNegativeReals\n",
      "        ('B', 'Nov') :     0 : 69.2279411764706 :  None : False : False : NonNegativeReals\n",
      "        ('B', 'Oct') :     0 : 85.3767123287671 :  None : False : False : NonNegativeReals\n",
      "        ('B', 'Sep') :     0 : 139.413580246914 :  None : False : False : NonNegativeReals\n",
      "        ('C', 'Apr') :     0 :         70.65625 :  None : False : False : NonNegativeReals\n",
      "        ('C', 'Aug') :     0 : 82.1052631578947 :  None : False : False : NonNegativeReals\n",
      "        ('C', 'Dec') :     0 :              0.0 :  None : False : False : NonNegativeReals\n",
      "        ('C', 'Feb') :     0 : 64.7039473684211 :  None : False : False : NonNegativeReals\n",
      "        ('C', 'Jan') :     0 : 35.8641975308642 :  None : False : False : NonNegativeReals\n",
      "        ('C', 'Jul') :     0 :              0.0 :  None : False : False : NonNegativeReals\n",
      "        ('C', 'Jun') :     0 : 56.2328767123288 :  None : False : False : NonNegativeReals\n",
      "        ('C', 'Mar') :     0 : 63.2666666666667 :  None : False : False : NonNegativeReals\n",
      "        ('C', 'May') :     0 : 65.0641025641026 :  None : False : False : NonNegativeReals\n",
      "        ('C', 'Nov') :     0 :              0.0 :  None : False : False : NonNegativeReals\n",
      "        ('C', 'Oct') :     0 : 82.9109589041096 :  None : False : False : NonNegativeReals\n",
      "        ('C', 'Sep') :     0 : 28.4567901234568 :  None : False : False : NonNegativeReals\n",
      "    y : Number_of_OutSourced_Applications\n",
      "        Size=36, Index=y_index\n",
      "        Key          : Lower : Value  : Upper : Fixed : Stale : Domain\n",
      "        ('A', 'Apr') :     0 :    0.0 :  None : False : False : NonNegativeIntegers\n",
      "        ('A', 'Aug') :     0 :    0.0 :  None : False : False : NonNegativeIntegers\n",
      "        ('A', 'Dec') :     0 : 1554.0 :  None : False : False : NonNegativeIntegers\n",
      "        ('A', 'Feb') :     0 :    0.0 :  None : False : False : NonNegativeIntegers\n",
      "        ('A', 'Jan') :     0 :    0.0 :  None : False : False : NonNegativeIntegers\n",
      "        ('A', 'Jul') :     0 : 1600.0 :  None : False : False : NonNegativeIntegers\n",
      "        ('A', 'Jun') :     0 :    0.0 :  None : False : False : NonNegativeIntegers\n",
      "        ('A', 'Mar') :     0 :    0.0 :  None : False : False : NonNegativeIntegers\n",
      "        ('A', 'May') :     0 :    0.0 :  None : False : False : NonNegativeIntegers\n",
      "        ('A', 'Nov') :     0 : 1285.0 :  None : False : False : NonNegativeIntegers\n",
      "        ('A', 'Oct') :     0 :    0.0 :  None : False : False : NonNegativeIntegers\n",
      "        ('A', 'Sep') :     0 :    0.0 :  None : False : False : NonNegativeIntegers\n",
      "        ('B', 'Apr') :     0 :    0.0 :  None : False : False : NonNegativeIntegers\n",
      "        ('B', 'Aug') :     0 : 1048.0 :  None : False : False : NonNegativeIntegers\n",
      "        ('B', 'Dec') :     0 : 1690.0 :  None : False : False : NonNegativeIntegers\n",
      "        ('B', 'Feb') :     0 : 1051.0 :  None : False : False : NonNegativeIntegers\n",
      "        ('B', 'Jan') :     0 :    0.0 :  None : False : False : NonNegativeIntegers\n",
      "        ('B', 'Jul') :     0 : 1708.0 :  None : False : False : NonNegativeIntegers\n",
      "        ('B', 'Jun') :     0 : 1258.0 :  None : False : False : NonNegativeIntegers\n",
      "        ('B', 'Mar') :     0 : 1189.0 :  None : False : False : NonNegativeIntegers\n",
      "        ('B', 'May') :     0 :    0.0 :  None : False : False : NonNegativeIntegers\n",
      "        ('B', 'Nov') :     0 : 1254.0 :  None : False : False : NonNegativeIntegers\n",
      "        ('B', 'Oct') :     0 : 1662.0 :  None : False : False : NonNegativeIntegers\n",
      "        ('B', 'Sep') :     0 :    0.0 :  None : False : False : NonNegativeIntegers\n",
      "        ('C', 'Apr') :     0 :    0.0 :  None : False : False : NonNegativeIntegers\n",
      "        ('C', 'Aug') :     0 :    0.0 :  None : False : False : NonNegativeIntegers\n",
      "        ('C', 'Dec') :     0 : 1998.0 :  None : False : False : NonNegativeIntegers\n",
      "        ('C', 'Feb') :     0 :    0.0 :  None : False : False : NonNegativeIntegers\n",
      "        ('C', 'Jan') :     0 :    0.0 :  None : False : False : NonNegativeIntegers\n",
      "        ('C', 'Jul') :     0 : 2489.0 :  None : False : False : NonNegativeIntegers\n",
      "        ('C', 'Jun') :     0 :    0.0 :  None : False : False : NonNegativeIntegers\n",
      "        ('C', 'Mar') :     0 :    0.0 :  None : False : False : NonNegativeIntegers\n",
      "        ('C', 'May') :     0 :    0.0 :  None : False : False : NonNegativeIntegers\n",
      "        ('C', 'Nov') :     0 :  963.0 :  None : False : False : NonNegativeIntegers\n",
      "        ('C', 'Oct') :     0 :    0.0 :  None : False : False : NonNegativeIntegers\n",
      "        ('C', 'Sep') :     0 :    0.0 :  None : False : False : NonNegativeIntegers\n",
      "\n",
      "1 Objective Declarations\n",
      "    objective : DefineObjectiveFunction\n",
      "        Size=1, Index=None, Active=True\n",
      "        Key  : Active : Sense    : Expression\n",
      "        None :   True : minimize : 5000.0*x[A,Jan] + 5000.0*x[A,Feb] + 5000.0*x[A,Mar] + 5000.0*x[A,Apr] + 5000.0*x[A,May] + 5000.0*x[A,Jun] + 5000.0*x[A,Jul] + 5000.0*x[A,Aug] + 5000.0*x[A,Sep] + 5000.0*x[A,Oct] + 5000.0*x[A,Nov] + 5000.0*x[A,Dec] + 4583.333333333333*x[B,Jan] + 4583.333333333333*x[B,Feb] + 4583.333333333333*x[B,Mar] + 4583.333333333333*x[B,Apr] + 4583.333333333333*x[B,May] + 4583.333333333333*x[B,Jun] + 4583.333333333333*x[B,Jul] + 4583.333333333333*x[B,Aug] + 4583.333333333333*x[B,Sep] + 4583.333333333333*x[B,Oct] + 4583.333333333333*x[B,Nov] + 4583.333333333333*x[B,Dec] + 4416.666666666667*x[C,Jan] + 4416.666666666667*x[C,Feb] + 4416.666666666667*x[C,Mar] + 4416.666666666667*x[C,Apr] + 4416.666666666667*x[C,May] + 4416.666666666667*x[C,Jun] + 4416.666666666667*x[C,Jul] + 4416.666666666667*x[C,Aug] + 4416.666666666667*x[C,Sep] + 4416.666666666667*x[C,Oct] + 4416.666666666667*x[C,Nov] + 4416.666666666667*x[C,Dec] + 180*y[A,Jan] + 180*y[A,Feb] + 180*y[A,Mar] + 180*y[A,Apr] + 180*y[A,May] + 180*y[A,Jun] + 180*y[A,Jul] + 180*y[A,Aug] + 180*y[A,Sep] + 180*y[A,Oct] + 180*y[A,Nov] + 180*y[A,Dec] + 150*y[B,Jan] + 150*y[B,Feb] + 150*y[B,Mar] + 150*y[B,Apr] + 150*y[B,May] + 150*y[B,Jun] + 150*y[B,Jul] + 150*y[B,Aug] + 150*y[B,Sep] + 150*y[B,Oct] + 150*y[B,Nov] + 150*y[B,Dec] + 160*y[C,Jan] + 160*y[C,Feb] + 160*y[C,Mar] + 160*y[C,Apr] + 160*y[C,May] + 160*y[C,Jun] + 160*y[C,Jul] + 160*y[C,Aug] + 160*y[C,Sep] + 160*y[C,Oct] + 160*y[C,Nov] + 160*y[C,Dec]\n",
      "\n",
      "2 Constraint Declarations\n",
      "    demand_constraint : Size=36, Index=demand_constraint_index, Active=True\n",
      "        Key : Lower  : Body                                   : Upper  : Active\n",
      "          1 : 5240.0 : 32.400000000000006*x[A,Jan] + y[A,Jan] : 5240.0 :   True\n",
      "          2 : 4878.0 :               30.4*x[A,Feb] + y[A,Feb] : 4878.0 :   True\n",
      "          3 : 5942.0 :               30.0*x[A,Mar] + y[A,Mar] : 5942.0 :   True\n",
      "          4 : 2297.0 :               32.0*x[A,Apr] + y[A,Apr] : 2297.0 :   True\n",
      "          5 : 1992.0 : 31.200000000000003*x[A,May] + y[A,May] : 1992.0 :   True\n",
      "          6 : 2275.0 :               29.2*x[A,Jun] + y[A,Jun] : 2275.0 :   True\n",
      "          7 : 5334.0 : 27.200000000000003*x[A,Jul] + y[A,Jul] : 5334.0 :   True\n",
      "          8 : 3371.0 :               30.4*x[A,Aug] + y[A,Aug] : 3371.0 :   True\n",
      "          9 : 3759.0 : 32.400000000000006*x[A,Sep] + y[A,Sep] : 3759.0 :   True\n",
      "         10 : 3529.0 :               29.2*x[A,Oct] + y[A,Oct] : 3529.0 :   True\n",
      "         11 : 4284.0 : 27.200000000000003*x[A,Nov] + y[A,Nov] : 4284.0 :   True\n",
      "         12 : 5183.0 :               26.0*x[A,Dec] + y[A,Dec] : 5183.0 :   True\n",
      "         13 : 4927.0 : 32.400000000000006*x[B,Jan] + y[B,Jan] : 4927.0 :   True\n",
      "         14 : 2628.0 :               30.4*x[B,Feb] + y[B,Feb] : 2628.0 :   True\n",
      "         15 : 2974.0 :               30.0*x[B,Mar] + y[B,Mar] : 2974.0 :   True\n",
      "         16 : 2338.0 :               32.0*x[B,Apr] + y[B,Apr] : 2338.0 :   True\n",
      "         17 : 4020.0 : 31.200000000000003*x[B,May] + y[B,May] : 4020.0 :   True\n",
      "         18 : 3147.0 :               29.2*x[B,Jun] + y[B,Jun] : 3147.0 :   True\n",
      "         19 : 4271.0 : 27.200000000000003*x[B,Jul] + y[B,Jul] : 4271.0 :   True\n",
      "         20 : 2620.0 :               30.4*x[B,Aug] + y[B,Aug] : 2620.0 :   True\n",
      "         21 : 4517.0 : 32.400000000000006*x[B,Sep] + y[B,Sep] : 4517.0 :   True\n",
      "         22 : 4155.0 :               29.2*x[B,Oct] + y[B,Oct] : 4155.0 :   True\n",
      "         23 : 3137.0 : 27.200000000000003*x[B,Nov] + y[B,Nov] : 3137.0 :   True\n",
      "         24 : 4227.0 :               26.0*x[B,Dec] + y[B,Dec] : 4227.0 :   True\n",
      "         25 : 1162.0 : 32.400000000000006*x[C,Jan] + y[C,Jan] : 1162.0 :   True\n",
      "         26 : 1967.0 :               30.4*x[C,Feb] + y[C,Feb] : 1967.0 :   True\n",
      "         27 : 1898.0 :               30.0*x[C,Mar] + y[C,Mar] : 1898.0 :   True\n",
      "         28 : 2261.0 :               32.0*x[C,Apr] + y[C,Apr] : 2261.0 :   True\n",
      "         29 : 2030.0 : 31.200000000000003*x[C,May] + y[C,May] : 2030.0 :   True\n",
      "         30 : 1642.0 :               29.2*x[C,Jun] + y[C,Jun] : 1642.0 :   True\n",
      "         31 : 2489.0 : 27.200000000000003*x[C,Jul] + y[C,Jul] : 2489.0 :   True\n",
      "         32 : 2496.0 :               30.4*x[C,Aug] + y[C,Aug] : 2496.0 :   True\n",
      "         33 :  922.0 : 32.400000000000006*x[C,Sep] + y[C,Sep] :  922.0 :   True\n",
      "         34 : 2421.0 :               29.2*x[C,Oct] + y[C,Oct] : 2421.0 :   True\n",
      "         35 :  963.0 : 27.200000000000003*x[C,Nov] + y[C,Nov] :  963.0 :   True\n",
      "         36 : 1998.0 :               26.0*x[C,Dec] + y[C,Dec] : 1998.0 :   True\n",
      "    regulatory_constraint : Size=24, Index=regulatory_constraint_index, Active=True\n",
      "        Key : Lower : Body     : Upper              : Active\n",
      "          1 :  -Inf : y[A,Jan] :             1572.0 :   True\n",
      "          2 :  -Inf : y[A,Feb] : 1463.3999999999999 :   True\n",
      "          3 :  -Inf : y[A,Mar] :             1782.6 :   True\n",
      "          4 :  -Inf : y[A,Apr] :              689.1 :   True\n",
      "          5 :  -Inf : y[A,May] :              597.6 :   True\n",
      "          6 :  -Inf : y[A,Jun] :              682.5 :   True\n",
      "          7 :  -Inf : y[A,Jul] :             1600.2 :   True\n",
      "          8 :  -Inf : y[A,Aug] :             1011.3 :   True\n",
      "          9 :  -Inf : y[A,Sep] :             1127.7 :   True\n",
      "         10 :  -Inf : y[A,Oct] :             1058.7 :   True\n",
      "         11 :  -Inf : y[A,Nov] :             1285.2 :   True\n",
      "         12 :  -Inf : y[A,Dec] : 1554.8999999999999 :   True\n",
      "         13 :  -Inf : y[B,Jan] : 1970.8000000000002 :   True\n",
      "         14 :  -Inf : y[B,Feb] :             1051.2 :   True\n",
      "         15 :  -Inf : y[B,Mar] : 1189.6000000000001 :   True\n",
      "         16 :  -Inf : y[B,Apr] :              935.2 :   True\n",
      "         17 :  -Inf : y[B,May] :             1608.0 :   True\n",
      "         18 :  -Inf : y[B,Jun] : 1258.8000000000002 :   True\n",
      "         19 :  -Inf : y[B,Jul] :             1708.4 :   True\n",
      "         20 :  -Inf : y[B,Aug] :             1048.0 :   True\n",
      "         21 :  -Inf : y[B,Sep] : 1806.8000000000002 :   True\n",
      "         22 :  -Inf : y[B,Oct] :             1662.0 :   True\n",
      "         23 :  -Inf : y[B,Nov] : 1254.8000000000002 :   True\n",
      "         24 :  -Inf : y[B,Dec] : 1690.8000000000002 :   True\n",
      "\n",
      "26 Declarations: i j demand_par_index demand_par salaryFTE_par_index salaryFTE_par unitcostOSE_par_index unitcostOSE_par staffAvailFTE_par_index staffAvailFTE_par rate_FTEAppService_par FTEAppNumber_index FTEAppNumber Reg_A_index Reg_A Reg_B_index Reg_B x_index x y_index y demand_constraint_index demand_constraint regulatory_constraint_index regulatory_constraint objective\n"
     ]
    }
   ],
   "source": [
    "# Print the value of the objective function\n",
    "\n",
    "model.pprint()"
   ]
  },
  {
   "cell_type": "code",
   "execution_count": 49,
   "metadata": {},
   "outputs": [
    {
     "name": "stdout",
     "output_type": "stream",
     "text": [
      "The number of FTEs at the location A in the month of Jan is  161.728395061728\n",
      "The number of FTEs at the location A in the month of Feb is  160.460526315789\n",
      "The number of FTEs at the location A in the month of Mar is  198.066666666667\n",
      "The number of FTEs at the location A in the month of Apr is  71.78125\n",
      "The number of FTEs at the location A in the month of May is  63.8461538461538\n",
      "The number of FTEs at the location A in the month of Jun is  77.9109589041096\n",
      "The number of FTEs at the location A in the month of Jul is  137.279411764706\n",
      "The number of FTEs at the location A in the month of Aug is  110.888157894737\n",
      "The number of FTEs at the location A in the month of Sep is  116.018518518519\n",
      "The number of FTEs at the location A in the month of Oct is  120.856164383562\n",
      "The number of FTEs at the location A in the month of Nov is  110.257352941176\n",
      "The number of FTEs at the location A in the month of Dec is  139.576923076923\n",
      "The number of FTEs at the location B in the month of Jan is  152.067901234568\n",
      "The number of FTEs at the location B in the month of Feb is  51.875\n",
      "The number of FTEs at the location B in the month of Mar is  59.5\n",
      "The number of FTEs at the location B in the month of Apr is  73.0625\n",
      "The number of FTEs at the location B in the month of May is  128.846153846154\n",
      "The number of FTEs at the location B in the month of Jun is  64.6917808219178\n",
      "The number of FTEs at the location B in the month of Jul is  94.2279411764706\n",
      "The number of FTEs at the location B in the month of Aug is  51.7105263157895\n",
      "The number of FTEs at the location B in the month of Sep is  139.413580246914\n",
      "The number of FTEs at the location B in the month of Oct is  85.3767123287671\n",
      "The number of FTEs at the location B in the month of Nov is  69.2279411764706\n",
      "The number of FTEs at the location B in the month of Dec is  97.5769230769231\n",
      "The number of FTEs at the location C in the month of Jan is  35.8641975308642\n",
      "The number of FTEs at the location C in the month of Feb is  64.7039473684211\n",
      "The number of FTEs at the location C in the month of Mar is  63.2666666666667\n",
      "The number of FTEs at the location C in the month of Apr is  70.65625\n",
      "The number of FTEs at the location C in the month of May is  65.0641025641026\n",
      "The number of FTEs at the location C in the month of Jun is  56.2328767123288\n",
      "The number of FTEs at the location C in the month of Jul is  0.0\n",
      "The number of FTEs at the location C in the month of Aug is  82.1052631578947\n",
      "The number of FTEs at the location C in the month of Sep is  28.4567901234568\n",
      "The number of FTEs at the location C in the month of Oct is  82.9109589041096\n",
      "The number of FTEs at the location C in the month of Nov is  0.0\n",
      "The number of FTEs at the location C in the month of Dec is  0.0\n"
     ]
    }
   ],
   "source": [
    "# Display the number FTEs for each State every Month respectively\n",
    "\n",
    "for i in location_state:\n",
    "    for j in month:\n",
    "        print(\"The number of FTEs at the location \" + i + \" in the month of \" + j + \" is \", model.x[i,j].value)\n",
    "\n",
    "\n"
   ]
  },
  {
   "cell_type": "code",
   "execution_count": 50,
   "metadata": {},
   "outputs": [
    {
     "name": "stdout",
     "output_type": "stream",
     "text": [
      "The number of Applications processed by the OutSourced Vendors at the location A in the month of Jan is  0.0\n",
      "The number of Applications processed by the OutSourced Vendors at the location A in the month of Feb is  0.0\n",
      "The number of Applications processed by the OutSourced Vendors at the location A in the month of Mar is  0.0\n",
      "The number of Applications processed by the OutSourced Vendors at the location A in the month of Apr is  0.0\n",
      "The number of Applications processed by the OutSourced Vendors at the location A in the month of May is  0.0\n",
      "The number of Applications processed by the OutSourced Vendors at the location A in the month of Jun is  0.0\n",
      "The number of Applications processed by the OutSourced Vendors at the location A in the month of Jul is  1600.0\n",
      "The number of Applications processed by the OutSourced Vendors at the location A in the month of Aug is  0.0\n",
      "The number of Applications processed by the OutSourced Vendors at the location A in the month of Sep is  0.0\n",
      "The number of Applications processed by the OutSourced Vendors at the location A in the month of Oct is  0.0\n",
      "The number of Applications processed by the OutSourced Vendors at the location A in the month of Nov is  1285.0\n",
      "The number of Applications processed by the OutSourced Vendors at the location A in the month of Dec is  1554.0\n",
      "The number of Applications processed by the OutSourced Vendors at the location B in the month of Jan is  0.0\n",
      "The number of Applications processed by the OutSourced Vendors at the location B in the month of Feb is  1051.0\n",
      "The number of Applications processed by the OutSourced Vendors at the location B in the month of Mar is  1189.0\n",
      "The number of Applications processed by the OutSourced Vendors at the location B in the month of Apr is  0.0\n",
      "The number of Applications processed by the OutSourced Vendors at the location B in the month of May is  0.0\n",
      "The number of Applications processed by the OutSourced Vendors at the location B in the month of Jun is  1258.0\n",
      "The number of Applications processed by the OutSourced Vendors at the location B in the month of Jul is  1708.0\n",
      "The number of Applications processed by the OutSourced Vendors at the location B in the month of Aug is  1048.0\n",
      "The number of Applications processed by the OutSourced Vendors at the location B in the month of Sep is  0.0\n",
      "The number of Applications processed by the OutSourced Vendors at the location B in the month of Oct is  1662.0\n",
      "The number of Applications processed by the OutSourced Vendors at the location B in the month of Nov is  1254.0\n",
      "The number of Applications processed by the OutSourced Vendors at the location B in the month of Dec is  1690.0\n",
      "The number of Applications processed by the OutSourced Vendors at the location C in the month of Jan is  0.0\n",
      "The number of Applications processed by the OutSourced Vendors at the location C in the month of Feb is  0.0\n",
      "The number of Applications processed by the OutSourced Vendors at the location C in the month of Mar is  0.0\n",
      "The number of Applications processed by the OutSourced Vendors at the location C in the month of Apr is  0.0\n",
      "The number of Applications processed by the OutSourced Vendors at the location C in the month of May is  0.0\n",
      "The number of Applications processed by the OutSourced Vendors at the location C in the month of Jun is  0.0\n",
      "The number of Applications processed by the OutSourced Vendors at the location C in the month of Jul is  2489.0\n",
      "The number of Applications processed by the OutSourced Vendors at the location C in the month of Aug is  0.0\n",
      "The number of Applications processed by the OutSourced Vendors at the location C in the month of Sep is  0.0\n",
      "The number of Applications processed by the OutSourced Vendors at the location C in the month of Oct is  0.0\n",
      "The number of Applications processed by the OutSourced Vendors at the location C in the month of Nov is  963.0\n",
      "The number of Applications processed by the OutSourced Vendors at the location C in the month of Dec is  1998.0\n"
     ]
    }
   ],
   "source": [
    "#Display the Number of Applications processed by the OutSourced Vendors for each State every Month respectively\n",
    "\n",
    "for i in location_state:\n",
    "    for j in month:\n",
    "        print(\"The number of Applications processed by the OutSourced Vendors at the location \" + i + \" in the month of \" + j + \" is \", model.y[i,j].value)\n",
    "\n",
    "\n",
    "\n"
   ]
  },
  {
   "cell_type": "code",
   "execution_count": 51,
   "metadata": {},
   "outputs": [
    {
     "data": {
      "text/plain": [
       "17962336.448769882"
      ]
     },
     "execution_count": 51,
     "metadata": {},
     "output_type": "execute_result"
    }
   ],
   "source": [
    "# Print the total cost incurred for the company\n",
    "\n",
    "# This is our expected solution\n",
    "\n",
    "total_cost = model.objective.expr()\n",
    "\n",
    "total_cost\n",
    "\n"
   ]
  },
  {
   "cell_type": "markdown",
   "metadata": {},
   "source": [
    "**`Checkpoint 1:`** Seems like the company has to spend around 17.9 m$ in total for the application approval process."
   ]
  },
  {
   "cell_type": "markdown",
   "metadata": {},
   "source": [
    "### So, The total cost incurred for the company is 17962336 USD, i.e., around 18 Million"
   ]
  },
  {
   "cell_type": "markdown",
   "metadata": {},
   "source": [
    "#### Data Frame for the Results"
   ]
  },
  {
   "cell_type": "code",
   "execution_count": 52,
   "metadata": {},
   "outputs": [],
   "source": [
    "#Creating dataframe for the results\n",
    "\n",
    "#Let's start by creating a list \"staff_df\" that contains the numbers of FTEs and the OutSourced Applications\n",
    "\n",
    "#Creating an empty list\n",
    "\n",
    "staff_df = []\n",
    "\n",
    "for i in location_state:\n",
    "    for j in month:\n",
    "        #value for variable x\n",
    "        x_value = model.x[i,j].value #This gives the number of FTEs\n",
    "        #value for variable y\n",
    "        y_value = model.y[i,j].value #This gives the number of OutSourced Applications\n",
    "        staff_df.append([i,j,x_value,y_value])    #Appending the values to the created list    \n"
   ]
  },
  {
   "cell_type": "code",
   "execution_count": 53,
   "metadata": {},
   "outputs": [],
   "source": [
    "#Let's now convert this list \"staff_df\" into a DataFrame\n",
    "\n",
    "staff_df = pd.DataFrame(staff_df,columns=['State','Month','FTE','OutSourcedApps'])\n"
   ]
  },
  {
   "cell_type": "code",
   "execution_count": 54,
   "metadata": {},
   "outputs": [
    {
     "data": {
      "text/html": [
       "<div>\n",
       "<style scoped>\n",
       "    .dataframe tbody tr th:only-of-type {\n",
       "        vertical-align: middle;\n",
       "    }\n",
       "\n",
       "    .dataframe tbody tr th {\n",
       "        vertical-align: top;\n",
       "    }\n",
       "\n",
       "    .dataframe thead th {\n",
       "        text-align: right;\n",
       "    }\n",
       "</style>\n",
       "<table border=\"1\" class=\"dataframe\">\n",
       "  <thead>\n",
       "    <tr style=\"text-align: right;\">\n",
       "      <th></th>\n",
       "      <th>State</th>\n",
       "      <th>Month</th>\n",
       "      <th>FTE</th>\n",
       "      <th>OutSourcedApps</th>\n",
       "    </tr>\n",
       "  </thead>\n",
       "  <tbody>\n",
       "    <tr>\n",
       "      <th>0</th>\n",
       "      <td>A</td>\n",
       "      <td>Jan</td>\n",
       "      <td>161.728395</td>\n",
       "      <td>0.0</td>\n",
       "    </tr>\n",
       "    <tr>\n",
       "      <th>1</th>\n",
       "      <td>A</td>\n",
       "      <td>Feb</td>\n",
       "      <td>160.460526</td>\n",
       "      <td>0.0</td>\n",
       "    </tr>\n",
       "    <tr>\n",
       "      <th>2</th>\n",
       "      <td>A</td>\n",
       "      <td>Mar</td>\n",
       "      <td>198.066667</td>\n",
       "      <td>0.0</td>\n",
       "    </tr>\n",
       "    <tr>\n",
       "      <th>3</th>\n",
       "      <td>A</td>\n",
       "      <td>Apr</td>\n",
       "      <td>71.781250</td>\n",
       "      <td>0.0</td>\n",
       "    </tr>\n",
       "    <tr>\n",
       "      <th>4</th>\n",
       "      <td>A</td>\n",
       "      <td>May</td>\n",
       "      <td>63.846154</td>\n",
       "      <td>0.0</td>\n",
       "    </tr>\n",
       "  </tbody>\n",
       "</table>\n",
       "</div>"
      ],
      "text/plain": [
       "  State Month         FTE  OutSourcedApps\n",
       "0     A   Jan  161.728395             0.0\n",
       "1     A   Feb  160.460526             0.0\n",
       "2     A   Mar  198.066667             0.0\n",
       "3     A   Apr   71.781250             0.0\n",
       "4     A   May   63.846154             0.0"
      ]
     },
     "execution_count": 54,
     "metadata": {},
     "output_type": "execute_result"
    }
   ],
   "source": [
    "#Printing the DataFrame that is created\n",
    "\n",
    "staff_df.head()\n"
   ]
  },
  {
   "cell_type": "markdown",
   "metadata": {},
   "source": [
    "#### LET'S CALCULATE THE AVERAGE FTE PER MONTH"
   ]
  },
  {
   "cell_type": "code",
   "execution_count": 55,
   "metadata": {},
   "outputs": [
    {
     "data": {
      "text/plain": [
       "3085.5084926258896"
      ]
     },
     "execution_count": 55,
     "metadata": {},
     "output_type": "execute_result"
    }
   ],
   "source": [
    "# Let's first calculate the Total FTEs\n",
    "\n",
    "total_FTE = staff_df['FTE'].sum()\n",
    "\n",
    "total_FTE\n"
   ]
  },
  {
   "cell_type": "code",
   "execution_count": 56,
   "metadata": {},
   "outputs": [
    {
     "data": {
      "text/plain": [
       "257.13"
      ]
     },
     "execution_count": 56,
     "metadata": {},
     "output_type": "execute_result"
    }
   ],
   "source": [
    "#Calculating the Average FTE per month\n",
    "\n",
    "avg_FTE_permonth = (total_FTE/12).round(2)\n",
    "\n",
    "avg_FTE_permonth\n"
   ]
  },
  {
   "cell_type": "markdown",
   "metadata": {},
   "source": [
    "### NOTE 1.1 - The optimal number of staff members that the company InsurePlus needs for the insurance application approval process for the calendar year 2021 is **257.13**.\n",
    "\n",
    "### So, let's round that off to **258** \n"
   ]
  },
  {
   "cell_type": "code",
   "execution_count": 57,
   "metadata": {},
   "outputs": [
    {
     "data": {
      "text/plain": [
       "113294"
      ]
     },
     "execution_count": 57,
     "metadata": {},
     "output_type": "execute_result"
    }
   ],
   "source": [
    "#Let's calculate the total application demand first\n",
    "\n",
    "total_demand = demand_data['Demand'].sum()\n",
    "\n",
    "total_demand\n"
   ]
  },
  {
   "cell_type": "markdown",
   "metadata": {},
   "source": [
    "#### LET'S CALCULATE THE PERCENTAGE OF OUTSOURCED APPLICATIONS"
   ]
  },
  {
   "cell_type": "code",
   "execution_count": 58,
   "metadata": {},
   "outputs": [
    {
     "data": {
      "text/plain": [
       "20749.0"
      ]
     },
     "execution_count": 58,
     "metadata": {},
     "output_type": "execute_result"
    }
   ],
   "source": [
    "# let's now calculate the total OutSourced Applications\n",
    "\n",
    "total_outsourced = staff_df['OutSourcedApps'].sum()\n",
    "\n",
    "total_outsourced\n"
   ]
  },
  {
   "cell_type": "code",
   "execution_count": 59,
   "metadata": {},
   "outputs": [
    {
     "data": {
      "text/plain": [
       "18.31"
      ]
     },
     "execution_count": 59,
     "metadata": {},
     "output_type": "execute_result"
    }
   ],
   "source": [
    "#Percentage of OutSourced Applications\n",
    "\n",
    "percentage_OutSourced = ((total_outsourced/total_demand)*100).round(2)\n",
    "\n",
    "percentage_OutSourced"
   ]
  },
  {
   "cell_type": "markdown",
   "metadata": {},
   "source": [
    "### NOTE 1.2 - The percentage of OutSourced Applications under normal circumstances(neither best case nor worst case) is 18.31\n"
   ]
  },
  {
   "cell_type": "markdown",
   "metadata": {},
   "source": [
    "#### LET'S CALCULATE THE PERCENTAGE OF APPLICATIONS PROCESSED BY STAFF (i.e., FTEs)"
   ]
  },
  {
   "cell_type": "code",
   "execution_count": 60,
   "metadata": {},
   "outputs": [
    {
     "name": "stdout",
     "output_type": "stream",
     "text": [
      "81.69\n"
     ]
    }
   ],
   "source": [
    "#Percentage of Applications processed by STAFF\n",
    "\n",
    "print(100 - percentage_OutSourced)\n"
   ]
  },
  {
   "cell_type": "markdown",
   "metadata": {},
   "source": [
    "#### LET'S NOW CALCULATE THE AVERAGE COST PER APPLICATION"
   ]
  },
  {
   "cell_type": "code",
   "execution_count": 61,
   "metadata": {},
   "outputs": [
    {
     "data": {
      "text/plain": [
       "158.5462288273861"
      ]
     },
     "execution_count": 61,
     "metadata": {},
     "output_type": "execute_result"
    }
   ],
   "source": [
    "#Calculating the Average cost per application\n",
    "\n",
    "avg_cost_PerApp = total_cost/total_demand\n",
    "\n",
    "\n",
    "avg_cost_PerApp\n"
   ]
  },
  {
   "cell_type": "markdown",
   "metadata": {},
   "source": [
    "\n",
    "### NOTE 1.3 - The average cost per application under normal circumstances (neither best case nor worst case) is 158.54\n",
    "\n"
   ]
  },
  {
   "cell_type": "code",
   "execution_count": 62,
   "metadata": {},
   "outputs": [
    {
     "data": {
      "text/html": [
       "<div>\n",
       "<style scoped>\n",
       "    .dataframe tbody tr th:only-of-type {\n",
       "        vertical-align: middle;\n",
       "    }\n",
       "\n",
       "    .dataframe tbody tr th {\n",
       "        vertical-align: top;\n",
       "    }\n",
       "\n",
       "    .dataframe thead th {\n",
       "        text-align: right;\n",
       "    }\n",
       "</style>\n",
       "<table border=\"1\" class=\"dataframe\">\n",
       "  <thead>\n",
       "    <tr style=\"text-align: right;\">\n",
       "      <th></th>\n",
       "      <th>State</th>\n",
       "      <th>Month</th>\n",
       "      <th>FTE</th>\n",
       "      <th>OutSourcedApps</th>\n",
       "    </tr>\n",
       "  </thead>\n",
       "  <tbody>\n",
       "    <tr>\n",
       "      <th>0</th>\n",
       "      <td>A</td>\n",
       "      <td>Jan</td>\n",
       "      <td>161.728395</td>\n",
       "      <td>0.0</td>\n",
       "    </tr>\n",
       "    <tr>\n",
       "      <th>1</th>\n",
       "      <td>A</td>\n",
       "      <td>Feb</td>\n",
       "      <td>160.460526</td>\n",
       "      <td>0.0</td>\n",
       "    </tr>\n",
       "    <tr>\n",
       "      <th>2</th>\n",
       "      <td>A</td>\n",
       "      <td>Mar</td>\n",
       "      <td>198.066667</td>\n",
       "      <td>0.0</td>\n",
       "    </tr>\n",
       "    <tr>\n",
       "      <th>3</th>\n",
       "      <td>A</td>\n",
       "      <td>Apr</td>\n",
       "      <td>71.781250</td>\n",
       "      <td>0.0</td>\n",
       "    </tr>\n",
       "    <tr>\n",
       "      <th>4</th>\n",
       "      <td>A</td>\n",
       "      <td>May</td>\n",
       "      <td>63.846154</td>\n",
       "      <td>0.0</td>\n",
       "    </tr>\n",
       "  </tbody>\n",
       "</table>\n",
       "</div>"
      ],
      "text/plain": [
       "  State Month         FTE  OutSourcedApps\n",
       "0     A   Jan  161.728395             0.0\n",
       "1     A   Feb  160.460526             0.0\n",
       "2     A   Mar  198.066667             0.0\n",
       "3     A   Apr   71.781250             0.0\n",
       "4     A   May   63.846154             0.0"
      ]
     },
     "execution_count": 62,
     "metadata": {},
     "output_type": "execute_result"
    }
   ],
   "source": [
    "#Printing the \"staff_df\" DataFrame that is created\n",
    "\n",
    "staff_df.head()\n",
    "\n"
   ]
  },
  {
   "cell_type": "markdown",
   "metadata": {},
   "source": [
    "## INSIGHTS - CASE 1"
   ]
  },
  {
   "cell_type": "markdown",
   "metadata": {},
   "source": [
    "### Under Normal Circumstances , i.e., (Neither Worst Case not Best Case) - \n",
    "\n",
    "1. The optimal number of staff members that the company InsurePlus needs for the insurance application approval process for the calendar year 2021 is **257.13**.So, let's round that off to **258** \n",
    "\n",
    "2. The percentage of outsourcing is **18.31**\n",
    "\n",
    "3. The average cost per application is **158.54**\n"
   ]
  },
  {
   "cell_type": "markdown",
   "metadata": {},
   "source": [
    "# Question 3\n",
    "\n",
    "#### Worst-case and best-case analysis based on the staffs' availability.\n",
    "\n",
    "Assuming that the distribution is the same across all the states,\n",
    "\n",
    "#### 3.1 Worst case analysis \n",
    "\n",
    "- 3.1.1 What is the optimal number of staff members for the worst case? \n",
    "\n",
    "- 3.1.2 What is the percentage of outsourcing for the worst case? \n",
    "\n",
    "- 3.1.3 What is the average cost per application for the worst case?\n",
    "\n",
    "\n",
    "#### 3.2 Best case analysis \n",
    "\n",
    "- 3.2.1 What is the optimal number of staff members for the best case? \n",
    "\n",
    "- 3.2.2 What is the percentage of outsourcing for the best case? \n",
    "\n",
    "- 3.2.3 What is the average cost per application for the best case?\n"
   ]
  },
  {
   "cell_type": "markdown",
   "metadata": {},
   "source": [
    "#### Expected output:\n",
    "\n",
    "For each of the subtasks (3.1 and 3.2) create a data frame containing the number of outsourced applications and the number of FTEs for each state-month combination. You can choose to have extra columns like staff availability, demand etc. in your dataframe apart from the ones mentioned earlier. Also, print the overall average percentage of outsourced applications and the overall average cost per application. "
   ]
  },
  {
   "cell_type": "markdown",
   "metadata": {},
   "source": [
    "### 3.1 Worst Case Analysis "
   ]
  },
  {
   "cell_type": "markdown",
   "metadata": {},
   "source": [
    "#### 3.1.1 Optimal number of staff members"
   ]
  },
  {
   "cell_type": "code",
   "execution_count": 63,
   "metadata": {},
   "outputs": [],
   "source": [
    "# Creating a model instance\n",
    "\n",
    "model = ConcreteModel()\n"
   ]
  },
  {
   "cell_type": "code",
   "execution_count": 64,
   "metadata": {},
   "outputs": [],
   "source": [
    "# Define Pyomo sets and Parameters\n"
   ]
  },
  {
   "cell_type": "code",
   "execution_count": 65,
   "metadata": {},
   "outputs": [],
   "source": [
    "# Let's now define the Sets\n",
    "\n",
    "# i --------> insurance company's locations A,B,C\n",
    "\n",
    "# j --------> months Jan,Feb,Mar,....,Dec\n",
    "\n",
    "\n",
    "model.i = Set(initialize = location_state, doc = 'States')\n",
    "\n",
    "model.j = Set(initialize = month, doc = 'Months')\n",
    "\n",
    "\n",
    "\n"
   ]
  },
  {
   "cell_type": "code",
   "execution_count": 66,
   "metadata": {},
   "outputs": [],
   "source": [
    "# Let's now define the parameters"
   ]
  },
  {
   "cell_type": "code",
   "execution_count": 67,
   "metadata": {},
   "outputs": [],
   "source": [
    "#Let's start with defining the parameters for Demand\n",
    "\n",
    "\n",
    "model.demand_par = Param(model.i, model.j, initialize=dict_demand, doc = 'Demand')\n",
    "\n"
   ]
  },
  {
   "cell_type": "code",
   "execution_count": 68,
   "metadata": {},
   "outputs": [],
   "source": [
    "#Parameter for FTE_Salary\n",
    "\n",
    "model.salaryFTE_par = Param(model.i,model.j,initialize=dict_FTE_Salary, doc = 'FTE_Salary')\n"
   ]
  },
  {
   "cell_type": "code",
   "execution_count": 69,
   "metadata": {},
   "outputs": [],
   "source": [
    "#Parameter for OSE_UnitCost\n",
    "\n",
    "model.unitcostOSE_par = Param(model.i,model.j,initialize=dict_OSE_UnitCost, doc = 'UnitOutSourceCost')\n"
   ]
  },
  {
   "cell_type": "code",
   "execution_count": 70,
   "metadata": {},
   "outputs": [],
   "source": [
    "#Parameter for Staff_Availability_FTE\n",
    "\n",
    "model.staffAvail_LB_par = Param(model.i,model.j,initialize=dict_StaffAvail_LB, doc = 'Avg_StaffAvailability_LB')\n",
    "\n"
   ]
  },
  {
   "cell_type": "code",
   "execution_count": 71,
   "metadata": {},
   "outputs": [],
   "source": [
    "#Parameter for Service rate of application when all (100 percent) of the FTE Employees are working\n",
    "\n",
    "model.rate_FTEAppService_par = Param(initialize=FTE_ApplnServiceRate, doc='FTEApplnServiceRate')\n",
    "\n"
   ]
  },
  {
   "cell_type": "code",
   "execution_count": 72,
   "metadata": {},
   "outputs": [],
   "source": [
    "#Parameter for how many applications can be processed for the given staff availability\n",
    "\n",
    "def function_FTEAPP_LB(model,i,j):\n",
    "    return model.rate_FTEAppService_par * model.staffAvail_LB_par[i,j]\n",
    "\n",
    "model.FTEAppNumber_LB = Param(model.i,model.j,initialize = function_FTEAPP_LB, doc = 'Staff_LB')\n",
    "\n"
   ]
  },
  {
   "cell_type": "code",
   "execution_count": 73,
   "metadata": {},
   "outputs": [],
   "source": [
    "#Regulatory Constraint for State A\n",
    "\n",
    "def function_Reg_A(model,i,j):\n",
    "    return 0.30*model.demand_par[i,j]\n",
    "\n",
    "model.Reg_A = Param(model.i,model.j,initialize = function_Reg_A, doc = 'RegulatoryConstraint_Reg_A')\n",
    "\n"
   ]
  },
  {
   "cell_type": "code",
   "execution_count": 74,
   "metadata": {},
   "outputs": [],
   "source": [
    "#Regulatory Constraint for State B\n",
    "\n",
    "def function_Reg_B(model,i,j):\n",
    "    return 0.40*model.demand_par[i,j]\n",
    "\n",
    "model.Reg_B = Param(model.i,model.j,initialize = function_Reg_B, doc = 'RegulatoryConstraint_Reg_B')\n",
    "\n"
   ]
  },
  {
   "cell_type": "code",
   "execution_count": 75,
   "metadata": {},
   "outputs": [],
   "source": [
    "# Decision variables\n",
    "\n",
    "model.x = Var(model.i,model.j,domain = NonNegativeReals , doc = 'Number_of_FTE')\n",
    "\n",
    "model.y = Var(model.i,model.j,domain = NonNegativeIntegers, doc = 'Number_of_OutSourced_Applications')\n",
    "\n"
   ]
  },
  {
   "cell_type": "code",
   "execution_count": 76,
   "metadata": {},
   "outputs": [],
   "source": [
    "# Constraints\n",
    "\n",
    "# Demand Constraint\n",
    "\n",
    "model.demand_constraint = ConstraintList()\n",
    "\n",
    "for i in model.i:\n",
    "    for j in model.j:\n",
    "        model.demand_constraint.add(expr = model.x[i,j]*model.FTEAppNumber_LB[i,j] + model.y[i,j]==model.demand_par[i,j])\n",
    "        \n",
    "\n"
   ]
  },
  {
   "cell_type": "code",
   "execution_count": 77,
   "metadata": {},
   "outputs": [],
   "source": [
    "# Constraints\n",
    "\n",
    "# Regulatory Constraint\n",
    "\n",
    "model.regulatory_constraint = ConstraintList()\n",
    "\n",
    "for i in model.i:\n",
    "    for j in model.j:\n",
    "        if i=='A':\n",
    "            model.regulatory_constraint.add(expr = model.y['A',j] <= model.Reg_A['A',j])\n",
    "        elif i=='B':\n",
    "            model.regulatory_constraint.add(expr = model.y['B',j] <= model.Reg_B['B',j])\n",
    "        \n",
    "\n"
   ]
  },
  {
   "cell_type": "code",
   "execution_count": 78,
   "metadata": {},
   "outputs": [],
   "source": [
    "# Objective function\n",
    "\n",
    "# Function for objective rule\n",
    "\n",
    "def objective_rule(model):\n",
    "    return sum(model.salaryFTE_par[i,j]*model.x[i,j] for i in model.i for j in model.j)+\\\n",
    "            sum(model.unitcostOSE_par[i,j]*model.y[i,j] for i in model.i for j in model.j)\n",
    "\n"
   ]
  },
  {
   "cell_type": "code",
   "execution_count": 79,
   "metadata": {},
   "outputs": [],
   "source": [
    "#Objective function\n",
    "\n",
    "model.objective = Objective(rule = objective_rule, sense = minimize, doc = 'ObjectiveFunction_LB')\n",
    "\n"
   ]
  },
  {
   "cell_type": "code",
   "execution_count": 80,
   "metadata": {},
   "outputs": [],
   "source": [
    "# Invoking the solver\n",
    "\n",
    "result_cost_LB = SolverFactory('glpk').solve(model)\n"
   ]
  },
  {
   "cell_type": "code",
   "execution_count": 81,
   "metadata": {},
   "outputs": [
    {
     "name": "stdout",
     "output_type": "stream",
     "text": [
      "# ==========================================================\n",
      "# = Solver Results                                         =\n",
      "# ==========================================================\n",
      "# ----------------------------------------------------------\n",
      "#   Problem Information\n",
      "# ----------------------------------------------------------\n",
      "Problem: \n",
      "- Name: unknown\n",
      "  Lower bound: 19599482.5167888\n",
      "  Upper bound: 19599482.5167888\n",
      "  Number of objectives: 1\n",
      "  Number of constraints: 61\n",
      "  Number of variables: 73\n",
      "  Number of nonzeros: 97\n",
      "  Sense: minimize\n",
      "# ----------------------------------------------------------\n",
      "#   Solver Information\n",
      "# ----------------------------------------------------------\n",
      "Solver: \n",
      "- Status: ok\n",
      "  Termination condition: optimal\n",
      "  Statistics: \n",
      "    Branch and bound: \n",
      "      Number of bounded subproblems: 0\n",
      "      Number of created subproblems: 0\n",
      "  Error rc: 0\n",
      "  Time: 0.014768838882446289\n",
      "# ----------------------------------------------------------\n",
      "#   Solution Information\n",
      "# ----------------------------------------------------------\n",
      "Solution: \n",
      "- number of solutions: 0\n",
      "  number of solutions displayed: 0\n"
     ]
    }
   ],
   "source": [
    "#Solver Results\n",
    "\n",
    "result_cost_LB.write()\n"
   ]
  },
  {
   "cell_type": "code",
   "execution_count": 82,
   "metadata": {},
   "outputs": [
    {
     "name": "stdout",
     "output_type": "stream",
     "text": [
      "13 Set Declarations\n",
      "    FTEAppNumber_LB_index : Size=1, Index=None, Ordered=True\n",
      "        Key  : Dimen : Domain : Size : Members\n",
      "        None :     2 :    i*j :   36 : {('A', 'Jan'), ('A', 'Feb'), ('A', 'Mar'), ('A', 'Apr'), ('A', 'May'), ('A', 'Jun'), ('A', 'Jul'), ('A', 'Aug'), ('A', 'Sep'), ('A', 'Oct'), ('A', 'Nov'), ('A', 'Dec'), ('B', 'Jan'), ('B', 'Feb'), ('B', 'Mar'), ('B', 'Apr'), ('B', 'May'), ('B', 'Jun'), ('B', 'Jul'), ('B', 'Aug'), ('B', 'Sep'), ('B', 'Oct'), ('B', 'Nov'), ('B', 'Dec'), ('C', 'Jan'), ('C', 'Feb'), ('C', 'Mar'), ('C', 'Apr'), ('C', 'May'), ('C', 'Jun'), ('C', 'Jul'), ('C', 'Aug'), ('C', 'Sep'), ('C', 'Oct'), ('C', 'Nov'), ('C', 'Dec')}\n",
      "    Reg_A_index : Size=1, Index=None, Ordered=True\n",
      "        Key  : Dimen : Domain : Size : Members\n",
      "        None :     2 :    i*j :   36 : {('A', 'Jan'), ('A', 'Feb'), ('A', 'Mar'), ('A', 'Apr'), ('A', 'May'), ('A', 'Jun'), ('A', 'Jul'), ('A', 'Aug'), ('A', 'Sep'), ('A', 'Oct'), ('A', 'Nov'), ('A', 'Dec'), ('B', 'Jan'), ('B', 'Feb'), ('B', 'Mar'), ('B', 'Apr'), ('B', 'May'), ('B', 'Jun'), ('B', 'Jul'), ('B', 'Aug'), ('B', 'Sep'), ('B', 'Oct'), ('B', 'Nov'), ('B', 'Dec'), ('C', 'Jan'), ('C', 'Feb'), ('C', 'Mar'), ('C', 'Apr'), ('C', 'May'), ('C', 'Jun'), ('C', 'Jul'), ('C', 'Aug'), ('C', 'Sep'), ('C', 'Oct'), ('C', 'Nov'), ('C', 'Dec')}\n",
      "    Reg_B_index : Size=1, Index=None, Ordered=True\n",
      "        Key  : Dimen : Domain : Size : Members\n",
      "        None :     2 :    i*j :   36 : {('A', 'Jan'), ('A', 'Feb'), ('A', 'Mar'), ('A', 'Apr'), ('A', 'May'), ('A', 'Jun'), ('A', 'Jul'), ('A', 'Aug'), ('A', 'Sep'), ('A', 'Oct'), ('A', 'Nov'), ('A', 'Dec'), ('B', 'Jan'), ('B', 'Feb'), ('B', 'Mar'), ('B', 'Apr'), ('B', 'May'), ('B', 'Jun'), ('B', 'Jul'), ('B', 'Aug'), ('B', 'Sep'), ('B', 'Oct'), ('B', 'Nov'), ('B', 'Dec'), ('C', 'Jan'), ('C', 'Feb'), ('C', 'Mar'), ('C', 'Apr'), ('C', 'May'), ('C', 'Jun'), ('C', 'Jul'), ('C', 'Aug'), ('C', 'Sep'), ('C', 'Oct'), ('C', 'Nov'), ('C', 'Dec')}\n",
      "    demand_constraint_index : Size=1, Index=None, Ordered=Insertion\n",
      "        Key  : Dimen : Domain : Size : Members\n",
      "        None :     1 :    Any :   36 : {1, 2, 3, 4, 5, 6, 7, 8, 9, 10, 11, 12, 13, 14, 15, 16, 17, 18, 19, 20, 21, 22, 23, 24, 25, 26, 27, 28, 29, 30, 31, 32, 33, 34, 35, 36}\n",
      "    demand_par_index : Size=1, Index=None, Ordered=True\n",
      "        Key  : Dimen : Domain : Size : Members\n",
      "        None :     2 :    i*j :   36 : {('A', 'Jan'), ('A', 'Feb'), ('A', 'Mar'), ('A', 'Apr'), ('A', 'May'), ('A', 'Jun'), ('A', 'Jul'), ('A', 'Aug'), ('A', 'Sep'), ('A', 'Oct'), ('A', 'Nov'), ('A', 'Dec'), ('B', 'Jan'), ('B', 'Feb'), ('B', 'Mar'), ('B', 'Apr'), ('B', 'May'), ('B', 'Jun'), ('B', 'Jul'), ('B', 'Aug'), ('B', 'Sep'), ('B', 'Oct'), ('B', 'Nov'), ('B', 'Dec'), ('C', 'Jan'), ('C', 'Feb'), ('C', 'Mar'), ('C', 'Apr'), ('C', 'May'), ('C', 'Jun'), ('C', 'Jul'), ('C', 'Aug'), ('C', 'Sep'), ('C', 'Oct'), ('C', 'Nov'), ('C', 'Dec')}\n",
      "    i : States\n",
      "        Size=1, Index=None, Ordered=Insertion\n",
      "        Key  : Dimen : Domain : Size : Members\n",
      "        None :     1 :    Any :    3 : {'A', 'B', 'C'}\n",
      "    j : Months\n",
      "        Size=1, Index=None, Ordered=Insertion\n",
      "        Key  : Dimen : Domain : Size : Members\n",
      "        None :     1 :    Any :   12 : {'Jan', 'Feb', 'Mar', 'Apr', 'May', 'Jun', 'Jul', 'Aug', 'Sep', 'Oct', 'Nov', 'Dec'}\n",
      "    regulatory_constraint_index : Size=1, Index=None, Ordered=Insertion\n",
      "        Key  : Dimen : Domain : Size : Members\n",
      "        None :     1 :    Any :   24 : {1, 2, 3, 4, 5, 6, 7, 8, 9, 10, 11, 12, 13, 14, 15, 16, 17, 18, 19, 20, 21, 22, 23, 24}\n",
      "    salaryFTE_par_index : Size=1, Index=None, Ordered=True\n",
      "        Key  : Dimen : Domain : Size : Members\n",
      "        None :     2 :    i*j :   36 : {('A', 'Jan'), ('A', 'Feb'), ('A', 'Mar'), ('A', 'Apr'), ('A', 'May'), ('A', 'Jun'), ('A', 'Jul'), ('A', 'Aug'), ('A', 'Sep'), ('A', 'Oct'), ('A', 'Nov'), ('A', 'Dec'), ('B', 'Jan'), ('B', 'Feb'), ('B', 'Mar'), ('B', 'Apr'), ('B', 'May'), ('B', 'Jun'), ('B', 'Jul'), ('B', 'Aug'), ('B', 'Sep'), ('B', 'Oct'), ('B', 'Nov'), ('B', 'Dec'), ('C', 'Jan'), ('C', 'Feb'), ('C', 'Mar'), ('C', 'Apr'), ('C', 'May'), ('C', 'Jun'), ('C', 'Jul'), ('C', 'Aug'), ('C', 'Sep'), ('C', 'Oct'), ('C', 'Nov'), ('C', 'Dec')}\n",
      "    staffAvail_LB_par_index : Size=1, Index=None, Ordered=True\n",
      "        Key  : Dimen : Domain : Size : Members\n",
      "        None :     2 :    i*j :   36 : {('A', 'Jan'), ('A', 'Feb'), ('A', 'Mar'), ('A', 'Apr'), ('A', 'May'), ('A', 'Jun'), ('A', 'Jul'), ('A', 'Aug'), ('A', 'Sep'), ('A', 'Oct'), ('A', 'Nov'), ('A', 'Dec'), ('B', 'Jan'), ('B', 'Feb'), ('B', 'Mar'), ('B', 'Apr'), ('B', 'May'), ('B', 'Jun'), ('B', 'Jul'), ('B', 'Aug'), ('B', 'Sep'), ('B', 'Oct'), ('B', 'Nov'), ('B', 'Dec'), ('C', 'Jan'), ('C', 'Feb'), ('C', 'Mar'), ('C', 'Apr'), ('C', 'May'), ('C', 'Jun'), ('C', 'Jul'), ('C', 'Aug'), ('C', 'Sep'), ('C', 'Oct'), ('C', 'Nov'), ('C', 'Dec')}\n",
      "    unitcostOSE_par_index : Size=1, Index=None, Ordered=True\n",
      "        Key  : Dimen : Domain : Size : Members\n",
      "        None :     2 :    i*j :   36 : {('A', 'Jan'), ('A', 'Feb'), ('A', 'Mar'), ('A', 'Apr'), ('A', 'May'), ('A', 'Jun'), ('A', 'Jul'), ('A', 'Aug'), ('A', 'Sep'), ('A', 'Oct'), ('A', 'Nov'), ('A', 'Dec'), ('B', 'Jan'), ('B', 'Feb'), ('B', 'Mar'), ('B', 'Apr'), ('B', 'May'), ('B', 'Jun'), ('B', 'Jul'), ('B', 'Aug'), ('B', 'Sep'), ('B', 'Oct'), ('B', 'Nov'), ('B', 'Dec'), ('C', 'Jan'), ('C', 'Feb'), ('C', 'Mar'), ('C', 'Apr'), ('C', 'May'), ('C', 'Jun'), ('C', 'Jul'), ('C', 'Aug'), ('C', 'Sep'), ('C', 'Oct'), ('C', 'Nov'), ('C', 'Dec')}\n",
      "    x_index : Size=1, Index=None, Ordered=True\n",
      "        Key  : Dimen : Domain : Size : Members\n",
      "        None :     2 :    i*j :   36 : {('A', 'Jan'), ('A', 'Feb'), ('A', 'Mar'), ('A', 'Apr'), ('A', 'May'), ('A', 'Jun'), ('A', 'Jul'), ('A', 'Aug'), ('A', 'Sep'), ('A', 'Oct'), ('A', 'Nov'), ('A', 'Dec'), ('B', 'Jan'), ('B', 'Feb'), ('B', 'Mar'), ('B', 'Apr'), ('B', 'May'), ('B', 'Jun'), ('B', 'Jul'), ('B', 'Aug'), ('B', 'Sep'), ('B', 'Oct'), ('B', 'Nov'), ('B', 'Dec'), ('C', 'Jan'), ('C', 'Feb'), ('C', 'Mar'), ('C', 'Apr'), ('C', 'May'), ('C', 'Jun'), ('C', 'Jul'), ('C', 'Aug'), ('C', 'Sep'), ('C', 'Oct'), ('C', 'Nov'), ('C', 'Dec')}\n",
      "    y_index : Size=1, Index=None, Ordered=True\n",
      "        Key  : Dimen : Domain : Size : Members\n",
      "        None :     2 :    i*j :   36 : {('A', 'Jan'), ('A', 'Feb'), ('A', 'Mar'), ('A', 'Apr'), ('A', 'May'), ('A', 'Jun'), ('A', 'Jul'), ('A', 'Aug'), ('A', 'Sep'), ('A', 'Oct'), ('A', 'Nov'), ('A', 'Dec'), ('B', 'Jan'), ('B', 'Feb'), ('B', 'Mar'), ('B', 'Apr'), ('B', 'May'), ('B', 'Jun'), ('B', 'Jul'), ('B', 'Aug'), ('B', 'Sep'), ('B', 'Oct'), ('B', 'Nov'), ('B', 'Dec'), ('C', 'Jan'), ('C', 'Feb'), ('C', 'Mar'), ('C', 'Apr'), ('C', 'May'), ('C', 'Jun'), ('C', 'Jul'), ('C', 'Aug'), ('C', 'Sep'), ('C', 'Oct'), ('C', 'Nov'), ('C', 'Dec')}\n",
      "\n",
      "8 Param Declarations\n",
      "    FTEAppNumber_LB : Staff_LB\n",
      "        Size=36, Index=FTEAppNumber_LB_index, Domain=Any, Default=None, Mutable=False\n",
      "        Key          : Value\n",
      "        ('A', 'Apr') :  30.0\n",
      "        ('A', 'Aug') :  26.0\n",
      "        ('A', 'Dec') :  24.0\n",
      "        ('A', 'Feb') :  26.0\n",
      "        ('A', 'Jan') :  28.0\n",
      "        ('A', 'Jul') :  24.0\n",
      "        ('A', 'Jun') :  26.0\n",
      "        ('A', 'Mar') :  28.0\n",
      "        ('A', 'May') :  28.0\n",
      "        ('A', 'Nov') :  24.0\n",
      "        ('A', 'Oct') :  26.0\n",
      "        ('A', 'Sep') :  28.0\n",
      "        ('B', 'Apr') :  30.0\n",
      "        ('B', 'Aug') :  26.0\n",
      "        ('B', 'Dec') :  24.0\n",
      "        ('B', 'Feb') :  26.0\n",
      "        ('B', 'Jan') :  28.0\n",
      "        ('B', 'Jul') :  24.0\n",
      "        ('B', 'Jun') :  26.0\n",
      "        ('B', 'Mar') :  28.0\n",
      "        ('B', 'May') :  28.0\n",
      "        ('B', 'Nov') :  24.0\n",
      "        ('B', 'Oct') :  26.0\n",
      "        ('B', 'Sep') :  28.0\n",
      "        ('C', 'Apr') :  30.0\n",
      "        ('C', 'Aug') :  26.0\n",
      "        ('C', 'Dec') :  24.0\n",
      "        ('C', 'Feb') :  26.0\n",
      "        ('C', 'Jan') :  28.0\n",
      "        ('C', 'Jul') :  24.0\n",
      "        ('C', 'Jun') :  26.0\n",
      "        ('C', 'Mar') :  28.0\n",
      "        ('C', 'May') :  28.0\n",
      "        ('C', 'Nov') :  24.0\n",
      "        ('C', 'Oct') :  26.0\n",
      "        ('C', 'Sep') :  28.0\n",
      "    Reg_A : RegulatoryConstraint_Reg_A\n",
      "        Size=36, Index=Reg_A_index, Domain=Any, Default=None, Mutable=False\n",
      "        Key          : Value\n",
      "        ('A', 'Apr') :              689.1\n",
      "        ('A', 'Aug') :             1011.3\n",
      "        ('A', 'Dec') : 1554.8999999999999\n",
      "        ('A', 'Feb') : 1463.3999999999999\n",
      "        ('A', 'Jan') :             1572.0\n",
      "        ('A', 'Jul') :             1600.2\n",
      "        ('A', 'Jun') :              682.5\n",
      "        ('A', 'Mar') :             1782.6\n",
      "        ('A', 'May') :              597.6\n",
      "        ('A', 'Nov') :             1285.2\n",
      "        ('A', 'Oct') :             1058.7\n",
      "        ('A', 'Sep') :             1127.7\n",
      "        ('B', 'Apr') :              701.4\n",
      "        ('B', 'Aug') :              786.0\n",
      "        ('B', 'Dec') :             1268.1\n",
      "        ('B', 'Feb') :              788.4\n",
      "        ('B', 'Jan') :             1478.1\n",
      "        ('B', 'Jul') :             1281.3\n",
      "        ('B', 'Jun') :  944.0999999999999\n",
      "        ('B', 'Mar') :  892.1999999999999\n",
      "        ('B', 'May') :             1206.0\n",
      "        ('B', 'Nov') :  941.0999999999999\n",
      "        ('B', 'Oct') :             1246.5\n",
      "        ('B', 'Sep') :             1355.1\n",
      "        ('C', 'Apr') :              678.3\n",
      "        ('C', 'Aug') :              748.8\n",
      "        ('C', 'Dec') :              599.4\n",
      "        ('C', 'Feb') :              590.1\n",
      "        ('C', 'Jan') : 348.59999999999997\n",
      "        ('C', 'Jul') :  746.6999999999999\n",
      "        ('C', 'Jun') : 492.59999999999997\n",
      "        ('C', 'Mar') :              569.4\n",
      "        ('C', 'May') :              609.0\n",
      "        ('C', 'Nov') :              288.9\n",
      "        ('C', 'Oct') :              726.3\n",
      "        ('C', 'Sep') : 276.59999999999997\n",
      "    Reg_B : RegulatoryConstraint_Reg_B\n",
      "        Size=36, Index=Reg_B_index, Domain=Any, Default=None, Mutable=False\n",
      "        Key          : Value\n",
      "        ('A', 'Apr') :  918.8000000000001\n",
      "        ('A', 'Aug') :             1348.4\n",
      "        ('A', 'Dec') : 2073.2000000000003\n",
      "        ('A', 'Feb') :             1951.2\n",
      "        ('A', 'Jan') :             2096.0\n",
      "        ('A', 'Jul') :             2133.6\n",
      "        ('A', 'Jun') :              910.0\n",
      "        ('A', 'Mar') :             2376.8\n",
      "        ('A', 'May') :  796.8000000000001\n",
      "        ('A', 'Nov') : 1713.6000000000001\n",
      "        ('A', 'Oct') : 1411.6000000000001\n",
      "        ('A', 'Sep') : 1503.6000000000001\n",
      "        ('B', 'Apr') :              935.2\n",
      "        ('B', 'Aug') :             1048.0\n",
      "        ('B', 'Dec') : 1690.8000000000002\n",
      "        ('B', 'Feb') :             1051.2\n",
      "        ('B', 'Jan') : 1970.8000000000002\n",
      "        ('B', 'Jul') :             1708.4\n",
      "        ('B', 'Jun') : 1258.8000000000002\n",
      "        ('B', 'Mar') : 1189.6000000000001\n",
      "        ('B', 'May') :             1608.0\n",
      "        ('B', 'Nov') : 1254.8000000000002\n",
      "        ('B', 'Oct') :             1662.0\n",
      "        ('B', 'Sep') : 1806.8000000000002\n",
      "        ('C', 'Apr') :  904.4000000000001\n",
      "        ('C', 'Aug') :  998.4000000000001\n",
      "        ('C', 'Dec') :              799.2\n",
      "        ('C', 'Feb') :  786.8000000000001\n",
      "        ('C', 'Jan') :              464.8\n",
      "        ('C', 'Jul') :              995.6\n",
      "        ('C', 'Jun') :  656.8000000000001\n",
      "        ('C', 'Mar') :              759.2\n",
      "        ('C', 'May') :              812.0\n",
      "        ('C', 'Nov') : 385.20000000000005\n",
      "        ('C', 'Oct') :  968.4000000000001\n",
      "        ('C', 'Sep') :              368.8\n",
      "    demand_par : Demand\n",
      "        Size=36, Index=demand_par_index, Domain=Any, Default=None, Mutable=False\n",
      "        Key          : Value\n",
      "        ('A', 'Apr') :  2297\n",
      "        ('A', 'Aug') :  3371\n",
      "        ('A', 'Dec') :  5183\n",
      "        ('A', 'Feb') :  4878\n",
      "        ('A', 'Jan') :  5240\n",
      "        ('A', 'Jul') :  5334\n",
      "        ('A', 'Jun') :  2275\n",
      "        ('A', 'Mar') :  5942\n",
      "        ('A', 'May') :  1992\n",
      "        ('A', 'Nov') :  4284\n",
      "        ('A', 'Oct') :  3529\n",
      "        ('A', 'Sep') :  3759\n",
      "        ('B', 'Apr') :  2338\n",
      "        ('B', 'Aug') :  2620\n",
      "        ('B', 'Dec') :  4227\n",
      "        ('B', 'Feb') :  2628\n",
      "        ('B', 'Jan') :  4927\n",
      "        ('B', 'Jul') :  4271\n",
      "        ('B', 'Jun') :  3147\n",
      "        ('B', 'Mar') :  2974\n",
      "        ('B', 'May') :  4020\n",
      "        ('B', 'Nov') :  3137\n",
      "        ('B', 'Oct') :  4155\n",
      "        ('B', 'Sep') :  4517\n",
      "        ('C', 'Apr') :  2261\n",
      "        ('C', 'Aug') :  2496\n",
      "        ('C', 'Dec') :  1998\n",
      "        ('C', 'Feb') :  1967\n",
      "        ('C', 'Jan') :  1162\n",
      "        ('C', 'Jul') :  2489\n",
      "        ('C', 'Jun') :  1642\n",
      "        ('C', 'Mar') :  1898\n",
      "        ('C', 'May') :  2030\n",
      "        ('C', 'Nov') :   963\n",
      "        ('C', 'Oct') :  2421\n",
      "        ('C', 'Sep') :   922\n",
      "    rate_FTEAppService_par : FTEApplnServiceRate\n",
      "        Size=1, Index=None, Domain=Any, Default=None, Mutable=False\n",
      "        Key  : Value\n",
      "        None :    40\n",
      "    salaryFTE_par : FTE_Salary\n",
      "        Size=36, Index=salaryFTE_par_index, Domain=Any, Default=None, Mutable=False\n",
      "        Key          : Value\n",
      "        ('A', 'Apr') :            5000.0\n",
      "        ('A', 'Aug') :            5000.0\n",
      "        ('A', 'Dec') :            5000.0\n",
      "        ('A', 'Feb') :            5000.0\n",
      "        ('A', 'Jan') :            5000.0\n",
      "        ('A', 'Jul') :            5000.0\n",
      "        ('A', 'Jun') :            5000.0\n",
      "        ('A', 'Mar') :            5000.0\n",
      "        ('A', 'May') :            5000.0\n",
      "        ('A', 'Nov') :            5000.0\n",
      "        ('A', 'Oct') :            5000.0\n",
      "        ('A', 'Sep') :            5000.0\n",
      "        ('B', 'Apr') : 4583.333333333333\n",
      "        ('B', 'Aug') : 4583.333333333333\n",
      "        ('B', 'Dec') : 4583.333333333333\n",
      "        ('B', 'Feb') : 4583.333333333333\n",
      "        ('B', 'Jan') : 4583.333333333333\n",
      "        ('B', 'Jul') : 4583.333333333333\n",
      "        ('B', 'Jun') : 4583.333333333333\n",
      "        ('B', 'Mar') : 4583.333333333333\n",
      "        ('B', 'May') : 4583.333333333333\n",
      "        ('B', 'Nov') : 4583.333333333333\n",
      "        ('B', 'Oct') : 4583.333333333333\n",
      "        ('B', 'Sep') : 4583.333333333333\n",
      "        ('C', 'Apr') : 4416.666666666667\n",
      "        ('C', 'Aug') : 4416.666666666667\n",
      "        ('C', 'Dec') : 4416.666666666667\n",
      "        ('C', 'Feb') : 4416.666666666667\n",
      "        ('C', 'Jan') : 4416.666666666667\n",
      "        ('C', 'Jul') : 4416.666666666667\n",
      "        ('C', 'Jun') : 4416.666666666667\n",
      "        ('C', 'Mar') : 4416.666666666667\n",
      "        ('C', 'May') : 4416.666666666667\n",
      "        ('C', 'Nov') : 4416.666666666667\n",
      "        ('C', 'Oct') : 4416.666666666667\n",
      "        ('C', 'Sep') : 4416.666666666667\n",
      "    staffAvail_LB_par : Avg_StaffAvailability_LB\n",
      "        Size=36, Index=staffAvail_LB_par_index, Domain=Any, Default=None, Mutable=False\n",
      "        Key          : Value\n",
      "        ('A', 'Apr') :  0.75\n",
      "        ('A', 'Aug') :  0.65\n",
      "        ('A', 'Dec') :   0.6\n",
      "        ('A', 'Feb') :  0.65\n",
      "        ('A', 'Jan') :   0.7\n",
      "        ('A', 'Jul') :   0.6\n",
      "        ('A', 'Jun') :  0.65\n",
      "        ('A', 'Mar') :   0.7\n",
      "        ('A', 'May') :   0.7\n",
      "        ('A', 'Nov') :   0.6\n",
      "        ('A', 'Oct') :  0.65\n",
      "        ('A', 'Sep') :   0.7\n",
      "        ('B', 'Apr') :  0.75\n",
      "        ('B', 'Aug') :  0.65\n",
      "        ('B', 'Dec') :   0.6\n",
      "        ('B', 'Feb') :  0.65\n",
      "        ('B', 'Jan') :   0.7\n",
      "        ('B', 'Jul') :   0.6\n",
      "        ('B', 'Jun') :  0.65\n",
      "        ('B', 'Mar') :   0.7\n",
      "        ('B', 'May') :   0.7\n",
      "        ('B', 'Nov') :   0.6\n",
      "        ('B', 'Oct') :  0.65\n",
      "        ('B', 'Sep') :   0.7\n",
      "        ('C', 'Apr') :  0.75\n",
      "        ('C', 'Aug') :  0.65\n",
      "        ('C', 'Dec') :   0.6\n",
      "        ('C', 'Feb') :  0.65\n",
      "        ('C', 'Jan') :   0.7\n",
      "        ('C', 'Jul') :   0.6\n",
      "        ('C', 'Jun') :  0.65\n",
      "        ('C', 'Mar') :   0.7\n",
      "        ('C', 'May') :   0.7\n",
      "        ('C', 'Nov') :   0.6\n",
      "        ('C', 'Oct') :  0.65\n",
      "        ('C', 'Sep') :   0.7\n",
      "    unitcostOSE_par : UnitOutSourceCost\n",
      "        Size=36, Index=unitcostOSE_par_index, Domain=Any, Default=None, Mutable=False\n",
      "        Key          : Value\n",
      "        ('A', 'Apr') :   180\n",
      "        ('A', 'Aug') :   180\n",
      "        ('A', 'Dec') :   180\n",
      "        ('A', 'Feb') :   180\n",
      "        ('A', 'Jan') :   180\n",
      "        ('A', 'Jul') :   180\n",
      "        ('A', 'Jun') :   180\n",
      "        ('A', 'Mar') :   180\n",
      "        ('A', 'May') :   180\n",
      "        ('A', 'Nov') :   180\n",
      "        ('A', 'Oct') :   180\n",
      "        ('A', 'Sep') :   180\n",
      "        ('B', 'Apr') :   150\n",
      "        ('B', 'Aug') :   150\n",
      "        ('B', 'Dec') :   150\n",
      "        ('B', 'Feb') :   150\n",
      "        ('B', 'Jan') :   150\n",
      "        ('B', 'Jul') :   150\n",
      "        ('B', 'Jun') :   150\n",
      "        ('B', 'Mar') :   150\n",
      "        ('B', 'May') :   150\n",
      "        ('B', 'Nov') :   150\n",
      "        ('B', 'Oct') :   150\n",
      "        ('B', 'Sep') :   150\n",
      "        ('C', 'Apr') :   160\n",
      "        ('C', 'Aug') :   160\n",
      "        ('C', 'Dec') :   160\n",
      "        ('C', 'Feb') :   160\n",
      "        ('C', 'Jan') :   160\n",
      "        ('C', 'Jul') :   160\n",
      "        ('C', 'Jun') :   160\n",
      "        ('C', 'Mar') :   160\n",
      "        ('C', 'May') :   160\n",
      "        ('C', 'Nov') :   160\n",
      "        ('C', 'Oct') :   160\n",
      "        ('C', 'Sep') :   160\n",
      "\n",
      "2 Var Declarations\n",
      "    x : Number_of_FTE\n",
      "        Size=36, Index=x_index\n",
      "        Key          : Lower : Value            : Upper : Fixed : Stale : Domain\n",
      "        ('A', 'Apr') :     0 : 76.5666666666667 :  None : False : False : NonNegativeReals\n",
      "        ('A', 'Aug') :     0 : 90.7692307692308 :  None : False : False : NonNegativeReals\n",
      "        ('A', 'Dec') :     0 : 151.208333333333 :  None : False : False : NonNegativeReals\n",
      "        ('A', 'Feb') :     0 : 131.346153846154 :  None : False : False : NonNegativeReals\n",
      "        ('A', 'Jan') :     0 : 187.142857142857 :  None : False : False : NonNegativeReals\n",
      "        ('A', 'Jul') :     0 : 155.583333333333 :  None : False : False : NonNegativeReals\n",
      "        ('A', 'Jun') :     0 : 61.2692307692308 :  None : False : False : NonNegativeReals\n",
      "        ('A', 'Mar') :     0 : 212.214285714286 :  None : False : False : NonNegativeReals\n",
      "        ('A', 'May') :     0 : 71.1428571428571 :  None : False : False : NonNegativeReals\n",
      "        ('A', 'Nov') :     0 : 124.958333333333 :  None : False : False : NonNegativeReals\n",
      "        ('A', 'Oct') :     0 : 95.0384615384615 :  None : False : False : NonNegativeReals\n",
      "        ('A', 'Sep') :     0 :           134.25 :  None : False : False : NonNegativeReals\n",
      "        ('B', 'Apr') :     0 : 46.7666666666667 :  None : False : False : NonNegativeReals\n",
      "        ('B', 'Aug') :     0 : 60.4615384615385 :  None : False : False : NonNegativeReals\n",
      "        ('B', 'Dec') :     0 : 105.708333333333 :  None : False : False : NonNegativeReals\n",
      "        ('B', 'Feb') :     0 : 60.6538461538462 :  None : False : False : NonNegativeReals\n",
      "        ('B', 'Jan') :     0 : 105.607142857143 :  None : False : False : NonNegativeReals\n",
      "        ('B', 'Jul') :     0 : 106.791666666667 :  None : False : False : NonNegativeReals\n",
      "        ('B', 'Jun') :     0 : 72.6538461538462 :  None : False : False : NonNegativeReals\n",
      "        ('B', 'Mar') :     0 :            63.75 :  None : False : False : NonNegativeReals\n",
      "        ('B', 'May') :     0 : 86.1428571428571 :  None : False : False : NonNegativeReals\n",
      "        ('B', 'Nov') :     0 : 78.4583333333333 :  None : False : False : NonNegativeReals\n",
      "        ('B', 'Oct') :     0 : 95.8846153846154 :  None : False : False : NonNegativeReals\n",
      "        ('B', 'Sep') :     0 : 96.8214285714286 :  None : False : False : NonNegativeReals\n",
      "        ('C', 'Apr') :     0 : 75.3666666666667 :  None : False : False : NonNegativeReals\n",
      "        ('C', 'Aug') :     0 :              0.0 :  None : False : False : NonNegativeReals\n",
      "        ('C', 'Dec') :     0 :              0.0 :  None : False : False : NonNegativeReals\n",
      "        ('C', 'Feb') :     0 :              0.0 :  None : False : False : NonNegativeReals\n",
      "        ('C', 'Jan') :     0 :             41.5 :  None : False : False : NonNegativeReals\n",
      "        ('C', 'Jul') :     0 :              0.0 :  None : False : False : NonNegativeReals\n",
      "        ('C', 'Jun') :     0 :              0.0 :  None : False : False : NonNegativeReals\n",
      "        ('C', 'Mar') :     0 : 67.7857142857143 :  None : False : False : NonNegativeReals\n",
      "        ('C', 'May') :     0 :             72.5 :  None : False : False : NonNegativeReals\n",
      "        ('C', 'Nov') :     0 :              0.0 :  None : False : False : NonNegativeReals\n",
      "        ('C', 'Oct') :     0 :              0.0 :  None : False : False : NonNegativeReals\n",
      "        ('C', 'Sep') :     0 : 32.9285714285714 :  None : False : False : NonNegativeReals\n",
      "    y : Number_of_OutSourced_Applications\n",
      "        Size=36, Index=y_index\n",
      "        Key          : Lower : Value  : Upper : Fixed : Stale : Domain\n",
      "        ('A', 'Apr') :     0 :    0.0 :  None : False : False : NonNegativeIntegers\n",
      "        ('A', 'Aug') :     0 : 1011.0 :  None : False : False : NonNegativeIntegers\n",
      "        ('A', 'Dec') :     0 : 1554.0 :  None : False : False : NonNegativeIntegers\n",
      "        ('A', 'Feb') :     0 : 1463.0 :  None : False : False : NonNegativeIntegers\n",
      "        ('A', 'Jan') :     0 :    0.0 :  None : False : False : NonNegativeIntegers\n",
      "        ('A', 'Jul') :     0 : 1600.0 :  None : False : False : NonNegativeIntegers\n",
      "        ('A', 'Jun') :     0 :  682.0 :  None : False : False : NonNegativeIntegers\n",
      "        ('A', 'Mar') :     0 :    0.0 :  None : False : False : NonNegativeIntegers\n",
      "        ('A', 'May') :     0 :    0.0 :  None : False : False : NonNegativeIntegers\n",
      "        ('A', 'Nov') :     0 : 1285.0 :  None : False : False : NonNegativeIntegers\n",
      "        ('A', 'Oct') :     0 : 1058.0 :  None : False : False : NonNegativeIntegers\n",
      "        ('A', 'Sep') :     0 :    0.0 :  None : False : False : NonNegativeIntegers\n",
      "        ('B', 'Apr') :     0 :  935.0 :  None : False : False : NonNegativeIntegers\n",
      "        ('B', 'Aug') :     0 : 1048.0 :  None : False : False : NonNegativeIntegers\n",
      "        ('B', 'Dec') :     0 : 1690.0 :  None : False : False : NonNegativeIntegers\n",
      "        ('B', 'Feb') :     0 : 1051.0 :  None : False : False : NonNegativeIntegers\n",
      "        ('B', 'Jan') :     0 : 1970.0 :  None : False : False : NonNegativeIntegers\n",
      "        ('B', 'Jul') :     0 : 1708.0 :  None : False : False : NonNegativeIntegers\n",
      "        ('B', 'Jun') :     0 : 1258.0 :  None : False : False : NonNegativeIntegers\n",
      "        ('B', 'Mar') :     0 : 1189.0 :  None : False : False : NonNegativeIntegers\n",
      "        ('B', 'May') :     0 : 1608.0 :  None : False : False : NonNegativeIntegers\n",
      "        ('B', 'Nov') :     0 : 1254.0 :  None : False : False : NonNegativeIntegers\n",
      "        ('B', 'Oct') :     0 : 1662.0 :  None : False : False : NonNegativeIntegers\n",
      "        ('B', 'Sep') :     0 : 1806.0 :  None : False : False : NonNegativeIntegers\n",
      "        ('C', 'Apr') :     0 :    0.0 :  None : False : False : NonNegativeIntegers\n",
      "        ('C', 'Aug') :     0 : 2496.0 :  None : False : False : NonNegativeIntegers\n",
      "        ('C', 'Dec') :     0 : 1998.0 :  None : False : False : NonNegativeIntegers\n",
      "        ('C', 'Feb') :     0 : 1967.0 :  None : False : False : NonNegativeIntegers\n",
      "        ('C', 'Jan') :     0 :    0.0 :  None : False : False : NonNegativeIntegers\n",
      "        ('C', 'Jul') :     0 : 2489.0 :  None : False : False : NonNegativeIntegers\n",
      "        ('C', 'Jun') :     0 : 1642.0 :  None : False : False : NonNegativeIntegers\n",
      "        ('C', 'Mar') :     0 :    0.0 :  None : False : False : NonNegativeIntegers\n",
      "        ('C', 'May') :     0 :    0.0 :  None : False : False : NonNegativeIntegers\n",
      "        ('C', 'Nov') :     0 :  963.0 :  None : False : False : NonNegativeIntegers\n",
      "        ('C', 'Oct') :     0 : 2421.0 :  None : False : False : NonNegativeIntegers\n",
      "        ('C', 'Sep') :     0 :    0.0 :  None : False : False : NonNegativeIntegers\n",
      "\n",
      "1 Objective Declarations\n",
      "    objective : ObjectiveFunction_LB\n",
      "        Size=1, Index=None, Active=True\n",
      "        Key  : Active : Sense    : Expression\n",
      "        None :   True : minimize : 5000.0*x[A,Jan] + 5000.0*x[A,Feb] + 5000.0*x[A,Mar] + 5000.0*x[A,Apr] + 5000.0*x[A,May] + 5000.0*x[A,Jun] + 5000.0*x[A,Jul] + 5000.0*x[A,Aug] + 5000.0*x[A,Sep] + 5000.0*x[A,Oct] + 5000.0*x[A,Nov] + 5000.0*x[A,Dec] + 4583.333333333333*x[B,Jan] + 4583.333333333333*x[B,Feb] + 4583.333333333333*x[B,Mar] + 4583.333333333333*x[B,Apr] + 4583.333333333333*x[B,May] + 4583.333333333333*x[B,Jun] + 4583.333333333333*x[B,Jul] + 4583.333333333333*x[B,Aug] + 4583.333333333333*x[B,Sep] + 4583.333333333333*x[B,Oct] + 4583.333333333333*x[B,Nov] + 4583.333333333333*x[B,Dec] + 4416.666666666667*x[C,Jan] + 4416.666666666667*x[C,Feb] + 4416.666666666667*x[C,Mar] + 4416.666666666667*x[C,Apr] + 4416.666666666667*x[C,May] + 4416.666666666667*x[C,Jun] + 4416.666666666667*x[C,Jul] + 4416.666666666667*x[C,Aug] + 4416.666666666667*x[C,Sep] + 4416.666666666667*x[C,Oct] + 4416.666666666667*x[C,Nov] + 4416.666666666667*x[C,Dec] + 180*y[A,Jan] + 180*y[A,Feb] + 180*y[A,Mar] + 180*y[A,Apr] + 180*y[A,May] + 180*y[A,Jun] + 180*y[A,Jul] + 180*y[A,Aug] + 180*y[A,Sep] + 180*y[A,Oct] + 180*y[A,Nov] + 180*y[A,Dec] + 150*y[B,Jan] + 150*y[B,Feb] + 150*y[B,Mar] + 150*y[B,Apr] + 150*y[B,May] + 150*y[B,Jun] + 150*y[B,Jul] + 150*y[B,Aug] + 150*y[B,Sep] + 150*y[B,Oct] + 150*y[B,Nov] + 150*y[B,Dec] + 160*y[C,Jan] + 160*y[C,Feb] + 160*y[C,Mar] + 160*y[C,Apr] + 160*y[C,May] + 160*y[C,Jun] + 160*y[C,Jul] + 160*y[C,Aug] + 160*y[C,Sep] + 160*y[C,Oct] + 160*y[C,Nov] + 160*y[C,Dec]\n",
      "\n",
      "2 Constraint Declarations\n",
      "    demand_constraint : Size=36, Index=demand_constraint_index, Active=True\n",
      "        Key : Lower  : Body                     : Upper  : Active\n",
      "          1 : 5240.0 : 28.0*x[A,Jan] + y[A,Jan] : 5240.0 :   True\n",
      "          2 : 4878.0 : 26.0*x[A,Feb] + y[A,Feb] : 4878.0 :   True\n",
      "          3 : 5942.0 : 28.0*x[A,Mar] + y[A,Mar] : 5942.0 :   True\n",
      "          4 : 2297.0 : 30.0*x[A,Apr] + y[A,Apr] : 2297.0 :   True\n",
      "          5 : 1992.0 : 28.0*x[A,May] + y[A,May] : 1992.0 :   True\n",
      "          6 : 2275.0 : 26.0*x[A,Jun] + y[A,Jun] : 2275.0 :   True\n",
      "          7 : 5334.0 : 24.0*x[A,Jul] + y[A,Jul] : 5334.0 :   True\n",
      "          8 : 3371.0 : 26.0*x[A,Aug] + y[A,Aug] : 3371.0 :   True\n",
      "          9 : 3759.0 : 28.0*x[A,Sep] + y[A,Sep] : 3759.0 :   True\n",
      "         10 : 3529.0 : 26.0*x[A,Oct] + y[A,Oct] : 3529.0 :   True\n",
      "         11 : 4284.0 : 24.0*x[A,Nov] + y[A,Nov] : 4284.0 :   True\n",
      "         12 : 5183.0 : 24.0*x[A,Dec] + y[A,Dec] : 5183.0 :   True\n",
      "         13 : 4927.0 : 28.0*x[B,Jan] + y[B,Jan] : 4927.0 :   True\n",
      "         14 : 2628.0 : 26.0*x[B,Feb] + y[B,Feb] : 2628.0 :   True\n",
      "         15 : 2974.0 : 28.0*x[B,Mar] + y[B,Mar] : 2974.0 :   True\n",
      "         16 : 2338.0 : 30.0*x[B,Apr] + y[B,Apr] : 2338.0 :   True\n",
      "         17 : 4020.0 : 28.0*x[B,May] + y[B,May] : 4020.0 :   True\n",
      "         18 : 3147.0 : 26.0*x[B,Jun] + y[B,Jun] : 3147.0 :   True\n",
      "         19 : 4271.0 : 24.0*x[B,Jul] + y[B,Jul] : 4271.0 :   True\n",
      "         20 : 2620.0 : 26.0*x[B,Aug] + y[B,Aug] : 2620.0 :   True\n",
      "         21 : 4517.0 : 28.0*x[B,Sep] + y[B,Sep] : 4517.0 :   True\n",
      "         22 : 4155.0 : 26.0*x[B,Oct] + y[B,Oct] : 4155.0 :   True\n",
      "         23 : 3137.0 : 24.0*x[B,Nov] + y[B,Nov] : 3137.0 :   True\n",
      "         24 : 4227.0 : 24.0*x[B,Dec] + y[B,Dec] : 4227.0 :   True\n",
      "         25 : 1162.0 : 28.0*x[C,Jan] + y[C,Jan] : 1162.0 :   True\n",
      "         26 : 1967.0 : 26.0*x[C,Feb] + y[C,Feb] : 1967.0 :   True\n",
      "         27 : 1898.0 : 28.0*x[C,Mar] + y[C,Mar] : 1898.0 :   True\n",
      "         28 : 2261.0 : 30.0*x[C,Apr] + y[C,Apr] : 2261.0 :   True\n",
      "         29 : 2030.0 : 28.0*x[C,May] + y[C,May] : 2030.0 :   True\n",
      "         30 : 1642.0 : 26.0*x[C,Jun] + y[C,Jun] : 1642.0 :   True\n",
      "         31 : 2489.0 : 24.0*x[C,Jul] + y[C,Jul] : 2489.0 :   True\n",
      "         32 : 2496.0 : 26.0*x[C,Aug] + y[C,Aug] : 2496.0 :   True\n",
      "         33 :  922.0 : 28.0*x[C,Sep] + y[C,Sep] :  922.0 :   True\n",
      "         34 : 2421.0 : 26.0*x[C,Oct] + y[C,Oct] : 2421.0 :   True\n",
      "         35 :  963.0 : 24.0*x[C,Nov] + y[C,Nov] :  963.0 :   True\n",
      "         36 : 1998.0 : 24.0*x[C,Dec] + y[C,Dec] : 1998.0 :   True\n",
      "    regulatory_constraint : Size=24, Index=regulatory_constraint_index, Active=True\n",
      "        Key : Lower : Body     : Upper              : Active\n",
      "          1 :  -Inf : y[A,Jan] :             1572.0 :   True\n",
      "          2 :  -Inf : y[A,Feb] : 1463.3999999999999 :   True\n",
      "          3 :  -Inf : y[A,Mar] :             1782.6 :   True\n",
      "          4 :  -Inf : y[A,Apr] :              689.1 :   True\n",
      "          5 :  -Inf : y[A,May] :              597.6 :   True\n",
      "          6 :  -Inf : y[A,Jun] :              682.5 :   True\n",
      "          7 :  -Inf : y[A,Jul] :             1600.2 :   True\n",
      "          8 :  -Inf : y[A,Aug] :             1011.3 :   True\n",
      "          9 :  -Inf : y[A,Sep] :             1127.7 :   True\n",
      "         10 :  -Inf : y[A,Oct] :             1058.7 :   True\n",
      "         11 :  -Inf : y[A,Nov] :             1285.2 :   True\n",
      "         12 :  -Inf : y[A,Dec] : 1554.8999999999999 :   True\n",
      "         13 :  -Inf : y[B,Jan] : 1970.8000000000002 :   True\n",
      "         14 :  -Inf : y[B,Feb] :             1051.2 :   True\n",
      "         15 :  -Inf : y[B,Mar] : 1189.6000000000001 :   True\n",
      "         16 :  -Inf : y[B,Apr] :              935.2 :   True\n",
      "         17 :  -Inf : y[B,May] :             1608.0 :   True\n",
      "         18 :  -Inf : y[B,Jun] : 1258.8000000000002 :   True\n",
      "         19 :  -Inf : y[B,Jul] :             1708.4 :   True\n",
      "         20 :  -Inf : y[B,Aug] :             1048.0 :   True\n",
      "         21 :  -Inf : y[B,Sep] : 1806.8000000000002 :   True\n",
      "         22 :  -Inf : y[B,Oct] :             1662.0 :   True\n",
      "         23 :  -Inf : y[B,Nov] : 1254.8000000000002 :   True\n",
      "         24 :  -Inf : y[B,Dec] : 1690.8000000000002 :   True\n",
      "\n",
      "26 Declarations: i j demand_par_index demand_par salaryFTE_par_index salaryFTE_par unitcostOSE_par_index unitcostOSE_par staffAvail_LB_par_index staffAvail_LB_par rate_FTEAppService_par FTEAppNumber_LB_index FTEAppNumber_LB Reg_A_index Reg_A Reg_B_index Reg_B x_index x y_index y demand_constraint_index demand_constraint regulatory_constraint_index regulatory_constraint objective\n"
     ]
    }
   ],
   "source": [
    "# Print the value of the objective function\n",
    "\n",
    "model.pprint()"
   ]
  },
  {
   "cell_type": "code",
   "execution_count": 83,
   "metadata": {},
   "outputs": [
    {
     "name": "stdout",
     "output_type": "stream",
     "text": [
      "******* FOR THE WORST CASE *******\n",
      "The number of Staff at the location A in the month of Jan is  187.142857142857\n",
      "******* FOR THE WORST CASE *******\n",
      "The number of Staff at the location A in the month of Feb is  131.346153846154\n",
      "******* FOR THE WORST CASE *******\n",
      "The number of Staff at the location A in the month of Mar is  212.214285714286\n",
      "******* FOR THE WORST CASE *******\n",
      "The number of Staff at the location A in the month of Apr is  76.5666666666667\n",
      "******* FOR THE WORST CASE *******\n",
      "The number of Staff at the location A in the month of May is  71.1428571428571\n",
      "******* FOR THE WORST CASE *******\n",
      "The number of Staff at the location A in the month of Jun is  61.2692307692308\n",
      "******* FOR THE WORST CASE *******\n",
      "The number of Staff at the location A in the month of Jul is  155.583333333333\n",
      "******* FOR THE WORST CASE *******\n",
      "The number of Staff at the location A in the month of Aug is  90.7692307692308\n",
      "******* FOR THE WORST CASE *******\n",
      "The number of Staff at the location A in the month of Sep is  134.25\n",
      "******* FOR THE WORST CASE *******\n",
      "The number of Staff at the location A in the month of Oct is  95.0384615384615\n",
      "******* FOR THE WORST CASE *******\n",
      "The number of Staff at the location A in the month of Nov is  124.958333333333\n",
      "******* FOR THE WORST CASE *******\n",
      "The number of Staff at the location A in the month of Dec is  151.208333333333\n",
      "******* FOR THE WORST CASE *******\n",
      "The number of Staff at the location B in the month of Jan is  105.607142857143\n",
      "******* FOR THE WORST CASE *******\n",
      "The number of Staff at the location B in the month of Feb is  60.6538461538462\n",
      "******* FOR THE WORST CASE *******\n",
      "The number of Staff at the location B in the month of Mar is  63.75\n",
      "******* FOR THE WORST CASE *******\n",
      "The number of Staff at the location B in the month of Apr is  46.7666666666667\n",
      "******* FOR THE WORST CASE *******\n",
      "The number of Staff at the location B in the month of May is  86.1428571428571\n",
      "******* FOR THE WORST CASE *******\n",
      "The number of Staff at the location B in the month of Jun is  72.6538461538462\n",
      "******* FOR THE WORST CASE *******\n",
      "The number of Staff at the location B in the month of Jul is  106.791666666667\n",
      "******* FOR THE WORST CASE *******\n",
      "The number of Staff at the location B in the month of Aug is  60.4615384615385\n",
      "******* FOR THE WORST CASE *******\n",
      "The number of Staff at the location B in the month of Sep is  96.8214285714286\n",
      "******* FOR THE WORST CASE *******\n",
      "The number of Staff at the location B in the month of Oct is  95.8846153846154\n",
      "******* FOR THE WORST CASE *******\n",
      "The number of Staff at the location B in the month of Nov is  78.4583333333333\n",
      "******* FOR THE WORST CASE *******\n",
      "The number of Staff at the location B in the month of Dec is  105.708333333333\n",
      "******* FOR THE WORST CASE *******\n",
      "The number of Staff at the location C in the month of Jan is  41.5\n",
      "******* FOR THE WORST CASE *******\n",
      "The number of Staff at the location C in the month of Feb is  0.0\n",
      "******* FOR THE WORST CASE *******\n",
      "The number of Staff at the location C in the month of Mar is  67.7857142857143\n",
      "******* FOR THE WORST CASE *******\n",
      "The number of Staff at the location C in the month of Apr is  75.3666666666667\n",
      "******* FOR THE WORST CASE *******\n",
      "The number of Staff at the location C in the month of May is  72.5\n",
      "******* FOR THE WORST CASE *******\n",
      "The number of Staff at the location C in the month of Jun is  0.0\n",
      "******* FOR THE WORST CASE *******\n",
      "The number of Staff at the location C in the month of Jul is  0.0\n",
      "******* FOR THE WORST CASE *******\n",
      "The number of Staff at the location C in the month of Aug is  0.0\n",
      "******* FOR THE WORST CASE *******\n",
      "The number of Staff at the location C in the month of Sep is  32.9285714285714\n",
      "******* FOR THE WORST CASE *******\n",
      "The number of Staff at the location C in the month of Oct is  0.0\n",
      "******* FOR THE WORST CASE *******\n",
      "The number of Staff at the location C in the month of Nov is  0.0\n",
      "******* FOR THE WORST CASE *******\n",
      "The number of Staff at the location C in the month of Dec is  0.0\n"
     ]
    }
   ],
   "source": [
    "# Display the number Staff for each State every Month respectively\n",
    "\n",
    "for i in location_state:\n",
    "    for j in month:\n",
    "        print(\"******* FOR THE WORST CASE *******\")\n",
    "        print(\"The number of Staff at the location \" + i + \" in the month of \" + j + \" is \", model.x[i,j].value)\n",
    "\n",
    "\n"
   ]
  },
  {
   "cell_type": "code",
   "execution_count": 84,
   "metadata": {},
   "outputs": [
    {
     "name": "stdout",
     "output_type": "stream",
     "text": [
      "******* FOR THE WORST CASE *******\n",
      "The number of Applications processed by the OutSourced Vendors at the location A in the month of Jan is  0.0\n",
      "******* FOR THE WORST CASE *******\n",
      "The number of Applications processed by the OutSourced Vendors at the location A in the month of Feb is  1463.0\n",
      "******* FOR THE WORST CASE *******\n",
      "The number of Applications processed by the OutSourced Vendors at the location A in the month of Mar is  0.0\n",
      "******* FOR THE WORST CASE *******\n",
      "The number of Applications processed by the OutSourced Vendors at the location A in the month of Apr is  0.0\n",
      "******* FOR THE WORST CASE *******\n",
      "The number of Applications processed by the OutSourced Vendors at the location A in the month of May is  0.0\n",
      "******* FOR THE WORST CASE *******\n",
      "The number of Applications processed by the OutSourced Vendors at the location A in the month of Jun is  682.0\n",
      "******* FOR THE WORST CASE *******\n",
      "The number of Applications processed by the OutSourced Vendors at the location A in the month of Jul is  1600.0\n",
      "******* FOR THE WORST CASE *******\n",
      "The number of Applications processed by the OutSourced Vendors at the location A in the month of Aug is  1011.0\n",
      "******* FOR THE WORST CASE *******\n",
      "The number of Applications processed by the OutSourced Vendors at the location A in the month of Sep is  0.0\n",
      "******* FOR THE WORST CASE *******\n",
      "The number of Applications processed by the OutSourced Vendors at the location A in the month of Oct is  1058.0\n",
      "******* FOR THE WORST CASE *******\n",
      "The number of Applications processed by the OutSourced Vendors at the location A in the month of Nov is  1285.0\n",
      "******* FOR THE WORST CASE *******\n",
      "The number of Applications processed by the OutSourced Vendors at the location A in the month of Dec is  1554.0\n",
      "******* FOR THE WORST CASE *******\n",
      "The number of Applications processed by the OutSourced Vendors at the location B in the month of Jan is  1970.0\n",
      "******* FOR THE WORST CASE *******\n",
      "The number of Applications processed by the OutSourced Vendors at the location B in the month of Feb is  1051.0\n",
      "******* FOR THE WORST CASE *******\n",
      "The number of Applications processed by the OutSourced Vendors at the location B in the month of Mar is  1189.0\n",
      "******* FOR THE WORST CASE *******\n",
      "The number of Applications processed by the OutSourced Vendors at the location B in the month of Apr is  935.0\n",
      "******* FOR THE WORST CASE *******\n",
      "The number of Applications processed by the OutSourced Vendors at the location B in the month of May is  1608.0\n",
      "******* FOR THE WORST CASE *******\n",
      "The number of Applications processed by the OutSourced Vendors at the location B in the month of Jun is  1258.0\n",
      "******* FOR THE WORST CASE *******\n",
      "The number of Applications processed by the OutSourced Vendors at the location B in the month of Jul is  1708.0\n",
      "******* FOR THE WORST CASE *******\n",
      "The number of Applications processed by the OutSourced Vendors at the location B in the month of Aug is  1048.0\n",
      "******* FOR THE WORST CASE *******\n",
      "The number of Applications processed by the OutSourced Vendors at the location B in the month of Sep is  1806.0\n",
      "******* FOR THE WORST CASE *******\n",
      "The number of Applications processed by the OutSourced Vendors at the location B in the month of Oct is  1662.0\n",
      "******* FOR THE WORST CASE *******\n",
      "The number of Applications processed by the OutSourced Vendors at the location B in the month of Nov is  1254.0\n",
      "******* FOR THE WORST CASE *******\n",
      "The number of Applications processed by the OutSourced Vendors at the location B in the month of Dec is  1690.0\n",
      "******* FOR THE WORST CASE *******\n",
      "The number of Applications processed by the OutSourced Vendors at the location C in the month of Jan is  0.0\n",
      "******* FOR THE WORST CASE *******\n",
      "The number of Applications processed by the OutSourced Vendors at the location C in the month of Feb is  1967.0\n",
      "******* FOR THE WORST CASE *******\n",
      "The number of Applications processed by the OutSourced Vendors at the location C in the month of Mar is  0.0\n",
      "******* FOR THE WORST CASE *******\n",
      "The number of Applications processed by the OutSourced Vendors at the location C in the month of Apr is  0.0\n",
      "******* FOR THE WORST CASE *******\n",
      "The number of Applications processed by the OutSourced Vendors at the location C in the month of May is  0.0\n",
      "******* FOR THE WORST CASE *******\n",
      "The number of Applications processed by the OutSourced Vendors at the location C in the month of Jun is  1642.0\n",
      "******* FOR THE WORST CASE *******\n",
      "The number of Applications processed by the OutSourced Vendors at the location C in the month of Jul is  2489.0\n",
      "******* FOR THE WORST CASE *******\n",
      "The number of Applications processed by the OutSourced Vendors at the location C in the month of Aug is  2496.0\n",
      "******* FOR THE WORST CASE *******\n",
      "The number of Applications processed by the OutSourced Vendors at the location C in the month of Sep is  0.0\n",
      "******* FOR THE WORST CASE *******\n",
      "The number of Applications processed by the OutSourced Vendors at the location C in the month of Oct is  2421.0\n",
      "******* FOR THE WORST CASE *******\n",
      "The number of Applications processed by the OutSourced Vendors at the location C in the month of Nov is  963.0\n",
      "******* FOR THE WORST CASE *******\n",
      "The number of Applications processed by the OutSourced Vendors at the location C in the month of Dec is  1998.0\n"
     ]
    }
   ],
   "source": [
    "#Display the Number of Applications processed by the OutSourced Vendors for each State every Month respectively\n",
    "\n",
    "for i in location_state:\n",
    "    for j in month:\n",
    "        print(\"******* FOR THE WORST CASE *******\")\n",
    "        print(\"The number of Applications processed by the OutSourced Vendors at the location \" + i + \" in the month of \" + j + \" is \", model.y[i,j].value)\n",
    "\n",
    "\n",
    "\n"
   ]
  },
  {
   "cell_type": "code",
   "execution_count": 85,
   "metadata": {},
   "outputs": [
    {
     "data": {
      "text/plain": [
       "19599482.516788766"
      ]
     },
     "execution_count": 85,
     "metadata": {},
     "output_type": "execute_result"
    }
   ],
   "source": [
    "# Print the total cost incurred for the company\n",
    "\n",
    "# This is our expected solution\n",
    "\n",
    "total_cost_LB = model.objective.expr()\n",
    "\n",
    "total_cost_LB\n",
    "\n"
   ]
  },
  {
   "cell_type": "markdown",
   "metadata": {},
   "source": [
    "**`Checkpoint 2:`** The company has to spend around 19.6 m$ in total for the application approval process if the staffs are working with the minimum availability."
   ]
  },
  {
   "cell_type": "markdown",
   "metadata": {},
   "source": [
    "### So, the total cost incurred for the company in the worst case scenario is around 19599482 , i.e. around 19.59 Million"
   ]
  },
  {
   "cell_type": "code",
   "execution_count": 86,
   "metadata": {},
   "outputs": [],
   "source": [
    "#Creating dataframe for the results\n",
    "\n",
    "#Let's start by creating a list \"staff_df_wc\" that contains the numbers of FTEs and the OutSourced Applications\n",
    "\n",
    "#Creating an empty list\n",
    "\n",
    "staff_df_wc = []\n",
    "\n",
    "for i in location_state:\n",
    "    for j in month:\n",
    "        #value for variable x\n",
    "        x_value = model.x[i,j].value #This gives the number of FTEs\n",
    "        #value for variable y\n",
    "        y_value = model.y[i,j].value #This gives the number of OutSourced Applications\n",
    "        staff_df_wc.append([i,j,x_value,y_value])    #Appending the values to the created list    \n"
   ]
  },
  {
   "cell_type": "code",
   "execution_count": 87,
   "metadata": {},
   "outputs": [],
   "source": [
    "#Let's now convert this list \"staff_df_wc\" into a DataFrame\n",
    "\n",
    "staff_df_wc = pd.DataFrame(staff_df_wc,columns=['State','Month','FTE_WC','OutSourcedApps'])\n"
   ]
  },
  {
   "cell_type": "code",
   "execution_count": 88,
   "metadata": {
    "scrolled": true
   },
   "outputs": [
    {
     "data": {
      "text/html": [
       "<div>\n",
       "<style scoped>\n",
       "    .dataframe tbody tr th:only-of-type {\n",
       "        vertical-align: middle;\n",
       "    }\n",
       "\n",
       "    .dataframe tbody tr th {\n",
       "        vertical-align: top;\n",
       "    }\n",
       "\n",
       "    .dataframe thead th {\n",
       "        text-align: right;\n",
       "    }\n",
       "</style>\n",
       "<table border=\"1\" class=\"dataframe\">\n",
       "  <thead>\n",
       "    <tr style=\"text-align: right;\">\n",
       "      <th></th>\n",
       "      <th>State</th>\n",
       "      <th>Month</th>\n",
       "      <th>FTE_WC</th>\n",
       "      <th>OutSourcedApps</th>\n",
       "    </tr>\n",
       "  </thead>\n",
       "  <tbody>\n",
       "    <tr>\n",
       "      <th>0</th>\n",
       "      <td>A</td>\n",
       "      <td>Jan</td>\n",
       "      <td>187.142857</td>\n",
       "      <td>0.0</td>\n",
       "    </tr>\n",
       "    <tr>\n",
       "      <th>1</th>\n",
       "      <td>A</td>\n",
       "      <td>Feb</td>\n",
       "      <td>131.346154</td>\n",
       "      <td>1463.0</td>\n",
       "    </tr>\n",
       "    <tr>\n",
       "      <th>2</th>\n",
       "      <td>A</td>\n",
       "      <td>Mar</td>\n",
       "      <td>212.214286</td>\n",
       "      <td>0.0</td>\n",
       "    </tr>\n",
       "    <tr>\n",
       "      <th>3</th>\n",
       "      <td>A</td>\n",
       "      <td>Apr</td>\n",
       "      <td>76.566667</td>\n",
       "      <td>0.0</td>\n",
       "    </tr>\n",
       "    <tr>\n",
       "      <th>4</th>\n",
       "      <td>A</td>\n",
       "      <td>May</td>\n",
       "      <td>71.142857</td>\n",
       "      <td>0.0</td>\n",
       "    </tr>\n",
       "  </tbody>\n",
       "</table>\n",
       "</div>"
      ],
      "text/plain": [
       "  State Month      FTE_WC  OutSourcedApps\n",
       "0     A   Jan  187.142857             0.0\n",
       "1     A   Feb  131.346154          1463.0\n",
       "2     A   Mar  212.214286             0.0\n",
       "3     A   Apr   76.566667             0.0\n",
       "4     A   May   71.142857             0.0"
      ]
     },
     "execution_count": 88,
     "metadata": {},
     "output_type": "execute_result"
    }
   ],
   "source": [
    "#Printing the DataFrame that is created\n",
    "\n",
    "staff_df_wc.head()\n"
   ]
  },
  {
   "cell_type": "markdown",
   "metadata": {},
   "source": [
    "#### LET'S CALCULATE THE AVERAGE FTE PER MONTH"
   ]
  },
  {
   "cell_type": "code",
   "execution_count": 89,
   "metadata": {},
   "outputs": [
    {
     "data": {
      "text/plain": [
       "2761.2709706959704"
      ]
     },
     "execution_count": 89,
     "metadata": {},
     "output_type": "execute_result"
    }
   ],
   "source": [
    "# Let's first calculate the Total FTEs\n",
    "\n",
    "total_FTE_wc = staff_df_wc['FTE_WC'].sum()\n",
    "\n",
    "total_FTE_wc\n"
   ]
  },
  {
   "cell_type": "code",
   "execution_count": 90,
   "metadata": {},
   "outputs": [
    {
     "data": {
      "text/plain": [
       "230.11"
      ]
     },
     "execution_count": 90,
     "metadata": {},
     "output_type": "execute_result"
    }
   ],
   "source": [
    "#Calculating the Average FTE per month\n",
    "\n",
    "avg_FTE_permonth_wc = (total_FTE_wc/12).round(2)\n",
    "\n",
    "avg_FTE_permonth_wc\n"
   ]
  },
  {
   "cell_type": "markdown",
   "metadata": {},
   "source": [
    "### NOTE - For the Worst Case scenario , the optimal number of staff members that the company InsurePlus needs for the insurance application approval process is **230.11**.So, let's round that off to **231** "
   ]
  },
  {
   "cell_type": "code",
   "execution_count": 91,
   "metadata": {},
   "outputs": [
    {
     "data": {
      "text/plain": [
       "113294"
      ]
     },
     "execution_count": 91,
     "metadata": {},
     "output_type": "execute_result"
    }
   ],
   "source": [
    "#Let's calculate the total application demand first\n",
    "\n",
    "total_demand_wc = demand_data['Demand'].sum()\n",
    "\n",
    "total_demand_wc\n"
   ]
  },
  {
   "cell_type": "markdown",
   "metadata": {},
   "source": [
    "#### 3.1.2 Percentage of outsourced applications "
   ]
  },
  {
   "cell_type": "markdown",
   "metadata": {},
   "source": [
    "#### LET'S CALCULATE THE PERCENTAGE OF OUTSOURCED APPLICATIONS"
   ]
  },
  {
   "cell_type": "code",
   "execution_count": 92,
   "metadata": {},
   "outputs": [
    {
     "data": {
      "text/plain": [
       "39808.0"
      ]
     },
     "execution_count": 92,
     "metadata": {},
     "output_type": "execute_result"
    }
   ],
   "source": [
    "# let's now calculate the total OutSourced Applications\n",
    "\n",
    "total_outsourced_wc = staff_df_wc['OutSourcedApps'].sum()\n",
    "\n",
    "total_outsourced_wc\n"
   ]
  },
  {
   "cell_type": "code",
   "execution_count": 93,
   "metadata": {},
   "outputs": [
    {
     "data": {
      "text/plain": [
       "35.14"
      ]
     },
     "execution_count": 93,
     "metadata": {},
     "output_type": "execute_result"
    }
   ],
   "source": [
    "#Percentage of OutSourced Applications\n",
    "\n",
    "percentage_OutSourced_wc = ((total_outsourced_wc/total_demand_wc)*100).round(2)\n",
    "\n",
    "percentage_OutSourced_wc"
   ]
  },
  {
   "cell_type": "markdown",
   "metadata": {},
   "source": [
    "### NOTE -  In the Worst Case , The percentage of OutSourced Applications is **35.14**"
   ]
  },
  {
   "cell_type": "markdown",
   "metadata": {},
   "source": [
    "#### LET'S CALCULATE THE PERCENTAGE OF APPLICATIONS PROCESSED BY STAFF (i.e., FTEs)"
   ]
  },
  {
   "cell_type": "code",
   "execution_count": 94,
   "metadata": {},
   "outputs": [
    {
     "name": "stdout",
     "output_type": "stream",
     "text": [
      "64.86\n"
     ]
    }
   ],
   "source": [
    "#Percentage of Applications processed by STAFF\n",
    "\n",
    "print(100 - percentage_OutSourced_wc)\n"
   ]
  },
  {
   "cell_type": "markdown",
   "metadata": {},
   "source": [
    "#### 3.1.3 Average cost per application"
   ]
  },
  {
   "cell_type": "markdown",
   "metadata": {},
   "source": [
    "#### LET'S NOW CALCULATE THE AVERAGE COST PER APPLICATION"
   ]
  },
  {
   "cell_type": "code",
   "execution_count": 95,
   "metadata": {},
   "outputs": [
    {
     "data": {
      "text/plain": [
       "172.9966504562357"
      ]
     },
     "execution_count": 95,
     "metadata": {},
     "output_type": "execute_result"
    }
   ],
   "source": [
    "#Calculating the Average cost per application\n",
    "\n",
    "avg_cost_PerApp_wc = total_cost_LB/total_demand_wc\n",
    "\n",
    "\n",
    "avg_cost_PerApp_wc\n"
   ]
  },
  {
   "cell_type": "markdown",
   "metadata": {},
   "source": [
    "### NOTE -  For the Worst Case scenario , The average cost per application is **172.99**"
   ]
  },
  {
   "cell_type": "markdown",
   "metadata": {},
   "source": [
    "## INSIGHTS - CASE 2 "
   ]
  },
  {
   "cell_type": "markdown",
   "metadata": {},
   "source": [
    "### In the Worst Case : \n",
    "\n",
    "1. The optimal number of staff members that the company InsurePlus needs for the insurance application approval process is **230.11**.So, let's round that off to **231** \n",
    "\n",
    "2. The percentage of outsourcing is **35.14**\n",
    "\n",
    "3. The average cost per application is **172.99**\n",
    "\n"
   ]
  },
  {
   "cell_type": "markdown",
   "metadata": {},
   "source": [
    "### 3.2  Best Case Analysis "
   ]
  },
  {
   "cell_type": "markdown",
   "metadata": {},
   "source": [
    "#### 3.2.1 Optimal number of staff members\n"
   ]
  },
  {
   "cell_type": "code",
   "execution_count": 96,
   "metadata": {},
   "outputs": [],
   "source": [
    "# Creating a model instance\n",
    "\n",
    "model = ConcreteModel()\n"
   ]
  },
  {
   "cell_type": "code",
   "execution_count": 97,
   "metadata": {},
   "outputs": [],
   "source": [
    "# Define Pyomo sets and Parameters\n"
   ]
  },
  {
   "cell_type": "code",
   "execution_count": 98,
   "metadata": {},
   "outputs": [],
   "source": [
    "# Let's now define the Sets\n",
    "\n",
    "# i --------> insurance company's locations A,B,C\n",
    "\n",
    "# j --------> months Jan,Feb,Mar,....,Dec\n",
    "\n",
    "\n",
    "model.i = Set(initialize = location_state, doc = 'States')\n",
    "\n",
    "model.j = Set(initialize = month, doc = 'Months')\n",
    "\n",
    "\n",
    "\n"
   ]
  },
  {
   "cell_type": "code",
   "execution_count": 99,
   "metadata": {},
   "outputs": [],
   "source": [
    "# Let's now define the parameters"
   ]
  },
  {
   "cell_type": "code",
   "execution_count": 100,
   "metadata": {},
   "outputs": [],
   "source": [
    "#Let's start with defining the parameters for Demand\n",
    "\n",
    "\n",
    "model.demand_par = Param(model.i, model.j, initialize=dict_demand, doc = 'Demand')\n",
    "\n"
   ]
  },
  {
   "cell_type": "code",
   "execution_count": 101,
   "metadata": {},
   "outputs": [],
   "source": [
    "#Parameter for FTE_Salary\n",
    "\n",
    "model.salaryFTE_par = Param(model.i,model.j,initialize=dict_FTE_Salary, doc = 'FTE_Salary')\n"
   ]
  },
  {
   "cell_type": "code",
   "execution_count": 102,
   "metadata": {},
   "outputs": [],
   "source": [
    "#Parameter for OSE_UnitCost\n",
    "\n",
    "model.unitcostOSE_par = Param(model.i,model.j,initialize=dict_OSE_UnitCost, doc = 'UnitOutSourceCost')\n"
   ]
  },
  {
   "cell_type": "code",
   "execution_count": 103,
   "metadata": {},
   "outputs": [],
   "source": [
    "#Parameter for Staff_Availability_BestCase\n",
    "\n",
    "model.staffAvail_UB_par = Param(model.i,model.j,initialize=dict_StaffAvail_UB, doc = 'Avg_StaffAvailability_UB')\n",
    "\n"
   ]
  },
  {
   "cell_type": "code",
   "execution_count": 104,
   "metadata": {},
   "outputs": [],
   "source": [
    "#Parameter for Service rate of application when all (100 percent) of the FTE Employees are working\n",
    "\n",
    "model.rate_FTEAppService_par = Param(initialize=FTE_ApplnServiceRate, doc='FTEApplnServiceRate')\n",
    "\n"
   ]
  },
  {
   "cell_type": "code",
   "execution_count": 105,
   "metadata": {},
   "outputs": [],
   "source": [
    "#Parameter for how many applications can be processed for the given staff availability\n",
    "\n",
    "def function_FTEAPP_UB(model,i,j):\n",
    "    return model.rate_FTEAppService_par * model.staffAvail_UB_par[i,j]\n",
    "\n",
    "model.FTEAppNumber_UB = Param(model.i,model.j,initialize = function_FTEAPP_UB, doc = 'Staff_LB')\n",
    "\n"
   ]
  },
  {
   "cell_type": "code",
   "execution_count": 106,
   "metadata": {},
   "outputs": [],
   "source": [
    "#Regulatory Constraint for State A\n",
    "\n",
    "def function_Reg_A(model,i,j):\n",
    "    return 0.30*model.demand_par[i,j]\n",
    "\n",
    "model.Reg_A = Param(model.i,model.j,initialize = function_Reg_A, doc = 'RegulatoryConstraint_Reg_A')\n",
    "\n"
   ]
  },
  {
   "cell_type": "code",
   "execution_count": 107,
   "metadata": {},
   "outputs": [],
   "source": [
    "#Regulatory Constraint for State B\n",
    "\n",
    "def function_Reg_B(model,i,j):\n",
    "    return 0.40*model.demand_par[i,j]\n",
    "\n",
    "model.Reg_B = Param(model.i,model.j,initialize = function_Reg_B, doc = 'RegulatoryConstraint_Reg_B')\n",
    "\n"
   ]
  },
  {
   "cell_type": "code",
   "execution_count": 108,
   "metadata": {},
   "outputs": [],
   "source": [
    "# Decision variables\n",
    "\n",
    "model.x = Var(model.i,model.j,domain = NonNegativeReals , doc = 'Number_of_FTE')\n",
    "\n",
    "model.y = Var(model.i,model.j,domain = NonNegativeIntegers, doc = 'Number_of_OutSourced_Applications')\n",
    "\n"
   ]
  },
  {
   "cell_type": "code",
   "execution_count": 109,
   "metadata": {},
   "outputs": [],
   "source": [
    "# Constraints\n",
    "\n",
    "# Demand Constraint\n",
    "\n",
    "model.demand_constraint = ConstraintList()\n",
    "\n",
    "for i in model.i:\n",
    "    for j in model.j:\n",
    "        model.demand_constraint.add(expr = model.x[i,j]*model.FTEAppNumber_UB[i,j] + model.y[i,j]==model.demand_par[i,j])\n",
    "        \n",
    "\n"
   ]
  },
  {
   "cell_type": "code",
   "execution_count": 110,
   "metadata": {},
   "outputs": [],
   "source": [
    "# Constraints\n",
    "\n",
    "# Regulatory Constraint\n",
    "\n",
    "model.regulatory_constraint = ConstraintList()\n",
    "\n",
    "for i in model.i:\n",
    "    for j in model.j:\n",
    "        if i=='A':\n",
    "            model.regulatory_constraint.add(expr = model.y['A',j] <= model.Reg_A['A',j])\n",
    "        elif i=='B':\n",
    "            model.regulatory_constraint.add(expr = model.y['B',j] <= model.Reg_B['B',j])\n",
    "        \n",
    "\n"
   ]
  },
  {
   "cell_type": "code",
   "execution_count": 111,
   "metadata": {},
   "outputs": [],
   "source": [
    "# Objective function\n",
    "\n",
    "# Function for objective rule\n",
    "\n",
    "def objective_rule(model):\n",
    "    return sum(model.salaryFTE_par[i,j]*model.x[i,j] for i in model.i for j in model.j)+\\\n",
    "            sum(model.unitcostOSE_par[i,j]*model.y[i,j] for i in model.i for j in model.j)\n",
    "\n"
   ]
  },
  {
   "cell_type": "code",
   "execution_count": 112,
   "metadata": {},
   "outputs": [],
   "source": [
    "#Objective function\n",
    "\n",
    "model.objective = Objective(rule = objective_rule, sense = minimize, doc = 'ObjectiveFunction_UB')\n",
    "\n"
   ]
  },
  {
   "cell_type": "code",
   "execution_count": 113,
   "metadata": {},
   "outputs": [],
   "source": [
    "# Invoking the solver\n",
    "\n",
    "result_cost_UB = SolverFactory('glpk').solve(model)\n"
   ]
  },
  {
   "cell_type": "code",
   "execution_count": 114,
   "metadata": {},
   "outputs": [
    {
     "name": "stdout",
     "output_type": "stream",
     "text": [
      "# ==========================================================\n",
      "# = Solver Results                                         =\n",
      "# ==========================================================\n",
      "# ----------------------------------------------------------\n",
      "#   Problem Information\n",
      "# ----------------------------------------------------------\n",
      "Problem: \n",
      "- Name: unknown\n",
      "  Lower bound: 16527535.6379357\n",
      "  Upper bound: 16527535.6379357\n",
      "  Number of objectives: 1\n",
      "  Number of constraints: 61\n",
      "  Number of variables: 73\n",
      "  Number of nonzeros: 97\n",
      "  Sense: minimize\n",
      "# ----------------------------------------------------------\n",
      "#   Solver Information\n",
      "# ----------------------------------------------------------\n",
      "Solver: \n",
      "- Status: ok\n",
      "  Termination condition: optimal\n",
      "  Statistics: \n",
      "    Branch and bound: \n",
      "      Number of bounded subproblems: 0\n",
      "      Number of created subproblems: 0\n",
      "  Error rc: 0\n",
      "  Time: 0.015420913696289062\n",
      "# ----------------------------------------------------------\n",
      "#   Solution Information\n",
      "# ----------------------------------------------------------\n",
      "Solution: \n",
      "- number of solutions: 0\n",
      "  number of solutions displayed: 0\n"
     ]
    }
   ],
   "source": [
    "#Solver Results\n",
    "\n",
    "result_cost_UB.write()\n"
   ]
  },
  {
   "cell_type": "code",
   "execution_count": 115,
   "metadata": {},
   "outputs": [
    {
     "name": "stdout",
     "output_type": "stream",
     "text": [
      "13 Set Declarations\n",
      "    FTEAppNumber_UB_index : Size=1, Index=None, Ordered=True\n",
      "        Key  : Dimen : Domain : Size : Members\n",
      "        None :     2 :    i*j :   36 : {('A', 'Jan'), ('A', 'Feb'), ('A', 'Mar'), ('A', 'Apr'), ('A', 'May'), ('A', 'Jun'), ('A', 'Jul'), ('A', 'Aug'), ('A', 'Sep'), ('A', 'Oct'), ('A', 'Nov'), ('A', 'Dec'), ('B', 'Jan'), ('B', 'Feb'), ('B', 'Mar'), ('B', 'Apr'), ('B', 'May'), ('B', 'Jun'), ('B', 'Jul'), ('B', 'Aug'), ('B', 'Sep'), ('B', 'Oct'), ('B', 'Nov'), ('B', 'Dec'), ('C', 'Jan'), ('C', 'Feb'), ('C', 'Mar'), ('C', 'Apr'), ('C', 'May'), ('C', 'Jun'), ('C', 'Jul'), ('C', 'Aug'), ('C', 'Sep'), ('C', 'Oct'), ('C', 'Nov'), ('C', 'Dec')}\n",
      "    Reg_A_index : Size=1, Index=None, Ordered=True\n",
      "        Key  : Dimen : Domain : Size : Members\n",
      "        None :     2 :    i*j :   36 : {('A', 'Jan'), ('A', 'Feb'), ('A', 'Mar'), ('A', 'Apr'), ('A', 'May'), ('A', 'Jun'), ('A', 'Jul'), ('A', 'Aug'), ('A', 'Sep'), ('A', 'Oct'), ('A', 'Nov'), ('A', 'Dec'), ('B', 'Jan'), ('B', 'Feb'), ('B', 'Mar'), ('B', 'Apr'), ('B', 'May'), ('B', 'Jun'), ('B', 'Jul'), ('B', 'Aug'), ('B', 'Sep'), ('B', 'Oct'), ('B', 'Nov'), ('B', 'Dec'), ('C', 'Jan'), ('C', 'Feb'), ('C', 'Mar'), ('C', 'Apr'), ('C', 'May'), ('C', 'Jun'), ('C', 'Jul'), ('C', 'Aug'), ('C', 'Sep'), ('C', 'Oct'), ('C', 'Nov'), ('C', 'Dec')}\n",
      "    Reg_B_index : Size=1, Index=None, Ordered=True\n",
      "        Key  : Dimen : Domain : Size : Members\n",
      "        None :     2 :    i*j :   36 : {('A', 'Jan'), ('A', 'Feb'), ('A', 'Mar'), ('A', 'Apr'), ('A', 'May'), ('A', 'Jun'), ('A', 'Jul'), ('A', 'Aug'), ('A', 'Sep'), ('A', 'Oct'), ('A', 'Nov'), ('A', 'Dec'), ('B', 'Jan'), ('B', 'Feb'), ('B', 'Mar'), ('B', 'Apr'), ('B', 'May'), ('B', 'Jun'), ('B', 'Jul'), ('B', 'Aug'), ('B', 'Sep'), ('B', 'Oct'), ('B', 'Nov'), ('B', 'Dec'), ('C', 'Jan'), ('C', 'Feb'), ('C', 'Mar'), ('C', 'Apr'), ('C', 'May'), ('C', 'Jun'), ('C', 'Jul'), ('C', 'Aug'), ('C', 'Sep'), ('C', 'Oct'), ('C', 'Nov'), ('C', 'Dec')}\n",
      "    demand_constraint_index : Size=1, Index=None, Ordered=Insertion\n",
      "        Key  : Dimen : Domain : Size : Members\n",
      "        None :     1 :    Any :   36 : {1, 2, 3, 4, 5, 6, 7, 8, 9, 10, 11, 12, 13, 14, 15, 16, 17, 18, 19, 20, 21, 22, 23, 24, 25, 26, 27, 28, 29, 30, 31, 32, 33, 34, 35, 36}\n",
      "    demand_par_index : Size=1, Index=None, Ordered=True\n",
      "        Key  : Dimen : Domain : Size : Members\n",
      "        None :     2 :    i*j :   36 : {('A', 'Jan'), ('A', 'Feb'), ('A', 'Mar'), ('A', 'Apr'), ('A', 'May'), ('A', 'Jun'), ('A', 'Jul'), ('A', 'Aug'), ('A', 'Sep'), ('A', 'Oct'), ('A', 'Nov'), ('A', 'Dec'), ('B', 'Jan'), ('B', 'Feb'), ('B', 'Mar'), ('B', 'Apr'), ('B', 'May'), ('B', 'Jun'), ('B', 'Jul'), ('B', 'Aug'), ('B', 'Sep'), ('B', 'Oct'), ('B', 'Nov'), ('B', 'Dec'), ('C', 'Jan'), ('C', 'Feb'), ('C', 'Mar'), ('C', 'Apr'), ('C', 'May'), ('C', 'Jun'), ('C', 'Jul'), ('C', 'Aug'), ('C', 'Sep'), ('C', 'Oct'), ('C', 'Nov'), ('C', 'Dec')}\n",
      "    i : States\n",
      "        Size=1, Index=None, Ordered=Insertion\n",
      "        Key  : Dimen : Domain : Size : Members\n",
      "        None :     1 :    Any :    3 : {'A', 'B', 'C'}\n",
      "    j : Months\n",
      "        Size=1, Index=None, Ordered=Insertion\n",
      "        Key  : Dimen : Domain : Size : Members\n",
      "        None :     1 :    Any :   12 : {'Jan', 'Feb', 'Mar', 'Apr', 'May', 'Jun', 'Jul', 'Aug', 'Sep', 'Oct', 'Nov', 'Dec'}\n",
      "    regulatory_constraint_index : Size=1, Index=None, Ordered=Insertion\n",
      "        Key  : Dimen : Domain : Size : Members\n",
      "        None :     1 :    Any :   24 : {1, 2, 3, 4, 5, 6, 7, 8, 9, 10, 11, 12, 13, 14, 15, 16, 17, 18, 19, 20, 21, 22, 23, 24}\n",
      "    salaryFTE_par_index : Size=1, Index=None, Ordered=True\n",
      "        Key  : Dimen : Domain : Size : Members\n",
      "        None :     2 :    i*j :   36 : {('A', 'Jan'), ('A', 'Feb'), ('A', 'Mar'), ('A', 'Apr'), ('A', 'May'), ('A', 'Jun'), ('A', 'Jul'), ('A', 'Aug'), ('A', 'Sep'), ('A', 'Oct'), ('A', 'Nov'), ('A', 'Dec'), ('B', 'Jan'), ('B', 'Feb'), ('B', 'Mar'), ('B', 'Apr'), ('B', 'May'), ('B', 'Jun'), ('B', 'Jul'), ('B', 'Aug'), ('B', 'Sep'), ('B', 'Oct'), ('B', 'Nov'), ('B', 'Dec'), ('C', 'Jan'), ('C', 'Feb'), ('C', 'Mar'), ('C', 'Apr'), ('C', 'May'), ('C', 'Jun'), ('C', 'Jul'), ('C', 'Aug'), ('C', 'Sep'), ('C', 'Oct'), ('C', 'Nov'), ('C', 'Dec')}\n",
      "    staffAvail_UB_par_index : Size=1, Index=None, Ordered=True\n",
      "        Key  : Dimen : Domain : Size : Members\n",
      "        None :     2 :    i*j :   36 : {('A', 'Jan'), ('A', 'Feb'), ('A', 'Mar'), ('A', 'Apr'), ('A', 'May'), ('A', 'Jun'), ('A', 'Jul'), ('A', 'Aug'), ('A', 'Sep'), ('A', 'Oct'), ('A', 'Nov'), ('A', 'Dec'), ('B', 'Jan'), ('B', 'Feb'), ('B', 'Mar'), ('B', 'Apr'), ('B', 'May'), ('B', 'Jun'), ('B', 'Jul'), ('B', 'Aug'), ('B', 'Sep'), ('B', 'Oct'), ('B', 'Nov'), ('B', 'Dec'), ('C', 'Jan'), ('C', 'Feb'), ('C', 'Mar'), ('C', 'Apr'), ('C', 'May'), ('C', 'Jun'), ('C', 'Jul'), ('C', 'Aug'), ('C', 'Sep'), ('C', 'Oct'), ('C', 'Nov'), ('C', 'Dec')}\n",
      "    unitcostOSE_par_index : Size=1, Index=None, Ordered=True\n",
      "        Key  : Dimen : Domain : Size : Members\n",
      "        None :     2 :    i*j :   36 : {('A', 'Jan'), ('A', 'Feb'), ('A', 'Mar'), ('A', 'Apr'), ('A', 'May'), ('A', 'Jun'), ('A', 'Jul'), ('A', 'Aug'), ('A', 'Sep'), ('A', 'Oct'), ('A', 'Nov'), ('A', 'Dec'), ('B', 'Jan'), ('B', 'Feb'), ('B', 'Mar'), ('B', 'Apr'), ('B', 'May'), ('B', 'Jun'), ('B', 'Jul'), ('B', 'Aug'), ('B', 'Sep'), ('B', 'Oct'), ('B', 'Nov'), ('B', 'Dec'), ('C', 'Jan'), ('C', 'Feb'), ('C', 'Mar'), ('C', 'Apr'), ('C', 'May'), ('C', 'Jun'), ('C', 'Jul'), ('C', 'Aug'), ('C', 'Sep'), ('C', 'Oct'), ('C', 'Nov'), ('C', 'Dec')}\n",
      "    x_index : Size=1, Index=None, Ordered=True\n",
      "        Key  : Dimen : Domain : Size : Members\n",
      "        None :     2 :    i*j :   36 : {('A', 'Jan'), ('A', 'Feb'), ('A', 'Mar'), ('A', 'Apr'), ('A', 'May'), ('A', 'Jun'), ('A', 'Jul'), ('A', 'Aug'), ('A', 'Sep'), ('A', 'Oct'), ('A', 'Nov'), ('A', 'Dec'), ('B', 'Jan'), ('B', 'Feb'), ('B', 'Mar'), ('B', 'Apr'), ('B', 'May'), ('B', 'Jun'), ('B', 'Jul'), ('B', 'Aug'), ('B', 'Sep'), ('B', 'Oct'), ('B', 'Nov'), ('B', 'Dec'), ('C', 'Jan'), ('C', 'Feb'), ('C', 'Mar'), ('C', 'Apr'), ('C', 'May'), ('C', 'Jun'), ('C', 'Jul'), ('C', 'Aug'), ('C', 'Sep'), ('C', 'Oct'), ('C', 'Nov'), ('C', 'Dec')}\n",
      "    y_index : Size=1, Index=None, Ordered=True\n",
      "        Key  : Dimen : Domain : Size : Members\n",
      "        None :     2 :    i*j :   36 : {('A', 'Jan'), ('A', 'Feb'), ('A', 'Mar'), ('A', 'Apr'), ('A', 'May'), ('A', 'Jun'), ('A', 'Jul'), ('A', 'Aug'), ('A', 'Sep'), ('A', 'Oct'), ('A', 'Nov'), ('A', 'Dec'), ('B', 'Jan'), ('B', 'Feb'), ('B', 'Mar'), ('B', 'Apr'), ('B', 'May'), ('B', 'Jun'), ('B', 'Jul'), ('B', 'Aug'), ('B', 'Sep'), ('B', 'Oct'), ('B', 'Nov'), ('B', 'Dec'), ('C', 'Jan'), ('C', 'Feb'), ('C', 'Mar'), ('C', 'Apr'), ('C', 'May'), ('C', 'Jun'), ('C', 'Jul'), ('C', 'Aug'), ('C', 'Sep'), ('C', 'Oct'), ('C', 'Nov'), ('C', 'Dec')}\n",
      "\n",
      "8 Param Declarations\n",
      "    FTEAppNumber_UB : Staff_LB\n",
      "        Size=36, Index=FTEAppNumber_UB_index, Domain=Any, Default=None, Mutable=False\n",
      "        Key          : Value\n",
      "        ('A', 'Apr') :  34.0\n",
      "        ('A', 'Aug') :  34.0\n",
      "        ('A', 'Dec') :  28.0\n",
      "        ('A', 'Feb') :  34.0\n",
      "        ('A', 'Jan') :  36.0\n",
      "        ('A', 'Jul') :  30.0\n",
      "        ('A', 'Jun') :  32.0\n",
      "        ('A', 'Mar') :  32.0\n",
      "        ('A', 'May') :  34.0\n",
      "        ('A', 'Nov') :  30.0\n",
      "        ('A', 'Oct') :  32.0\n",
      "        ('A', 'Sep') :  36.0\n",
      "        ('B', 'Apr') :  34.0\n",
      "        ('B', 'Aug') :  34.0\n",
      "        ('B', 'Dec') :  28.0\n",
      "        ('B', 'Feb') :  34.0\n",
      "        ('B', 'Jan') :  36.0\n",
      "        ('B', 'Jul') :  30.0\n",
      "        ('B', 'Jun') :  32.0\n",
      "        ('B', 'Mar') :  32.0\n",
      "        ('B', 'May') :  34.0\n",
      "        ('B', 'Nov') :  30.0\n",
      "        ('B', 'Oct') :  32.0\n",
      "        ('B', 'Sep') :  36.0\n",
      "        ('C', 'Apr') :  34.0\n",
      "        ('C', 'Aug') :  34.0\n",
      "        ('C', 'Dec') :  28.0\n",
      "        ('C', 'Feb') :  34.0\n",
      "        ('C', 'Jan') :  36.0\n",
      "        ('C', 'Jul') :  30.0\n",
      "        ('C', 'Jun') :  32.0\n",
      "        ('C', 'Mar') :  32.0\n",
      "        ('C', 'May') :  34.0\n",
      "        ('C', 'Nov') :  30.0\n",
      "        ('C', 'Oct') :  32.0\n",
      "        ('C', 'Sep') :  36.0\n",
      "    Reg_A : RegulatoryConstraint_Reg_A\n",
      "        Size=36, Index=Reg_A_index, Domain=Any, Default=None, Mutable=False\n",
      "        Key          : Value\n",
      "        ('A', 'Apr') :              689.1\n",
      "        ('A', 'Aug') :             1011.3\n",
      "        ('A', 'Dec') : 1554.8999999999999\n",
      "        ('A', 'Feb') : 1463.3999999999999\n",
      "        ('A', 'Jan') :             1572.0\n",
      "        ('A', 'Jul') :             1600.2\n",
      "        ('A', 'Jun') :              682.5\n",
      "        ('A', 'Mar') :             1782.6\n",
      "        ('A', 'May') :              597.6\n",
      "        ('A', 'Nov') :             1285.2\n",
      "        ('A', 'Oct') :             1058.7\n",
      "        ('A', 'Sep') :             1127.7\n",
      "        ('B', 'Apr') :              701.4\n",
      "        ('B', 'Aug') :              786.0\n",
      "        ('B', 'Dec') :             1268.1\n",
      "        ('B', 'Feb') :              788.4\n",
      "        ('B', 'Jan') :             1478.1\n",
      "        ('B', 'Jul') :             1281.3\n",
      "        ('B', 'Jun') :  944.0999999999999\n",
      "        ('B', 'Mar') :  892.1999999999999\n",
      "        ('B', 'May') :             1206.0\n",
      "        ('B', 'Nov') :  941.0999999999999\n",
      "        ('B', 'Oct') :             1246.5\n",
      "        ('B', 'Sep') :             1355.1\n",
      "        ('C', 'Apr') :              678.3\n",
      "        ('C', 'Aug') :              748.8\n",
      "        ('C', 'Dec') :              599.4\n",
      "        ('C', 'Feb') :              590.1\n",
      "        ('C', 'Jan') : 348.59999999999997\n",
      "        ('C', 'Jul') :  746.6999999999999\n",
      "        ('C', 'Jun') : 492.59999999999997\n",
      "        ('C', 'Mar') :              569.4\n",
      "        ('C', 'May') :              609.0\n",
      "        ('C', 'Nov') :              288.9\n",
      "        ('C', 'Oct') :              726.3\n",
      "        ('C', 'Sep') : 276.59999999999997\n",
      "    Reg_B : RegulatoryConstraint_Reg_B\n",
      "        Size=36, Index=Reg_B_index, Domain=Any, Default=None, Mutable=False\n",
      "        Key          : Value\n",
      "        ('A', 'Apr') :  918.8000000000001\n",
      "        ('A', 'Aug') :             1348.4\n",
      "        ('A', 'Dec') : 2073.2000000000003\n",
      "        ('A', 'Feb') :             1951.2\n",
      "        ('A', 'Jan') :             2096.0\n",
      "        ('A', 'Jul') :             2133.6\n",
      "        ('A', 'Jun') :              910.0\n",
      "        ('A', 'Mar') :             2376.8\n",
      "        ('A', 'May') :  796.8000000000001\n",
      "        ('A', 'Nov') : 1713.6000000000001\n",
      "        ('A', 'Oct') : 1411.6000000000001\n",
      "        ('A', 'Sep') : 1503.6000000000001\n",
      "        ('B', 'Apr') :              935.2\n",
      "        ('B', 'Aug') :             1048.0\n",
      "        ('B', 'Dec') : 1690.8000000000002\n",
      "        ('B', 'Feb') :             1051.2\n",
      "        ('B', 'Jan') : 1970.8000000000002\n",
      "        ('B', 'Jul') :             1708.4\n",
      "        ('B', 'Jun') : 1258.8000000000002\n",
      "        ('B', 'Mar') : 1189.6000000000001\n",
      "        ('B', 'May') :             1608.0\n",
      "        ('B', 'Nov') : 1254.8000000000002\n",
      "        ('B', 'Oct') :             1662.0\n",
      "        ('B', 'Sep') : 1806.8000000000002\n",
      "        ('C', 'Apr') :  904.4000000000001\n",
      "        ('C', 'Aug') :  998.4000000000001\n",
      "        ('C', 'Dec') :              799.2\n",
      "        ('C', 'Feb') :  786.8000000000001\n",
      "        ('C', 'Jan') :              464.8\n",
      "        ('C', 'Jul') :              995.6\n",
      "        ('C', 'Jun') :  656.8000000000001\n",
      "        ('C', 'Mar') :              759.2\n",
      "        ('C', 'May') :              812.0\n",
      "        ('C', 'Nov') : 385.20000000000005\n",
      "        ('C', 'Oct') :  968.4000000000001\n",
      "        ('C', 'Sep') :              368.8\n",
      "    demand_par : Demand\n",
      "        Size=36, Index=demand_par_index, Domain=Any, Default=None, Mutable=False\n",
      "        Key          : Value\n",
      "        ('A', 'Apr') :  2297\n",
      "        ('A', 'Aug') :  3371\n",
      "        ('A', 'Dec') :  5183\n",
      "        ('A', 'Feb') :  4878\n",
      "        ('A', 'Jan') :  5240\n",
      "        ('A', 'Jul') :  5334\n",
      "        ('A', 'Jun') :  2275\n",
      "        ('A', 'Mar') :  5942\n",
      "        ('A', 'May') :  1992\n",
      "        ('A', 'Nov') :  4284\n",
      "        ('A', 'Oct') :  3529\n",
      "        ('A', 'Sep') :  3759\n",
      "        ('B', 'Apr') :  2338\n",
      "        ('B', 'Aug') :  2620\n",
      "        ('B', 'Dec') :  4227\n",
      "        ('B', 'Feb') :  2628\n",
      "        ('B', 'Jan') :  4927\n",
      "        ('B', 'Jul') :  4271\n",
      "        ('B', 'Jun') :  3147\n",
      "        ('B', 'Mar') :  2974\n",
      "        ('B', 'May') :  4020\n",
      "        ('B', 'Nov') :  3137\n",
      "        ('B', 'Oct') :  4155\n",
      "        ('B', 'Sep') :  4517\n",
      "        ('C', 'Apr') :  2261\n",
      "        ('C', 'Aug') :  2496\n",
      "        ('C', 'Dec') :  1998\n",
      "        ('C', 'Feb') :  1967\n",
      "        ('C', 'Jan') :  1162\n",
      "        ('C', 'Jul') :  2489\n",
      "        ('C', 'Jun') :  1642\n",
      "        ('C', 'Mar') :  1898\n",
      "        ('C', 'May') :  2030\n",
      "        ('C', 'Nov') :   963\n",
      "        ('C', 'Oct') :  2421\n",
      "        ('C', 'Sep') :   922\n",
      "    rate_FTEAppService_par : FTEApplnServiceRate\n",
      "        Size=1, Index=None, Domain=Any, Default=None, Mutable=False\n",
      "        Key  : Value\n",
      "        None :    40\n",
      "    salaryFTE_par : FTE_Salary\n",
      "        Size=36, Index=salaryFTE_par_index, Domain=Any, Default=None, Mutable=False\n",
      "        Key          : Value\n",
      "        ('A', 'Apr') :            5000.0\n",
      "        ('A', 'Aug') :            5000.0\n",
      "        ('A', 'Dec') :            5000.0\n",
      "        ('A', 'Feb') :            5000.0\n",
      "        ('A', 'Jan') :            5000.0\n",
      "        ('A', 'Jul') :            5000.0\n",
      "        ('A', 'Jun') :            5000.0\n",
      "        ('A', 'Mar') :            5000.0\n",
      "        ('A', 'May') :            5000.0\n",
      "        ('A', 'Nov') :            5000.0\n",
      "        ('A', 'Oct') :            5000.0\n",
      "        ('A', 'Sep') :            5000.0\n",
      "        ('B', 'Apr') : 4583.333333333333\n",
      "        ('B', 'Aug') : 4583.333333333333\n",
      "        ('B', 'Dec') : 4583.333333333333\n",
      "        ('B', 'Feb') : 4583.333333333333\n",
      "        ('B', 'Jan') : 4583.333333333333\n",
      "        ('B', 'Jul') : 4583.333333333333\n",
      "        ('B', 'Jun') : 4583.333333333333\n",
      "        ('B', 'Mar') : 4583.333333333333\n",
      "        ('B', 'May') : 4583.333333333333\n",
      "        ('B', 'Nov') : 4583.333333333333\n",
      "        ('B', 'Oct') : 4583.333333333333\n",
      "        ('B', 'Sep') : 4583.333333333333\n",
      "        ('C', 'Apr') : 4416.666666666667\n",
      "        ('C', 'Aug') : 4416.666666666667\n",
      "        ('C', 'Dec') : 4416.666666666667\n",
      "        ('C', 'Feb') : 4416.666666666667\n",
      "        ('C', 'Jan') : 4416.666666666667\n",
      "        ('C', 'Jul') : 4416.666666666667\n",
      "        ('C', 'Jun') : 4416.666666666667\n",
      "        ('C', 'Mar') : 4416.666666666667\n",
      "        ('C', 'May') : 4416.666666666667\n",
      "        ('C', 'Nov') : 4416.666666666667\n",
      "        ('C', 'Oct') : 4416.666666666667\n",
      "        ('C', 'Sep') : 4416.666666666667\n",
      "    staffAvail_UB_par : Avg_StaffAvailability_UB\n",
      "        Size=36, Index=staffAvail_UB_par_index, Domain=Any, Default=None, Mutable=False\n",
      "        Key          : Value\n",
      "        ('A', 'Apr') :  0.85\n",
      "        ('A', 'Aug') :  0.85\n",
      "        ('A', 'Dec') :   0.7\n",
      "        ('A', 'Feb') :  0.85\n",
      "        ('A', 'Jan') :   0.9\n",
      "        ('A', 'Jul') :  0.75\n",
      "        ('A', 'Jun') :   0.8\n",
      "        ('A', 'Mar') :   0.8\n",
      "        ('A', 'May') :  0.85\n",
      "        ('A', 'Nov') :  0.75\n",
      "        ('A', 'Oct') :   0.8\n",
      "        ('A', 'Sep') :   0.9\n",
      "        ('B', 'Apr') :  0.85\n",
      "        ('B', 'Aug') :  0.85\n",
      "        ('B', 'Dec') :   0.7\n",
      "        ('B', 'Feb') :  0.85\n",
      "        ('B', 'Jan') :   0.9\n",
      "        ('B', 'Jul') :  0.75\n",
      "        ('B', 'Jun') :   0.8\n",
      "        ('B', 'Mar') :   0.8\n",
      "        ('B', 'May') :  0.85\n",
      "        ('B', 'Nov') :  0.75\n",
      "        ('B', 'Oct') :   0.8\n",
      "        ('B', 'Sep') :   0.9\n",
      "        ('C', 'Apr') :  0.85\n",
      "        ('C', 'Aug') :  0.85\n",
      "        ('C', 'Dec') :   0.7\n",
      "        ('C', 'Feb') :  0.85\n",
      "        ('C', 'Jan') :   0.9\n",
      "        ('C', 'Jul') :  0.75\n",
      "        ('C', 'Jun') :   0.8\n",
      "        ('C', 'Mar') :   0.8\n",
      "        ('C', 'May') :  0.85\n",
      "        ('C', 'Nov') :  0.75\n",
      "        ('C', 'Oct') :   0.8\n",
      "        ('C', 'Sep') :   0.9\n",
      "    unitcostOSE_par : UnitOutSourceCost\n",
      "        Size=36, Index=unitcostOSE_par_index, Domain=Any, Default=None, Mutable=False\n",
      "        Key          : Value\n",
      "        ('A', 'Apr') :   180\n",
      "        ('A', 'Aug') :   180\n",
      "        ('A', 'Dec') :   180\n",
      "        ('A', 'Feb') :   180\n",
      "        ('A', 'Jan') :   180\n",
      "        ('A', 'Jul') :   180\n",
      "        ('A', 'Jun') :   180\n",
      "        ('A', 'Mar') :   180\n",
      "        ('A', 'May') :   180\n",
      "        ('A', 'Nov') :   180\n",
      "        ('A', 'Oct') :   180\n",
      "        ('A', 'Sep') :   180\n",
      "        ('B', 'Apr') :   150\n",
      "        ('B', 'Aug') :   150\n",
      "        ('B', 'Dec') :   150\n",
      "        ('B', 'Feb') :   150\n",
      "        ('B', 'Jan') :   150\n",
      "        ('B', 'Jul') :   150\n",
      "        ('B', 'Jun') :   150\n",
      "        ('B', 'Mar') :   150\n",
      "        ('B', 'May') :   150\n",
      "        ('B', 'Nov') :   150\n",
      "        ('B', 'Oct') :   150\n",
      "        ('B', 'Sep') :   150\n",
      "        ('C', 'Apr') :   160\n",
      "        ('C', 'Aug') :   160\n",
      "        ('C', 'Dec') :   160\n",
      "        ('C', 'Feb') :   160\n",
      "        ('C', 'Jan') :   160\n",
      "        ('C', 'Jul') :   160\n",
      "        ('C', 'Jun') :   160\n",
      "        ('C', 'Mar') :   160\n",
      "        ('C', 'May') :   160\n",
      "        ('C', 'Nov') :   160\n",
      "        ('C', 'Oct') :   160\n",
      "        ('C', 'Sep') :   160\n",
      "\n",
      "2 Var Declarations\n",
      "    x : Number_of_FTE\n",
      "        Size=36, Index=x_index\n",
      "        Key          : Lower : Value            : Upper : Fixed : Stale : Domain\n",
      "        ('A', 'Apr') :     0 : 67.5588235294118 :  None : False : False : NonNegativeReals\n",
      "        ('A', 'Aug') :     0 : 99.1470588235294 :  None : False : False : NonNegativeReals\n",
      "        ('A', 'Dec') :     0 : 185.107142857143 :  None : False : False : NonNegativeReals\n",
      "        ('A', 'Feb') :     0 : 143.470588235294 :  None : False : False : NonNegativeReals\n",
      "        ('A', 'Jan') :     0 : 145.555555555556 :  None : False : False : NonNegativeReals\n",
      "        ('A', 'Jul') :     0 :            177.8 :  None : False : False : NonNegativeReals\n",
      "        ('A', 'Jun') :     0 :         71.09375 :  None : False : False : NonNegativeReals\n",
      "        ('A', 'Mar') :     0 :         185.6875 :  None : False : False : NonNegativeReals\n",
      "        ('A', 'May') :     0 : 58.5882352941176 :  None : False : False : NonNegativeReals\n",
      "        ('A', 'Nov') :     0 :            142.8 :  None : False : False : NonNegativeReals\n",
      "        ('A', 'Oct') :     0 :        110.28125 :  None : False : False : NonNegativeReals\n",
      "        ('A', 'Sep') :     0 : 104.416666666667 :  None : False : False : NonNegativeReals\n",
      "        ('B', 'Apr') :     0 : 68.7647058823529 :  None : False : False : NonNegativeReals\n",
      "        ('B', 'Aug') :     0 : 77.0588235294118 :  None : False : False : NonNegativeReals\n",
      "        ('B', 'Dec') :     0 : 90.6071428571429 :  None : False : False : NonNegativeReals\n",
      "        ('B', 'Feb') :     0 : 77.2941176470588 :  None : False : False : NonNegativeReals\n",
      "        ('B', 'Jan') :     0 : 136.861111111111 :  None : False : False : NonNegativeReals\n",
      "        ('B', 'Jul') :     0 : 85.4333333333333 :  None : False : False : NonNegativeReals\n",
      "        ('B', 'Jun') :     0 :         98.34375 :  None : False : False : NonNegativeReals\n",
      "        ('B', 'Mar') :     0 :          92.9375 :  None : False : False : NonNegativeReals\n",
      "        ('B', 'May') :     0 : 118.235294117647 :  None : False : False : NonNegativeReals\n",
      "        ('B', 'Nov') :     0 : 62.7666666666667 :  None : False : False : NonNegativeReals\n",
      "        ('B', 'Oct') :     0 :        129.84375 :  None : False : False : NonNegativeReals\n",
      "        ('B', 'Sep') :     0 : 125.472222222222 :  None : False : False : NonNegativeReals\n",
      "        ('C', 'Apr') :     0 :             66.5 :  None : False : False : NonNegativeReals\n",
      "        ('C', 'Aug') :     0 : 73.4117647058823 :  None : False : False : NonNegativeReals\n",
      "        ('C', 'Dec') :     0 : 71.3571428571429 :  None : False : False : NonNegativeReals\n",
      "        ('C', 'Feb') :     0 : 57.8529411764706 :  None : False : False : NonNegativeReals\n",
      "        ('C', 'Jan') :     0 : 32.2777777777778 :  None : False : False : NonNegativeReals\n",
      "        ('C', 'Jul') :     0 : 82.9666666666667 :  None : False : False : NonNegativeReals\n",
      "        ('C', 'Jun') :     0 :          51.3125 :  None : False : False : NonNegativeReals\n",
      "        ('C', 'Mar') :     0 :          59.3125 :  None : False : False : NonNegativeReals\n",
      "        ('C', 'May') :     0 : 59.7058823529412 :  None : False : False : NonNegativeReals\n",
      "        ('C', 'Nov') :     0 :             32.1 :  None : False : False : NonNegativeReals\n",
      "        ('C', 'Oct') :     0 :         75.65625 :  None : False : False : NonNegativeReals\n",
      "        ('C', 'Sep') :     0 : 25.6111111111111 :  None : False : False : NonNegativeReals\n",
      "    y : Number_of_OutSourced_Applications\n",
      "        Size=36, Index=y_index\n",
      "        Key          : Lower : Value  : Upper : Fixed : Stale : Domain\n",
      "        ('A', 'Apr') :     0 :    0.0 :  None : False : False : NonNegativeIntegers\n",
      "        ('A', 'Aug') :     0 :    0.0 :  None : False : False : NonNegativeIntegers\n",
      "        ('A', 'Dec') :     0 :    0.0 :  None : False : False : NonNegativeIntegers\n",
      "        ('A', 'Feb') :     0 :    0.0 :  None : False : False : NonNegativeIntegers\n",
      "        ('A', 'Jan') :     0 :    0.0 :  None : False : False : NonNegativeIntegers\n",
      "        ('A', 'Jul') :     0 :    0.0 :  None : False : False : NonNegativeIntegers\n",
      "        ('A', 'Jun') :     0 :    0.0 :  None : False : False : NonNegativeIntegers\n",
      "        ('A', 'Mar') :     0 :    0.0 :  None : False : False : NonNegativeIntegers\n",
      "        ('A', 'May') :     0 :    0.0 :  None : False : False : NonNegativeIntegers\n",
      "        ('A', 'Nov') :     0 :    0.0 :  None : False : False : NonNegativeIntegers\n",
      "        ('A', 'Oct') :     0 :    0.0 :  None : False : False : NonNegativeIntegers\n",
      "        ('A', 'Sep') :     0 :    0.0 :  None : False : False : NonNegativeIntegers\n",
      "        ('B', 'Apr') :     0 :    0.0 :  None : False : False : NonNegativeIntegers\n",
      "        ('B', 'Aug') :     0 :    0.0 :  None : False : False : NonNegativeIntegers\n",
      "        ('B', 'Dec') :     0 : 1690.0 :  None : False : False : NonNegativeIntegers\n",
      "        ('B', 'Feb') :     0 :    0.0 :  None : False : False : NonNegativeIntegers\n",
      "        ('B', 'Jan') :     0 :    0.0 :  None : False : False : NonNegativeIntegers\n",
      "        ('B', 'Jul') :     0 : 1708.0 :  None : False : False : NonNegativeIntegers\n",
      "        ('B', 'Jun') :     0 :    0.0 :  None : False : False : NonNegativeIntegers\n",
      "        ('B', 'Mar') :     0 :    0.0 :  None : False : False : NonNegativeIntegers\n",
      "        ('B', 'May') :     0 :    0.0 :  None : False : False : NonNegativeIntegers\n",
      "        ('B', 'Nov') :     0 : 1254.0 :  None : False : False : NonNegativeIntegers\n",
      "        ('B', 'Oct') :     0 :    0.0 :  None : False : False : NonNegativeIntegers\n",
      "        ('B', 'Sep') :     0 :    0.0 :  None : False : False : NonNegativeIntegers\n",
      "        ('C', 'Apr') :     0 :    0.0 :  None : False : False : NonNegativeIntegers\n",
      "        ('C', 'Aug') :     0 :    0.0 :  None : False : False : NonNegativeIntegers\n",
      "        ('C', 'Dec') :     0 :    0.0 :  None : False : False : NonNegativeIntegers\n",
      "        ('C', 'Feb') :     0 :    0.0 :  None : False : False : NonNegativeIntegers\n",
      "        ('C', 'Jan') :     0 :    0.0 :  None : False : False : NonNegativeIntegers\n",
      "        ('C', 'Jul') :     0 :    0.0 :  None : False : False : NonNegativeIntegers\n",
      "        ('C', 'Jun') :     0 :    0.0 :  None : False : False : NonNegativeIntegers\n",
      "        ('C', 'Mar') :     0 :    0.0 :  None : False : False : NonNegativeIntegers\n",
      "        ('C', 'May') :     0 :    0.0 :  None : False : False : NonNegativeIntegers\n",
      "        ('C', 'Nov') :     0 :    0.0 :  None : False : False : NonNegativeIntegers\n",
      "        ('C', 'Oct') :     0 :    0.0 :  None : False : False : NonNegativeIntegers\n",
      "        ('C', 'Sep') :     0 :    0.0 :  None : False : False : NonNegativeIntegers\n",
      "\n",
      "1 Objective Declarations\n",
      "    objective : ObjectiveFunction_UB\n",
      "        Size=1, Index=None, Active=True\n",
      "        Key  : Active : Sense    : Expression\n",
      "        None :   True : minimize : 5000.0*x[A,Jan] + 5000.0*x[A,Feb] + 5000.0*x[A,Mar] + 5000.0*x[A,Apr] + 5000.0*x[A,May] + 5000.0*x[A,Jun] + 5000.0*x[A,Jul] + 5000.0*x[A,Aug] + 5000.0*x[A,Sep] + 5000.0*x[A,Oct] + 5000.0*x[A,Nov] + 5000.0*x[A,Dec] + 4583.333333333333*x[B,Jan] + 4583.333333333333*x[B,Feb] + 4583.333333333333*x[B,Mar] + 4583.333333333333*x[B,Apr] + 4583.333333333333*x[B,May] + 4583.333333333333*x[B,Jun] + 4583.333333333333*x[B,Jul] + 4583.333333333333*x[B,Aug] + 4583.333333333333*x[B,Sep] + 4583.333333333333*x[B,Oct] + 4583.333333333333*x[B,Nov] + 4583.333333333333*x[B,Dec] + 4416.666666666667*x[C,Jan] + 4416.666666666667*x[C,Feb] + 4416.666666666667*x[C,Mar] + 4416.666666666667*x[C,Apr] + 4416.666666666667*x[C,May] + 4416.666666666667*x[C,Jun] + 4416.666666666667*x[C,Jul] + 4416.666666666667*x[C,Aug] + 4416.666666666667*x[C,Sep] + 4416.666666666667*x[C,Oct] + 4416.666666666667*x[C,Nov] + 4416.666666666667*x[C,Dec] + 180*y[A,Jan] + 180*y[A,Feb] + 180*y[A,Mar] + 180*y[A,Apr] + 180*y[A,May] + 180*y[A,Jun] + 180*y[A,Jul] + 180*y[A,Aug] + 180*y[A,Sep] + 180*y[A,Oct] + 180*y[A,Nov] + 180*y[A,Dec] + 150*y[B,Jan] + 150*y[B,Feb] + 150*y[B,Mar] + 150*y[B,Apr] + 150*y[B,May] + 150*y[B,Jun] + 150*y[B,Jul] + 150*y[B,Aug] + 150*y[B,Sep] + 150*y[B,Oct] + 150*y[B,Nov] + 150*y[B,Dec] + 160*y[C,Jan] + 160*y[C,Feb] + 160*y[C,Mar] + 160*y[C,Apr] + 160*y[C,May] + 160*y[C,Jun] + 160*y[C,Jul] + 160*y[C,Aug] + 160*y[C,Sep] + 160*y[C,Oct] + 160*y[C,Nov] + 160*y[C,Dec]\n",
      "\n",
      "2 Constraint Declarations\n",
      "    demand_constraint : Size=36, Index=demand_constraint_index, Active=True\n",
      "        Key : Lower  : Body                     : Upper  : Active\n",
      "          1 : 5240.0 : 36.0*x[A,Jan] + y[A,Jan] : 5240.0 :   True\n",
      "          2 : 4878.0 : 34.0*x[A,Feb] + y[A,Feb] : 4878.0 :   True\n",
      "          3 : 5942.0 : 32.0*x[A,Mar] + y[A,Mar] : 5942.0 :   True\n",
      "          4 : 2297.0 : 34.0*x[A,Apr] + y[A,Apr] : 2297.0 :   True\n",
      "          5 : 1992.0 : 34.0*x[A,May] + y[A,May] : 1992.0 :   True\n",
      "          6 : 2275.0 : 32.0*x[A,Jun] + y[A,Jun] : 2275.0 :   True\n",
      "          7 : 5334.0 : 30.0*x[A,Jul] + y[A,Jul] : 5334.0 :   True\n",
      "          8 : 3371.0 : 34.0*x[A,Aug] + y[A,Aug] : 3371.0 :   True\n",
      "          9 : 3759.0 : 36.0*x[A,Sep] + y[A,Sep] : 3759.0 :   True\n",
      "         10 : 3529.0 : 32.0*x[A,Oct] + y[A,Oct] : 3529.0 :   True\n",
      "         11 : 4284.0 : 30.0*x[A,Nov] + y[A,Nov] : 4284.0 :   True\n",
      "         12 : 5183.0 : 28.0*x[A,Dec] + y[A,Dec] : 5183.0 :   True\n",
      "         13 : 4927.0 : 36.0*x[B,Jan] + y[B,Jan] : 4927.0 :   True\n",
      "         14 : 2628.0 : 34.0*x[B,Feb] + y[B,Feb] : 2628.0 :   True\n",
      "         15 : 2974.0 : 32.0*x[B,Mar] + y[B,Mar] : 2974.0 :   True\n",
      "         16 : 2338.0 : 34.0*x[B,Apr] + y[B,Apr] : 2338.0 :   True\n",
      "         17 : 4020.0 : 34.0*x[B,May] + y[B,May] : 4020.0 :   True\n",
      "         18 : 3147.0 : 32.0*x[B,Jun] + y[B,Jun] : 3147.0 :   True\n",
      "         19 : 4271.0 : 30.0*x[B,Jul] + y[B,Jul] : 4271.0 :   True\n",
      "         20 : 2620.0 : 34.0*x[B,Aug] + y[B,Aug] : 2620.0 :   True\n",
      "         21 : 4517.0 : 36.0*x[B,Sep] + y[B,Sep] : 4517.0 :   True\n",
      "         22 : 4155.0 : 32.0*x[B,Oct] + y[B,Oct] : 4155.0 :   True\n",
      "         23 : 3137.0 : 30.0*x[B,Nov] + y[B,Nov] : 3137.0 :   True\n",
      "         24 : 4227.0 : 28.0*x[B,Dec] + y[B,Dec] : 4227.0 :   True\n",
      "         25 : 1162.0 : 36.0*x[C,Jan] + y[C,Jan] : 1162.0 :   True\n",
      "         26 : 1967.0 : 34.0*x[C,Feb] + y[C,Feb] : 1967.0 :   True\n",
      "         27 : 1898.0 : 32.0*x[C,Mar] + y[C,Mar] : 1898.0 :   True\n",
      "         28 : 2261.0 : 34.0*x[C,Apr] + y[C,Apr] : 2261.0 :   True\n",
      "         29 : 2030.0 : 34.0*x[C,May] + y[C,May] : 2030.0 :   True\n",
      "         30 : 1642.0 : 32.0*x[C,Jun] + y[C,Jun] : 1642.0 :   True\n",
      "         31 : 2489.0 : 30.0*x[C,Jul] + y[C,Jul] : 2489.0 :   True\n",
      "         32 : 2496.0 : 34.0*x[C,Aug] + y[C,Aug] : 2496.0 :   True\n",
      "         33 :  922.0 : 36.0*x[C,Sep] + y[C,Sep] :  922.0 :   True\n",
      "         34 : 2421.0 : 32.0*x[C,Oct] + y[C,Oct] : 2421.0 :   True\n",
      "         35 :  963.0 : 30.0*x[C,Nov] + y[C,Nov] :  963.0 :   True\n",
      "         36 : 1998.0 : 28.0*x[C,Dec] + y[C,Dec] : 1998.0 :   True\n",
      "    regulatory_constraint : Size=24, Index=regulatory_constraint_index, Active=True\n",
      "        Key : Lower : Body     : Upper              : Active\n",
      "          1 :  -Inf : y[A,Jan] :             1572.0 :   True\n",
      "          2 :  -Inf : y[A,Feb] : 1463.3999999999999 :   True\n",
      "          3 :  -Inf : y[A,Mar] :             1782.6 :   True\n",
      "          4 :  -Inf : y[A,Apr] :              689.1 :   True\n",
      "          5 :  -Inf : y[A,May] :              597.6 :   True\n",
      "          6 :  -Inf : y[A,Jun] :              682.5 :   True\n",
      "          7 :  -Inf : y[A,Jul] :             1600.2 :   True\n",
      "          8 :  -Inf : y[A,Aug] :             1011.3 :   True\n",
      "          9 :  -Inf : y[A,Sep] :             1127.7 :   True\n",
      "         10 :  -Inf : y[A,Oct] :             1058.7 :   True\n",
      "         11 :  -Inf : y[A,Nov] :             1285.2 :   True\n",
      "         12 :  -Inf : y[A,Dec] : 1554.8999999999999 :   True\n",
      "         13 :  -Inf : y[B,Jan] : 1970.8000000000002 :   True\n",
      "         14 :  -Inf : y[B,Feb] :             1051.2 :   True\n",
      "         15 :  -Inf : y[B,Mar] : 1189.6000000000001 :   True\n",
      "         16 :  -Inf : y[B,Apr] :              935.2 :   True\n",
      "         17 :  -Inf : y[B,May] :             1608.0 :   True\n",
      "         18 :  -Inf : y[B,Jun] : 1258.8000000000002 :   True\n",
      "         19 :  -Inf : y[B,Jul] :             1708.4 :   True\n",
      "         20 :  -Inf : y[B,Aug] :             1048.0 :   True\n",
      "         21 :  -Inf : y[B,Sep] : 1806.8000000000002 :   True\n",
      "         22 :  -Inf : y[B,Oct] :             1662.0 :   True\n",
      "         23 :  -Inf : y[B,Nov] : 1254.8000000000002 :   True\n",
      "         24 :  -Inf : y[B,Dec] : 1690.8000000000002 :   True\n",
      "\n",
      "26 Declarations: i j demand_par_index demand_par salaryFTE_par_index salaryFTE_par unitcostOSE_par_index unitcostOSE_par staffAvail_UB_par_index staffAvail_UB_par rate_FTEAppService_par FTEAppNumber_UB_index FTEAppNumber_UB Reg_A_index Reg_A Reg_B_index Reg_B x_index x y_index y demand_constraint_index demand_constraint regulatory_constraint_index regulatory_constraint objective\n"
     ]
    }
   ],
   "source": [
    "# Print the value of the objective function\n",
    "\n",
    "model.pprint()"
   ]
  },
  {
   "cell_type": "code",
   "execution_count": 116,
   "metadata": {},
   "outputs": [
    {
     "name": "stdout",
     "output_type": "stream",
     "text": [
      "******* FOR THE BEST CASE *******\n",
      "The number of Staff at the location A in the month of Jan is  145.555555555556\n",
      "******* FOR THE BEST CASE *******\n",
      "The number of Staff at the location A in the month of Feb is  143.470588235294\n",
      "******* FOR THE BEST CASE *******\n",
      "The number of Staff at the location A in the month of Mar is  185.6875\n",
      "******* FOR THE BEST CASE *******\n",
      "The number of Staff at the location A in the month of Apr is  67.5588235294118\n",
      "******* FOR THE BEST CASE *******\n",
      "The number of Staff at the location A in the month of May is  58.5882352941176\n",
      "******* FOR THE BEST CASE *******\n",
      "The number of Staff at the location A in the month of Jun is  71.09375\n",
      "******* FOR THE BEST CASE *******\n",
      "The number of Staff at the location A in the month of Jul is  177.8\n",
      "******* FOR THE BEST CASE *******\n",
      "The number of Staff at the location A in the month of Aug is  99.1470588235294\n",
      "******* FOR THE BEST CASE *******\n",
      "The number of Staff at the location A in the month of Sep is  104.416666666667\n",
      "******* FOR THE BEST CASE *******\n",
      "The number of Staff at the location A in the month of Oct is  110.28125\n",
      "******* FOR THE BEST CASE *******\n",
      "The number of Staff at the location A in the month of Nov is  142.8\n",
      "******* FOR THE BEST CASE *******\n",
      "The number of Staff at the location A in the month of Dec is  185.107142857143\n",
      "******* FOR THE BEST CASE *******\n",
      "The number of Staff at the location B in the month of Jan is  136.861111111111\n",
      "******* FOR THE BEST CASE *******\n",
      "The number of Staff at the location B in the month of Feb is  77.2941176470588\n",
      "******* FOR THE BEST CASE *******\n",
      "The number of Staff at the location B in the month of Mar is  92.9375\n",
      "******* FOR THE BEST CASE *******\n",
      "The number of Staff at the location B in the month of Apr is  68.7647058823529\n",
      "******* FOR THE BEST CASE *******\n",
      "The number of Staff at the location B in the month of May is  118.235294117647\n",
      "******* FOR THE BEST CASE *******\n",
      "The number of Staff at the location B in the month of Jun is  98.34375\n",
      "******* FOR THE BEST CASE *******\n",
      "The number of Staff at the location B in the month of Jul is  85.4333333333333\n",
      "******* FOR THE BEST CASE *******\n",
      "The number of Staff at the location B in the month of Aug is  77.0588235294118\n",
      "******* FOR THE BEST CASE *******\n",
      "The number of Staff at the location B in the month of Sep is  125.472222222222\n",
      "******* FOR THE BEST CASE *******\n",
      "The number of Staff at the location B in the month of Oct is  129.84375\n",
      "******* FOR THE BEST CASE *******\n",
      "The number of Staff at the location B in the month of Nov is  62.7666666666667\n",
      "******* FOR THE BEST CASE *******\n",
      "The number of Staff at the location B in the month of Dec is  90.6071428571429\n",
      "******* FOR THE BEST CASE *******\n",
      "The number of Staff at the location C in the month of Jan is  32.2777777777778\n",
      "******* FOR THE BEST CASE *******\n",
      "The number of Staff at the location C in the month of Feb is  57.8529411764706\n",
      "******* FOR THE BEST CASE *******\n",
      "The number of Staff at the location C in the month of Mar is  59.3125\n",
      "******* FOR THE BEST CASE *******\n",
      "The number of Staff at the location C in the month of Apr is  66.5\n",
      "******* FOR THE BEST CASE *******\n",
      "The number of Staff at the location C in the month of May is  59.7058823529412\n",
      "******* FOR THE BEST CASE *******\n",
      "The number of Staff at the location C in the month of Jun is  51.3125\n",
      "******* FOR THE BEST CASE *******\n",
      "The number of Staff at the location C in the month of Jul is  82.9666666666667\n",
      "******* FOR THE BEST CASE *******\n",
      "The number of Staff at the location C in the month of Aug is  73.4117647058823\n",
      "******* FOR THE BEST CASE *******\n",
      "The number of Staff at the location C in the month of Sep is  25.6111111111111\n",
      "******* FOR THE BEST CASE *******\n",
      "The number of Staff at the location C in the month of Oct is  75.65625\n",
      "******* FOR THE BEST CASE *******\n",
      "The number of Staff at the location C in the month of Nov is  32.1\n",
      "******* FOR THE BEST CASE *******\n",
      "The number of Staff at the location C in the month of Dec is  71.3571428571429\n"
     ]
    }
   ],
   "source": [
    "# Display the number Staff for each State every Month respectively\n",
    "\n",
    "for i in location_state:\n",
    "    for j in month:\n",
    "        print(\"******* FOR THE BEST CASE *******\")\n",
    "        print(\"The number of Staff at the location \" + i + \" in the month of \" + j + \" is \", model.x[i,j].value)\n",
    "\n",
    "\n"
   ]
  },
  {
   "cell_type": "code",
   "execution_count": 117,
   "metadata": {},
   "outputs": [
    {
     "name": "stdout",
     "output_type": "stream",
     "text": [
      "******* FOR THE BEST CASE *******\n",
      "The number of Applications processed by the OutSourced Vendors at the location A in the month of Jan is  0.0\n",
      "******* FOR THE BEST CASE *******\n",
      "The number of Applications processed by the OutSourced Vendors at the location A in the month of Feb is  0.0\n",
      "******* FOR THE BEST CASE *******\n",
      "The number of Applications processed by the OutSourced Vendors at the location A in the month of Mar is  0.0\n",
      "******* FOR THE BEST CASE *******\n",
      "The number of Applications processed by the OutSourced Vendors at the location A in the month of Apr is  0.0\n",
      "******* FOR THE BEST CASE *******\n",
      "The number of Applications processed by the OutSourced Vendors at the location A in the month of May is  0.0\n",
      "******* FOR THE BEST CASE *******\n",
      "The number of Applications processed by the OutSourced Vendors at the location A in the month of Jun is  0.0\n",
      "******* FOR THE BEST CASE *******\n",
      "The number of Applications processed by the OutSourced Vendors at the location A in the month of Jul is  0.0\n",
      "******* FOR THE BEST CASE *******\n",
      "The number of Applications processed by the OutSourced Vendors at the location A in the month of Aug is  0.0\n",
      "******* FOR THE BEST CASE *******\n",
      "The number of Applications processed by the OutSourced Vendors at the location A in the month of Sep is  0.0\n",
      "******* FOR THE BEST CASE *******\n",
      "The number of Applications processed by the OutSourced Vendors at the location A in the month of Oct is  0.0\n",
      "******* FOR THE BEST CASE *******\n",
      "The number of Applications processed by the OutSourced Vendors at the location A in the month of Nov is  0.0\n",
      "******* FOR THE BEST CASE *******\n",
      "The number of Applications processed by the OutSourced Vendors at the location A in the month of Dec is  0.0\n",
      "******* FOR THE BEST CASE *******\n",
      "The number of Applications processed by the OutSourced Vendors at the location B in the month of Jan is  0.0\n",
      "******* FOR THE BEST CASE *******\n",
      "The number of Applications processed by the OutSourced Vendors at the location B in the month of Feb is  0.0\n",
      "******* FOR THE BEST CASE *******\n",
      "The number of Applications processed by the OutSourced Vendors at the location B in the month of Mar is  0.0\n",
      "******* FOR THE BEST CASE *******\n",
      "The number of Applications processed by the OutSourced Vendors at the location B in the month of Apr is  0.0\n",
      "******* FOR THE BEST CASE *******\n",
      "The number of Applications processed by the OutSourced Vendors at the location B in the month of May is  0.0\n",
      "******* FOR THE BEST CASE *******\n",
      "The number of Applications processed by the OutSourced Vendors at the location B in the month of Jun is  0.0\n",
      "******* FOR THE BEST CASE *******\n",
      "The number of Applications processed by the OutSourced Vendors at the location B in the month of Jul is  1708.0\n",
      "******* FOR THE BEST CASE *******\n",
      "The number of Applications processed by the OutSourced Vendors at the location B in the month of Aug is  0.0\n",
      "******* FOR THE BEST CASE *******\n",
      "The number of Applications processed by the OutSourced Vendors at the location B in the month of Sep is  0.0\n",
      "******* FOR THE BEST CASE *******\n",
      "The number of Applications processed by the OutSourced Vendors at the location B in the month of Oct is  0.0\n",
      "******* FOR THE BEST CASE *******\n",
      "The number of Applications processed by the OutSourced Vendors at the location B in the month of Nov is  1254.0\n",
      "******* FOR THE BEST CASE *******\n",
      "The number of Applications processed by the OutSourced Vendors at the location B in the month of Dec is  1690.0\n",
      "******* FOR THE BEST CASE *******\n",
      "The number of Applications processed by the OutSourced Vendors at the location C in the month of Jan is  0.0\n",
      "******* FOR THE BEST CASE *******\n",
      "The number of Applications processed by the OutSourced Vendors at the location C in the month of Feb is  0.0\n",
      "******* FOR THE BEST CASE *******\n",
      "The number of Applications processed by the OutSourced Vendors at the location C in the month of Mar is  0.0\n",
      "******* FOR THE BEST CASE *******\n",
      "The number of Applications processed by the OutSourced Vendors at the location C in the month of Apr is  0.0\n",
      "******* FOR THE BEST CASE *******\n",
      "The number of Applications processed by the OutSourced Vendors at the location C in the month of May is  0.0\n",
      "******* FOR THE BEST CASE *******\n",
      "The number of Applications processed by the OutSourced Vendors at the location C in the month of Jun is  0.0\n",
      "******* FOR THE BEST CASE *******\n",
      "The number of Applications processed by the OutSourced Vendors at the location C in the month of Jul is  0.0\n",
      "******* FOR THE BEST CASE *******\n",
      "The number of Applications processed by the OutSourced Vendors at the location C in the month of Aug is  0.0\n",
      "******* FOR THE BEST CASE *******\n",
      "The number of Applications processed by the OutSourced Vendors at the location C in the month of Sep is  0.0\n",
      "******* FOR THE BEST CASE *******\n",
      "The number of Applications processed by the OutSourced Vendors at the location C in the month of Oct is  0.0\n",
      "******* FOR THE BEST CASE *******\n",
      "The number of Applications processed by the OutSourced Vendors at the location C in the month of Nov is  0.0\n",
      "******* FOR THE BEST CASE *******\n",
      "The number of Applications processed by the OutSourced Vendors at the location C in the month of Dec is  0.0\n"
     ]
    }
   ],
   "source": [
    "#Display the Number of Applications processed by the OutSourced Vendors for each State every Month respectively\n",
    "\n",
    "for i in location_state:\n",
    "    for j in month:\n",
    "        print(\"******* FOR THE BEST CASE *******\")\n",
    "        print(\"The number of Applications processed by the OutSourced Vendors at the location \" + i + \" in the month of \" + j + \" is \", model.y[i,j].value)\n",
    "\n",
    "\n",
    "\n"
   ]
  },
  {
   "cell_type": "code",
   "execution_count": 118,
   "metadata": {},
   "outputs": [
    {
     "data": {
      "text/plain": [
       "16527535.63793573"
      ]
     },
     "execution_count": 118,
     "metadata": {},
     "output_type": "execute_result"
    }
   ],
   "source": [
    "# Print the total cost incurred for the company\n",
    "\n",
    "# This is our expected solution\n",
    "\n",
    "total_cost_UB = model.objective.expr()\n",
    "\n",
    "total_cost_UB\n",
    "\n"
   ]
  },
  {
   "cell_type": "markdown",
   "metadata": {},
   "source": [
    "**`Checkpoint 3:`** The company has to spend around 16.5 m$ in total for the application approval process if the staffs are working with the maximum availability."
   ]
  },
  {
   "cell_type": "code",
   "execution_count": 119,
   "metadata": {},
   "outputs": [],
   "source": [
    "#Creating dataframe for the results\n",
    "\n",
    "#Let's start by creating a list \"staff_df_bc\" that contains the numbers of FTEs and the OutSourced Applications\n",
    "\n",
    "#Creating an empty list\n",
    "\n",
    "staff_df_bc = []\n",
    "\n",
    "for i in location_state:\n",
    "    for j in month:\n",
    "        #value for variable x\n",
    "        x_value = model.x[i,j].value #This gives the number of FTEs\n",
    "        #value for variable y\n",
    "        y_value = model.y[i,j].value #This gives the number of OutSourced Applications\n",
    "        staff_df_bc.append([i,j,x_value,y_value])    #Appending the values to the created list    \n"
   ]
  },
  {
   "cell_type": "code",
   "execution_count": 120,
   "metadata": {},
   "outputs": [],
   "source": [
    "#Let's now convert this list \"staff_df_bc\" into a DataFrame\n",
    "\n",
    "staff_df_bc = pd.DataFrame(staff_df_bc,columns=['State','Month','FTE_BC','OutSourcedApps'])\n"
   ]
  },
  {
   "cell_type": "code",
   "execution_count": 121,
   "metadata": {
    "scrolled": true
   },
   "outputs": [
    {
     "data": {
      "text/html": [
       "<div>\n",
       "<style scoped>\n",
       "    .dataframe tbody tr th:only-of-type {\n",
       "        vertical-align: middle;\n",
       "    }\n",
       "\n",
       "    .dataframe tbody tr th {\n",
       "        vertical-align: top;\n",
       "    }\n",
       "\n",
       "    .dataframe thead th {\n",
       "        text-align: right;\n",
       "    }\n",
       "</style>\n",
       "<table border=\"1\" class=\"dataframe\">\n",
       "  <thead>\n",
       "    <tr style=\"text-align: right;\">\n",
       "      <th></th>\n",
       "      <th>State</th>\n",
       "      <th>Month</th>\n",
       "      <th>FTE_BC</th>\n",
       "      <th>OutSourcedApps</th>\n",
       "    </tr>\n",
       "  </thead>\n",
       "  <tbody>\n",
       "    <tr>\n",
       "      <th>0</th>\n",
       "      <td>A</td>\n",
       "      <td>Jan</td>\n",
       "      <td>145.555556</td>\n",
       "      <td>0.0</td>\n",
       "    </tr>\n",
       "    <tr>\n",
       "      <th>1</th>\n",
       "      <td>A</td>\n",
       "      <td>Feb</td>\n",
       "      <td>143.470588</td>\n",
       "      <td>0.0</td>\n",
       "    </tr>\n",
       "    <tr>\n",
       "      <th>2</th>\n",
       "      <td>A</td>\n",
       "      <td>Mar</td>\n",
       "      <td>185.687500</td>\n",
       "      <td>0.0</td>\n",
       "    </tr>\n",
       "    <tr>\n",
       "      <th>3</th>\n",
       "      <td>A</td>\n",
       "      <td>Apr</td>\n",
       "      <td>67.558824</td>\n",
       "      <td>0.0</td>\n",
       "    </tr>\n",
       "    <tr>\n",
       "      <th>4</th>\n",
       "      <td>A</td>\n",
       "      <td>May</td>\n",
       "      <td>58.588235</td>\n",
       "      <td>0.0</td>\n",
       "    </tr>\n",
       "  </tbody>\n",
       "</table>\n",
       "</div>"
      ],
      "text/plain": [
       "  State Month      FTE_BC  OutSourcedApps\n",
       "0     A   Jan  145.555556             0.0\n",
       "1     A   Feb  143.470588             0.0\n",
       "2     A   Mar  185.687500             0.0\n",
       "3     A   Apr   67.558824             0.0\n",
       "4     A   May   58.588235             0.0"
      ]
     },
     "execution_count": 121,
     "metadata": {},
     "output_type": "execute_result"
    }
   ],
   "source": [
    "#Printing the DataFrame that is created\n",
    "\n",
    "staff_df_bc.head()\n"
   ]
  },
  {
   "cell_type": "markdown",
   "metadata": {},
   "source": [
    "#### LET'S CALCULATE THE AVERAGE FTE PER MONTH"
   ]
  },
  {
   "cell_type": "code",
   "execution_count": 122,
   "metadata": {},
   "outputs": [
    {
     "data": {
      "text/plain": [
       "3343.189524976658"
      ]
     },
     "execution_count": 122,
     "metadata": {},
     "output_type": "execute_result"
    }
   ],
   "source": [
    "# Let's first calculate the Total FTEs\n",
    "\n",
    "total_FTE_bc = staff_df_bc['FTE_BC'].sum()\n",
    "\n",
    "total_FTE_bc\n"
   ]
  },
  {
   "cell_type": "code",
   "execution_count": 123,
   "metadata": {},
   "outputs": [
    {
     "data": {
      "text/plain": [
       "278.6"
      ]
     },
     "execution_count": 123,
     "metadata": {},
     "output_type": "execute_result"
    }
   ],
   "source": [
    "#Calculating the Average FTE per month\n",
    "\n",
    "avg_FTE_permonth_bc = (total_FTE_bc/12).round(2)\n",
    "\n",
    "avg_FTE_permonth_bc\n"
   ]
  },
  {
   "cell_type": "markdown",
   "metadata": {},
   "source": [
    "### NOTE - For the Best Case, The optimal number of staff members that the company InsurePlus needs for the insurance application approval process is **278.6**.So, let's round that off to **279** "
   ]
  },
  {
   "cell_type": "code",
   "execution_count": 124,
   "metadata": {},
   "outputs": [
    {
     "data": {
      "text/plain": [
       "113294"
      ]
     },
     "execution_count": 124,
     "metadata": {},
     "output_type": "execute_result"
    }
   ],
   "source": [
    "#Let's calculate the total application demand first\n",
    "\n",
    "total_demand_bc = demand_data['Demand'].sum()\n",
    "\n",
    "total_demand_bc\n"
   ]
  },
  {
   "cell_type": "markdown",
   "metadata": {},
   "source": [
    "#### 3.2.2 Percentage of outsourced applications"
   ]
  },
  {
   "cell_type": "markdown",
   "metadata": {},
   "source": [
    "#### LET'S CALCULATE THE PERCENTAGE OF OUTSOURCED APPLICATIONS"
   ]
  },
  {
   "cell_type": "code",
   "execution_count": 125,
   "metadata": {},
   "outputs": [
    {
     "data": {
      "text/plain": [
       "4652.0"
      ]
     },
     "execution_count": 125,
     "metadata": {},
     "output_type": "execute_result"
    }
   ],
   "source": [
    "# let's now calculate the total OutSourced Applications\n",
    "\n",
    "total_outsourced_bc = staff_df_bc['OutSourcedApps'].sum()\n",
    "\n",
    "total_outsourced_bc\n"
   ]
  },
  {
   "cell_type": "code",
   "execution_count": 126,
   "metadata": {},
   "outputs": [
    {
     "data": {
      "text/plain": [
       "4.11"
      ]
     },
     "execution_count": 126,
     "metadata": {},
     "output_type": "execute_result"
    }
   ],
   "source": [
    "#Percentage of OutSourced Applications\n",
    "\n",
    "percentage_OutSourced_bc = ((total_outsourced_bc/total_demand_bc)*100).round(2)\n",
    "\n",
    "percentage_OutSourced_bc"
   ]
  },
  {
   "cell_type": "markdown",
   "metadata": {},
   "source": [
    "### NOTE - For the Best Case, The percentage of OutSourced Applications is 4.11"
   ]
  },
  {
   "cell_type": "markdown",
   "metadata": {},
   "source": [
    "#### LET'S CALCULATE THE PERCENTAGE OF APPLICATIONS PROCESSED BY STAFF (i.e., FTEs)"
   ]
  },
  {
   "cell_type": "code",
   "execution_count": 127,
   "metadata": {},
   "outputs": [
    {
     "name": "stdout",
     "output_type": "stream",
     "text": [
      "95.89\n"
     ]
    }
   ],
   "source": [
    "#Percentage of Applications processed by STAFF\n",
    "\n",
    "print(100 - percentage_OutSourced_bc)\n"
   ]
  },
  {
   "cell_type": "markdown",
   "metadata": {},
   "source": [
    "#### 3.2.3 Average cost per application"
   ]
  },
  {
   "cell_type": "markdown",
   "metadata": {},
   "source": [
    "#### LET'S NOW CALCULATE THE AVERAGE COST PER APPLICATION"
   ]
  },
  {
   "cell_type": "code",
   "execution_count": 128,
   "metadata": {},
   "outputs": [
    {
     "data": {
      "text/plain": [
       "145.88182638035315"
      ]
     },
     "execution_count": 128,
     "metadata": {},
     "output_type": "execute_result"
    }
   ],
   "source": [
    "#Calculating the Average cost per application\n",
    "\n",
    "avg_cost_PerApp_bc = total_cost_UB/total_demand_bc\n",
    "\n",
    "avg_cost_PerApp_bc\n"
   ]
  },
  {
   "cell_type": "markdown",
   "metadata": {},
   "source": [
    "### NOTE - For the Best Case, The average cost per application is **145.88**"
   ]
  },
  {
   "cell_type": "markdown",
   "metadata": {},
   "source": [
    "## INSIGHTS - CASE 3"
   ]
  },
  {
   "cell_type": "markdown",
   "metadata": {},
   "source": [
    "### In the Best Case : \n",
    "\n",
    "1. The optimal number of staff members that the company InsurePlus needs for the insurance application approval process is **278.6**.So, let's round that off to **279** \n",
    "\n",
    "2. The percentage of outsourcing is **4.11**\n",
    "\n",
    "3. The average cost per application is **145.88**\n",
    "\n",
    "\n"
   ]
  },
  {
   "cell_type": "markdown",
   "metadata": {},
   "source": [
    "## WRITING DATA IN ALL THE DATA FRAMES CREATED INTO EXCEL  "
   ]
  },
  {
   "cell_type": "markdown",
   "metadata": {},
   "source": [
    "#### LET'S NOW WRITE THE RESULTS INTO AN EXCEL SPREADSHEET"
   ]
  },
  {
   "cell_type": "code",
   "execution_count": 129,
   "metadata": {},
   "outputs": [],
   "source": [
    "# Writing the results in to an Excel sheet\n",
    "# Writing the data in the dataframe to an excel sheet\n",
    "\n",
    "writer = pd.ExcelWriter('output.xlsx', engine='xlsxwriter')\n",
    "staff_df.to_excel(writer, sheet_name='Sheet1')\n",
    "staff_df_wc.to_excel(writer, sheet_name='Worst_Case')\n",
    "staff_df_bc.to_excel(writer, sheet_name='Best_Case')\n",
    "\n",
    "writer.save()\n",
    "\n",
    "\n"
   ]
  },
  {
   "cell_type": "markdown",
   "metadata": {},
   "source": [
    "# Question 4\n",
    "\n",
    "#### Creating Visualisations"
   ]
  },
  {
   "cell_type": "markdown",
   "metadata": {},
   "source": [
    "Create the following visualisations using your preferred method (i.e. Python, PowerPoint, Power BI, etc.) and add it to your report. \n",
    "\n",
    "Use the solution of Q2 to create a stacked column chart that shows the percentage of applications processed by the staff and by the vendor for each month (%staff processed applications+ %vendor processed applications should add up to 100%). \n",
    "Create a graph to show how the cost per application increases with respect to any change in the parameters in your analysis.\n",
    "Hint: Use the cost per application that you calculate in Questions 2 and 3 (i.e., the best case, and the worst case). "
   ]
  },
  {
   "cell_type": "markdown",
   "metadata": {},
   "source": [
    "**Note:** You can create the charts in Python or some other visualisation tools and make it a part of your final report directly."
   ]
  },
  {
   "cell_type": "markdown",
   "metadata": {},
   "source": [
    "### Let's now analyze the results in Question 2 and Question 3 "
   ]
  },
  {
   "cell_type": "markdown",
   "metadata": {},
   "source": [
    "### QUESTION 4.1"
   ]
  },
  {
   "cell_type": "code",
   "execution_count": 130,
   "metadata": {},
   "outputs": [
    {
     "data": {
      "text/html": [
       "<div>\n",
       "<style scoped>\n",
       "    .dataframe tbody tr th:only-of-type {\n",
       "        vertical-align: middle;\n",
       "    }\n",
       "\n",
       "    .dataframe tbody tr th {\n",
       "        vertical-align: top;\n",
       "    }\n",
       "\n",
       "    .dataframe thead th {\n",
       "        text-align: right;\n",
       "    }\n",
       "</style>\n",
       "<table border=\"1\" class=\"dataframe\">\n",
       "  <thead>\n",
       "    <tr style=\"text-align: right;\">\n",
       "      <th></th>\n",
       "      <th>State</th>\n",
       "      <th>Month</th>\n",
       "      <th>Demand</th>\n",
       "    </tr>\n",
       "  </thead>\n",
       "  <tbody>\n",
       "    <tr>\n",
       "      <th>0</th>\n",
       "      <td>A</td>\n",
       "      <td>Jan</td>\n",
       "      <td>5240</td>\n",
       "    </tr>\n",
       "    <tr>\n",
       "      <th>1</th>\n",
       "      <td>A</td>\n",
       "      <td>Feb</td>\n",
       "      <td>4878</td>\n",
       "    </tr>\n",
       "    <tr>\n",
       "      <th>2</th>\n",
       "      <td>A</td>\n",
       "      <td>Mar</td>\n",
       "      <td>5942</td>\n",
       "    </tr>\n",
       "    <tr>\n",
       "      <th>3</th>\n",
       "      <td>A</td>\n",
       "      <td>Apr</td>\n",
       "      <td>2297</td>\n",
       "    </tr>\n",
       "    <tr>\n",
       "      <th>4</th>\n",
       "      <td>A</td>\n",
       "      <td>May</td>\n",
       "      <td>1992</td>\n",
       "    </tr>\n",
       "  </tbody>\n",
       "</table>\n",
       "</div>"
      ],
      "text/plain": [
       "  State Month  Demand\n",
       "0     A   Jan    5240\n",
       "1     A   Feb    4878\n",
       "2     A   Mar    5942\n",
       "3     A   Apr    2297\n",
       "4     A   May    1992"
      ]
     },
     "execution_count": 130,
     "metadata": {},
     "output_type": "execute_result"
    }
   ],
   "source": [
    "#Print the dataframe for demand\n",
    "\n",
    "demand_data.head()\n"
   ]
  },
  {
   "cell_type": "markdown",
   "metadata": {},
   "source": [
    "\n",
    "#### LET'S CALCULATE THE TOTAL MONTHLY DEMAND\n"
   ]
  },
  {
   "cell_type": "code",
   "execution_count": 131,
   "metadata": {},
   "outputs": [
    {
     "data": {
      "text/plain": [
       "Month\n",
       "Apr     6896\n",
       "Aug     8487\n",
       "Dec    11408\n",
       "Feb     9473\n",
       "Jan    11329\n",
       "Jul    12094\n",
       "Jun     7064\n",
       "Mar    10814\n",
       "May     8042\n",
       "Nov     8384\n",
       "Oct    10105\n",
       "Sep     9198\n",
       "Name: Demand, dtype: int64"
      ]
     },
     "execution_count": 131,
     "metadata": {},
     "output_type": "execute_result"
    }
   ],
   "source": [
    "#Let's calculate the monthly total application demand \n",
    "\n",
    "total_application_demand_2 = demand_data.groupby(['Month'])['Demand'].sum()\n",
    "\n",
    "total_application_demand_2\n"
   ]
  },
  {
   "cell_type": "code",
   "execution_count": 132,
   "metadata": {},
   "outputs": [
    {
     "data": {
      "text/html": [
       "<div>\n",
       "<style scoped>\n",
       "    .dataframe tbody tr th:only-of-type {\n",
       "        vertical-align: middle;\n",
       "    }\n",
       "\n",
       "    .dataframe tbody tr th {\n",
       "        vertical-align: top;\n",
       "    }\n",
       "\n",
       "    .dataframe thead th {\n",
       "        text-align: right;\n",
       "    }\n",
       "</style>\n",
       "<table border=\"1\" class=\"dataframe\">\n",
       "  <thead>\n",
       "    <tr style=\"text-align: right;\">\n",
       "      <th></th>\n",
       "      <th>State</th>\n",
       "      <th>Month</th>\n",
       "      <th>FTE</th>\n",
       "      <th>OutSourcedApps</th>\n",
       "    </tr>\n",
       "  </thead>\n",
       "  <tbody>\n",
       "    <tr>\n",
       "      <th>0</th>\n",
       "      <td>A</td>\n",
       "      <td>Jan</td>\n",
       "      <td>161.728395</td>\n",
       "      <td>0.0</td>\n",
       "    </tr>\n",
       "    <tr>\n",
       "      <th>1</th>\n",
       "      <td>A</td>\n",
       "      <td>Feb</td>\n",
       "      <td>160.460526</td>\n",
       "      <td>0.0</td>\n",
       "    </tr>\n",
       "    <tr>\n",
       "      <th>2</th>\n",
       "      <td>A</td>\n",
       "      <td>Mar</td>\n",
       "      <td>198.066667</td>\n",
       "      <td>0.0</td>\n",
       "    </tr>\n",
       "    <tr>\n",
       "      <th>3</th>\n",
       "      <td>A</td>\n",
       "      <td>Apr</td>\n",
       "      <td>71.781250</td>\n",
       "      <td>0.0</td>\n",
       "    </tr>\n",
       "    <tr>\n",
       "      <th>4</th>\n",
       "      <td>A</td>\n",
       "      <td>May</td>\n",
       "      <td>63.846154</td>\n",
       "      <td>0.0</td>\n",
       "    </tr>\n",
       "  </tbody>\n",
       "</table>\n",
       "</div>"
      ],
      "text/plain": [
       "  State Month         FTE  OutSourcedApps\n",
       "0     A   Jan  161.728395             0.0\n",
       "1     A   Feb  160.460526             0.0\n",
       "2     A   Mar  198.066667             0.0\n",
       "3     A   Apr   71.781250             0.0\n",
       "4     A   May   63.846154             0.0"
      ]
     },
     "execution_count": 132,
     "metadata": {},
     "output_type": "execute_result"
    }
   ],
   "source": [
    "#Print the dataframe for staff\n",
    "\n",
    "staff_df.head()\n"
   ]
  },
  {
   "cell_type": "markdown",
   "metadata": {},
   "source": [
    "\n",
    "#### LET'S CALCULATE THE NUMBER OF APPLICATIONS PROCESSED BY STAFF\n",
    "\n"
   ]
  },
  {
   "cell_type": "code",
   "execution_count": 133,
   "metadata": {},
   "outputs": [
    {
     "data": {
      "text/plain": [
       "Month\n",
       "Apr    215.500000\n",
       "Aug    244.703947\n",
       "Dec    237.153846\n",
       "Feb    277.039474\n",
       "Jan    349.660494\n",
       "Jul    231.507353\n",
       "Jun    198.835616\n",
       "Mar    320.833333\n",
       "May    257.756410\n",
       "Nov    179.485294\n",
       "Oct    289.143836\n",
       "Sep    283.888889\n",
       "Name: FTE, dtype: float64"
      ]
     },
     "execution_count": 133,
     "metadata": {},
     "output_type": "execute_result"
    }
   ],
   "source": [
    "#Let's calculate the Monthly Staff Processed Applications\n",
    "\n",
    "total_staff_applications_month = staff_df.groupby(['Month'])['FTE'].sum()\n",
    "\n",
    "total_staff_applications_month\n"
   ]
  },
  {
   "cell_type": "markdown",
   "metadata": {},
   "source": [
    "\n",
    "#### LET'S CALCULATE THE PERCENTAGE OF APPLICATIONS PROCESSED BY STAFF\n"
   ]
  },
  {
   "cell_type": "code",
   "execution_count": 134,
   "metadata": {},
   "outputs": [
    {
     "data": {
      "text/plain": [
       "Month\n",
       "Apr    3.125000\n",
       "Aug    2.883280\n",
       "Dec    2.078838\n",
       "Feb    2.924517\n",
       "Jan    3.086420\n",
       "Jul    1.914233\n",
       "Jun    2.814774\n",
       "Mar    2.966833\n",
       "May    3.205128\n",
       "Nov    2.140807\n",
       "Oct    2.861394\n",
       "Sep    3.086420\n",
       "dtype: float64"
      ]
     },
     "execution_count": 134,
     "metadata": {},
     "output_type": "execute_result"
    }
   ],
   "source": [
    "#calculate the Percentage of Applications processed by Staff\n",
    "\n",
    "percentage_staff_applications_monthly = (total_staff_applications_month/total_application_demand_2)*100\n",
    "\n",
    "percentage_staff_applications_monthly"
   ]
  },
  {
   "cell_type": "markdown",
   "metadata": {},
   "source": [
    "#### LET'S CALCULATE THE NUMBER OF OUTSOURCED APPLICATIONS"
   ]
  },
  {
   "cell_type": "code",
   "execution_count": 135,
   "metadata": {},
   "outputs": [
    {
     "data": {
      "text/plain": [
       "Month\n",
       "Apr       0.0\n",
       "Aug    1048.0\n",
       "Dec    5242.0\n",
       "Feb    1051.0\n",
       "Jan       0.0\n",
       "Jul    5797.0\n",
       "Jun    1258.0\n",
       "Mar    1189.0\n",
       "May       0.0\n",
       "Nov    3502.0\n",
       "Oct    1662.0\n",
       "Sep       0.0\n",
       "Name: OutSourcedApps, dtype: float64"
      ]
     },
     "execution_count": 135,
     "metadata": {},
     "output_type": "execute_result"
    }
   ],
   "source": [
    "# let's now calculate the total OutSourced Applications per month\n",
    "\n",
    "total_outsourced_applications_month = staff_df.groupby(['Month'])['OutSourcedApps'].sum()\n",
    "\n",
    "total_outsourced_applications_month\n",
    "\n"
   ]
  },
  {
   "cell_type": "markdown",
   "metadata": {},
   "source": [
    "#### LET'S CALCULATE THE PERCENTAGE OF OUTSOURCED APPLICATIONS"
   ]
  },
  {
   "cell_type": "code",
   "execution_count": 136,
   "metadata": {},
   "outputs": [
    {
     "data": {
      "text/plain": [
       "Month\n",
       "Apr     0.000000\n",
       "Aug    12.348297\n",
       "Dec    45.950210\n",
       "Feb    11.094690\n",
       "Jan     0.000000\n",
       "Jul    47.932859\n",
       "Jun    17.808607\n",
       "Mar    10.995006\n",
       "May     0.000000\n",
       "Nov    41.770038\n",
       "Oct    16.447303\n",
       "Sep     0.000000\n",
       "dtype: float64"
      ]
     },
     "execution_count": 136,
     "metadata": {},
     "output_type": "execute_result"
    }
   ],
   "source": [
    "\n",
    "#calculate the Percentage of Applications processed by Staff\n",
    "\n",
    "percentage_outsourced_applications_monthly = (total_outsourced_applications_month/total_application_demand_2)*100\n",
    "\n",
    "percentage_outsourced_applications_monthly\n",
    "\n"
   ]
  },
  {
   "cell_type": "markdown",
   "metadata": {},
   "source": [
    "### Let's convert these percentage outsourced applications per month and percentage staff application per month series' into dataframes\n"
   ]
  },
  {
   "cell_type": "code",
   "execution_count": 137,
   "metadata": {},
   "outputs": [
    {
     "data": {
      "text/html": [
       "<div>\n",
       "<style scoped>\n",
       "    .dataframe tbody tr th:only-of-type {\n",
       "        vertical-align: middle;\n",
       "    }\n",
       "\n",
       "    .dataframe tbody tr th {\n",
       "        vertical-align: top;\n",
       "    }\n",
       "\n",
       "    .dataframe thead th {\n",
       "        text-align: right;\n",
       "    }\n",
       "</style>\n",
       "<table border=\"1\" class=\"dataframe\">\n",
       "  <thead>\n",
       "    <tr style=\"text-align: right;\">\n",
       "      <th></th>\n",
       "      <th>0</th>\n",
       "    </tr>\n",
       "    <tr>\n",
       "      <th>Month</th>\n",
       "      <th></th>\n",
       "    </tr>\n",
       "  </thead>\n",
       "  <tbody>\n",
       "    <tr>\n",
       "      <th>Apr</th>\n",
       "      <td>3.125000</td>\n",
       "    </tr>\n",
       "    <tr>\n",
       "      <th>Aug</th>\n",
       "      <td>2.883280</td>\n",
       "    </tr>\n",
       "    <tr>\n",
       "      <th>Dec</th>\n",
       "      <td>2.078838</td>\n",
       "    </tr>\n",
       "    <tr>\n",
       "      <th>Feb</th>\n",
       "      <td>2.924517</td>\n",
       "    </tr>\n",
       "    <tr>\n",
       "      <th>Jan</th>\n",
       "      <td>3.086420</td>\n",
       "    </tr>\n",
       "    <tr>\n",
       "      <th>Jul</th>\n",
       "      <td>1.914233</td>\n",
       "    </tr>\n",
       "    <tr>\n",
       "      <th>Jun</th>\n",
       "      <td>2.814774</td>\n",
       "    </tr>\n",
       "    <tr>\n",
       "      <th>Mar</th>\n",
       "      <td>2.966833</td>\n",
       "    </tr>\n",
       "    <tr>\n",
       "      <th>May</th>\n",
       "      <td>3.205128</td>\n",
       "    </tr>\n",
       "    <tr>\n",
       "      <th>Nov</th>\n",
       "      <td>2.140807</td>\n",
       "    </tr>\n",
       "    <tr>\n",
       "      <th>Oct</th>\n",
       "      <td>2.861394</td>\n",
       "    </tr>\n",
       "    <tr>\n",
       "      <th>Sep</th>\n",
       "      <td>3.086420</td>\n",
       "    </tr>\n",
       "  </tbody>\n",
       "</table>\n",
       "</div>"
      ],
      "text/plain": [
       "              0\n",
       "Month          \n",
       "Apr    3.125000\n",
       "Aug    2.883280\n",
       "Dec    2.078838\n",
       "Feb    2.924517\n",
       "Jan    3.086420\n",
       "Jul    1.914233\n",
       "Jun    2.814774\n",
       "Mar    2.966833\n",
       "May    3.205128\n",
       "Nov    2.140807\n",
       "Oct    2.861394\n",
       "Sep    3.086420"
      ]
     },
     "execution_count": 137,
     "metadata": {},
     "output_type": "execute_result"
    }
   ],
   "source": [
    "#Let's convert the percentage of staff application per month series into dataframe\n",
    "\n",
    "percentage_staff_applications_monthly = percentage_staff_applications_monthly.to_frame()\n",
    "\n",
    "percentage_staff_applications_monthly\n"
   ]
  },
  {
   "cell_type": "code",
   "execution_count": 138,
   "metadata": {},
   "outputs": [
    {
     "data": {
      "text/html": [
       "<div>\n",
       "<style scoped>\n",
       "    .dataframe tbody tr th:only-of-type {\n",
       "        vertical-align: middle;\n",
       "    }\n",
       "\n",
       "    .dataframe tbody tr th {\n",
       "        vertical-align: top;\n",
       "    }\n",
       "\n",
       "    .dataframe thead th {\n",
       "        text-align: right;\n",
       "    }\n",
       "</style>\n",
       "<table border=\"1\" class=\"dataframe\">\n",
       "  <thead>\n",
       "    <tr style=\"text-align: right;\">\n",
       "      <th></th>\n",
       "      <th>Staff_%</th>\n",
       "    </tr>\n",
       "    <tr>\n",
       "      <th>Month</th>\n",
       "      <th></th>\n",
       "    </tr>\n",
       "  </thead>\n",
       "  <tbody>\n",
       "    <tr>\n",
       "      <th>Apr</th>\n",
       "      <td>3.125000</td>\n",
       "    </tr>\n",
       "    <tr>\n",
       "      <th>Aug</th>\n",
       "      <td>2.883280</td>\n",
       "    </tr>\n",
       "    <tr>\n",
       "      <th>Dec</th>\n",
       "      <td>2.078838</td>\n",
       "    </tr>\n",
       "    <tr>\n",
       "      <th>Feb</th>\n",
       "      <td>2.924517</td>\n",
       "    </tr>\n",
       "    <tr>\n",
       "      <th>Jan</th>\n",
       "      <td>3.086420</td>\n",
       "    </tr>\n",
       "    <tr>\n",
       "      <th>Jul</th>\n",
       "      <td>1.914233</td>\n",
       "    </tr>\n",
       "    <tr>\n",
       "      <th>Jun</th>\n",
       "      <td>2.814774</td>\n",
       "    </tr>\n",
       "    <tr>\n",
       "      <th>Mar</th>\n",
       "      <td>2.966833</td>\n",
       "    </tr>\n",
       "    <tr>\n",
       "      <th>May</th>\n",
       "      <td>3.205128</td>\n",
       "    </tr>\n",
       "    <tr>\n",
       "      <th>Nov</th>\n",
       "      <td>2.140807</td>\n",
       "    </tr>\n",
       "    <tr>\n",
       "      <th>Oct</th>\n",
       "      <td>2.861394</td>\n",
       "    </tr>\n",
       "    <tr>\n",
       "      <th>Sep</th>\n",
       "      <td>3.086420</td>\n",
       "    </tr>\n",
       "  </tbody>\n",
       "</table>\n",
       "</div>"
      ],
      "text/plain": [
       "        Staff_%\n",
       "Month          \n",
       "Apr    3.125000\n",
       "Aug    2.883280\n",
       "Dec    2.078838\n",
       "Feb    2.924517\n",
       "Jan    3.086420\n",
       "Jul    1.914233\n",
       "Jun    2.814774\n",
       "Mar    2.966833\n",
       "May    3.205128\n",
       "Nov    2.140807\n",
       "Oct    2.861394\n",
       "Sep    3.086420"
      ]
     },
     "execution_count": 138,
     "metadata": {},
     "output_type": "execute_result"
    }
   ],
   "source": [
    "#Let's rename the percentage of staff application per month series to \"Staff_%\"\n",
    "\n",
    "percentage_staff_applications_monthly = percentage_staff_applications_monthly.rename(columns={percentage_staff_applications_monthly.columns[0]: 'Staff_%'})\n",
    "\n",
    "percentage_staff_applications_monthly\n"
   ]
  },
  {
   "cell_type": "code",
   "execution_count": 139,
   "metadata": {},
   "outputs": [
    {
     "data": {
      "text/html": [
       "<div>\n",
       "<style scoped>\n",
       "    .dataframe tbody tr th:only-of-type {\n",
       "        vertical-align: middle;\n",
       "    }\n",
       "\n",
       "    .dataframe tbody tr th {\n",
       "        vertical-align: top;\n",
       "    }\n",
       "\n",
       "    .dataframe thead th {\n",
       "        text-align: right;\n",
       "    }\n",
       "</style>\n",
       "<table border=\"1\" class=\"dataframe\">\n",
       "  <thead>\n",
       "    <tr style=\"text-align: right;\">\n",
       "      <th></th>\n",
       "      <th>0</th>\n",
       "    </tr>\n",
       "    <tr>\n",
       "      <th>Month</th>\n",
       "      <th></th>\n",
       "    </tr>\n",
       "  </thead>\n",
       "  <tbody>\n",
       "    <tr>\n",
       "      <th>Apr</th>\n",
       "      <td>0.000000</td>\n",
       "    </tr>\n",
       "    <tr>\n",
       "      <th>Aug</th>\n",
       "      <td>12.348297</td>\n",
       "    </tr>\n",
       "    <tr>\n",
       "      <th>Dec</th>\n",
       "      <td>45.950210</td>\n",
       "    </tr>\n",
       "    <tr>\n",
       "      <th>Feb</th>\n",
       "      <td>11.094690</td>\n",
       "    </tr>\n",
       "    <tr>\n",
       "      <th>Jan</th>\n",
       "      <td>0.000000</td>\n",
       "    </tr>\n",
       "    <tr>\n",
       "      <th>Jul</th>\n",
       "      <td>47.932859</td>\n",
       "    </tr>\n",
       "    <tr>\n",
       "      <th>Jun</th>\n",
       "      <td>17.808607</td>\n",
       "    </tr>\n",
       "    <tr>\n",
       "      <th>Mar</th>\n",
       "      <td>10.995006</td>\n",
       "    </tr>\n",
       "    <tr>\n",
       "      <th>May</th>\n",
       "      <td>0.000000</td>\n",
       "    </tr>\n",
       "    <tr>\n",
       "      <th>Nov</th>\n",
       "      <td>41.770038</td>\n",
       "    </tr>\n",
       "    <tr>\n",
       "      <th>Oct</th>\n",
       "      <td>16.447303</td>\n",
       "    </tr>\n",
       "    <tr>\n",
       "      <th>Sep</th>\n",
       "      <td>0.000000</td>\n",
       "    </tr>\n",
       "  </tbody>\n",
       "</table>\n",
       "</div>"
      ],
      "text/plain": [
       "               0\n",
       "Month           \n",
       "Apr     0.000000\n",
       "Aug    12.348297\n",
       "Dec    45.950210\n",
       "Feb    11.094690\n",
       "Jan     0.000000\n",
       "Jul    47.932859\n",
       "Jun    17.808607\n",
       "Mar    10.995006\n",
       "May     0.000000\n",
       "Nov    41.770038\n",
       "Oct    16.447303\n",
       "Sep     0.000000"
      ]
     },
     "execution_count": 139,
     "metadata": {},
     "output_type": "execute_result"
    }
   ],
   "source": [
    "#Let's convert the percentage of OutSourced application per month series into dataframe\n",
    "\n",
    "percentage_outsourced_applications_monthly = percentage_outsourced_applications_monthly.to_frame()\n",
    "\n",
    "percentage_outsourced_applications_monthly\n"
   ]
  },
  {
   "cell_type": "code",
   "execution_count": 140,
   "metadata": {},
   "outputs": [
    {
     "data": {
      "text/html": [
       "<div>\n",
       "<style scoped>\n",
       "    .dataframe tbody tr th:only-of-type {\n",
       "        vertical-align: middle;\n",
       "    }\n",
       "\n",
       "    .dataframe tbody tr th {\n",
       "        vertical-align: top;\n",
       "    }\n",
       "\n",
       "    .dataframe thead th {\n",
       "        text-align: right;\n",
       "    }\n",
       "</style>\n",
       "<table border=\"1\" class=\"dataframe\">\n",
       "  <thead>\n",
       "    <tr style=\"text-align: right;\">\n",
       "      <th></th>\n",
       "      <th>OutSourced_%</th>\n",
       "    </tr>\n",
       "    <tr>\n",
       "      <th>Month</th>\n",
       "      <th></th>\n",
       "    </tr>\n",
       "  </thead>\n",
       "  <tbody>\n",
       "    <tr>\n",
       "      <th>Apr</th>\n",
       "      <td>0.000000</td>\n",
       "    </tr>\n",
       "    <tr>\n",
       "      <th>Aug</th>\n",
       "      <td>12.348297</td>\n",
       "    </tr>\n",
       "    <tr>\n",
       "      <th>Dec</th>\n",
       "      <td>45.950210</td>\n",
       "    </tr>\n",
       "    <tr>\n",
       "      <th>Feb</th>\n",
       "      <td>11.094690</td>\n",
       "    </tr>\n",
       "    <tr>\n",
       "      <th>Jan</th>\n",
       "      <td>0.000000</td>\n",
       "    </tr>\n",
       "    <tr>\n",
       "      <th>Jul</th>\n",
       "      <td>47.932859</td>\n",
       "    </tr>\n",
       "    <tr>\n",
       "      <th>Jun</th>\n",
       "      <td>17.808607</td>\n",
       "    </tr>\n",
       "    <tr>\n",
       "      <th>Mar</th>\n",
       "      <td>10.995006</td>\n",
       "    </tr>\n",
       "    <tr>\n",
       "      <th>May</th>\n",
       "      <td>0.000000</td>\n",
       "    </tr>\n",
       "    <tr>\n",
       "      <th>Nov</th>\n",
       "      <td>41.770038</td>\n",
       "    </tr>\n",
       "    <tr>\n",
       "      <th>Oct</th>\n",
       "      <td>16.447303</td>\n",
       "    </tr>\n",
       "    <tr>\n",
       "      <th>Sep</th>\n",
       "      <td>0.000000</td>\n",
       "    </tr>\n",
       "  </tbody>\n",
       "</table>\n",
       "</div>"
      ],
      "text/plain": [
       "       OutSourced_%\n",
       "Month              \n",
       "Apr        0.000000\n",
       "Aug       12.348297\n",
       "Dec       45.950210\n",
       "Feb       11.094690\n",
       "Jan        0.000000\n",
       "Jul       47.932859\n",
       "Jun       17.808607\n",
       "Mar       10.995006\n",
       "May        0.000000\n",
       "Nov       41.770038\n",
       "Oct       16.447303\n",
       "Sep        0.000000"
      ]
     },
     "execution_count": 140,
     "metadata": {},
     "output_type": "execute_result"
    }
   ],
   "source": [
    "#Let's rename the percentage of OutSourced application per month series to \"OutSourced_%\"\n",
    "\n",
    "percentage_outsourced_applications_monthly = percentage_outsourced_applications_monthly.rename(columns={percentage_outsourced_applications_monthly.columns[0]: 'OutSourced_%'})\n",
    "\n",
    "percentage_outsourced_applications_monthly\n",
    "\n"
   ]
  },
  {
   "cell_type": "code",
   "execution_count": 141,
   "metadata": {},
   "outputs": [
    {
     "data": {
      "text/html": [
       "<div>\n",
       "<style scoped>\n",
       "    .dataframe tbody tr th:only-of-type {\n",
       "        vertical-align: middle;\n",
       "    }\n",
       "\n",
       "    .dataframe tbody tr th {\n",
       "        vertical-align: top;\n",
       "    }\n",
       "\n",
       "    .dataframe thead th {\n",
       "        text-align: right;\n",
       "    }\n",
       "</style>\n",
       "<table border=\"1\" class=\"dataframe\">\n",
       "  <thead>\n",
       "    <tr style=\"text-align: right;\">\n",
       "      <th></th>\n",
       "      <th>Staff_%</th>\n",
       "      <th>OutSourced_%</th>\n",
       "    </tr>\n",
       "    <tr>\n",
       "      <th>Month</th>\n",
       "      <th></th>\n",
       "      <th></th>\n",
       "    </tr>\n",
       "  </thead>\n",
       "  <tbody>\n",
       "    <tr>\n",
       "      <th>Apr</th>\n",
       "      <td>3.125000</td>\n",
       "      <td>0.000000</td>\n",
       "    </tr>\n",
       "    <tr>\n",
       "      <th>Aug</th>\n",
       "      <td>2.883280</td>\n",
       "      <td>12.348297</td>\n",
       "    </tr>\n",
       "    <tr>\n",
       "      <th>Dec</th>\n",
       "      <td>2.078838</td>\n",
       "      <td>45.950210</td>\n",
       "    </tr>\n",
       "    <tr>\n",
       "      <th>Feb</th>\n",
       "      <td>2.924517</td>\n",
       "      <td>11.094690</td>\n",
       "    </tr>\n",
       "    <tr>\n",
       "      <th>Jan</th>\n",
       "      <td>3.086420</td>\n",
       "      <td>0.000000</td>\n",
       "    </tr>\n",
       "    <tr>\n",
       "      <th>Jul</th>\n",
       "      <td>1.914233</td>\n",
       "      <td>47.932859</td>\n",
       "    </tr>\n",
       "    <tr>\n",
       "      <th>Jun</th>\n",
       "      <td>2.814774</td>\n",
       "      <td>17.808607</td>\n",
       "    </tr>\n",
       "    <tr>\n",
       "      <th>Mar</th>\n",
       "      <td>2.966833</td>\n",
       "      <td>10.995006</td>\n",
       "    </tr>\n",
       "    <tr>\n",
       "      <th>May</th>\n",
       "      <td>3.205128</td>\n",
       "      <td>0.000000</td>\n",
       "    </tr>\n",
       "    <tr>\n",
       "      <th>Nov</th>\n",
       "      <td>2.140807</td>\n",
       "      <td>41.770038</td>\n",
       "    </tr>\n",
       "    <tr>\n",
       "      <th>Oct</th>\n",
       "      <td>2.861394</td>\n",
       "      <td>16.447303</td>\n",
       "    </tr>\n",
       "    <tr>\n",
       "      <th>Sep</th>\n",
       "      <td>3.086420</td>\n",
       "      <td>0.000000</td>\n",
       "    </tr>\n",
       "  </tbody>\n",
       "</table>\n",
       "</div>"
      ],
      "text/plain": [
       "        Staff_%  OutSourced_%\n",
       "Month                        \n",
       "Apr    3.125000      0.000000\n",
       "Aug    2.883280     12.348297\n",
       "Dec    2.078838     45.950210\n",
       "Feb    2.924517     11.094690\n",
       "Jan    3.086420      0.000000\n",
       "Jul    1.914233     47.932859\n",
       "Jun    2.814774     17.808607\n",
       "Mar    2.966833     10.995006\n",
       "May    3.205128      0.000000\n",
       "Nov    2.140807     41.770038\n",
       "Oct    2.861394     16.447303\n",
       "Sep    3.086420      0.000000"
      ]
     },
     "execution_count": 141,
     "metadata": {},
     "output_type": "execute_result"
    }
   ],
   "source": [
    "\n",
    "# Let's Merge the data frames\n",
    "\n",
    "df_merge = pd.concat([percentage_staff_applications_monthly, percentage_outsourced_applications_monthly], axis=1)\n",
    "\n",
    "df_merge\n"
   ]
  },
  {
   "cell_type": "code",
   "execution_count": 142,
   "metadata": {},
   "outputs": [
    {
     "data": {
      "text/plain": [
       "<Figure size 7200x7200 with 0 Axes>"
      ]
     },
     "metadata": {},
     "output_type": "display_data"
    },
    {
     "data": {
      "image/png": "[encoded data removed]",
      "text/plain": [
       "<Figure size 432x288 with 1 Axes>"
      ]
     },
     "metadata": {
      "needs_background": "light"
     },
     "output_type": "display_data"
    }
   ],
   "source": [
    "#Let's plot the stacked bar chart of the dataframe \"df_merge\"\n",
    "\n",
    "import matplotlib.pyplot as plt\n",
    "\n",
    "plt.figure(figsize=(100,100))\n",
    "\n",
    "df_merge.plot( kind='bar', stacked=True, title='Percentage of Applications processed per month')\n",
    "\n",
    "plt.show()\n"
   ]
  },
  {
   "cell_type": "markdown",
   "metadata": {},
   "source": [
    "### INSIGHTS:"
   ]
  },
  {
   "cell_type": "markdown",
   "metadata": {},
   "source": [
    "\n",
    "1. As you can see, the graph shows that the months of April, January, May, and September have 0 percent OutSourced Applications\n",
    "\n",
    "2. They month of July has the highest percentage of OutSourced Applications followed by the month of December.\n"
   ]
  },
  {
   "cell_type": "markdown",
   "metadata": {},
   "source": [
    "### QUESTION 4.2"
   ]
  },
  {
   "cell_type": "markdown",
   "metadata": {},
   "source": [
    "### COST PER APPLICATION FOR ACTUAL, WORST CASE , AND BEST CASES"
   ]
  },
  {
   "cell_type": "code",
   "execution_count": 143,
   "metadata": {},
   "outputs": [
    {
     "name": "stdout",
     "output_type": "stream",
     "text": [
      "The average cost per application in the actual case is =  158.5462288273861\n",
      "\n",
      "\n",
      "The average cost per application in the worst case is =  172.9966504562357\n",
      "\n",
      "\n",
      "The average cost per application in the best case is =  145.88182638035315\n",
      "\n",
      "\n"
     ]
    }
   ],
   "source": [
    "#Average cost per applications for all the 3 cases\n",
    "\n",
    "\n",
    "print (\"The average cost per application in the actual case is = \",avg_cost_PerApp)\n",
    "print(\"\\n\")\n",
    "print (\"The average cost per application in the worst case is = \",avg_cost_PerApp_wc)\n",
    "print(\"\\n\")\n",
    "print (\"The average cost per application in the best case is = \",avg_cost_PerApp_bc)\n",
    "print(\"\\n\")"
   ]
  },
  {
   "cell_type": "code",
   "execution_count": 144,
   "metadata": {},
   "outputs": [
    {
     "data": {
      "text/html": [
       "<div>\n",
       "<style scoped>\n",
       "    .dataframe tbody tr th:only-of-type {\n",
       "        vertical-align: middle;\n",
       "    }\n",
       "\n",
       "    .dataframe tbody tr th {\n",
       "        vertical-align: top;\n",
       "    }\n",
       "\n",
       "    .dataframe thead th {\n",
       "        text-align: right;\n",
       "    }\n",
       "</style>\n",
       "<table border=\"1\" class=\"dataframe\">\n",
       "  <thead>\n",
       "    <tr style=\"text-align: right;\">\n",
       "      <th></th>\n",
       "      <th>Actual_Case</th>\n",
       "      <th>Worst_Case</th>\n",
       "      <th>Best_Case</th>\n",
       "    </tr>\n",
       "  </thead>\n",
       "  <tbody>\n",
       "    <tr>\n",
       "      <th>0</th>\n",
       "      <td>158.546229</td>\n",
       "      <td>172.99665</td>\n",
       "      <td>145.881826</td>\n",
       "    </tr>\n",
       "  </tbody>\n",
       "</table>\n",
       "</div>"
      ],
      "text/plain": [
       "   Actual_Case  Worst_Case   Best_Case\n",
       "0   158.546229   172.99665  145.881826"
      ]
     },
     "execution_count": 144,
     "metadata": {},
     "output_type": "execute_result"
    }
   ],
   "source": [
    "#Create a new data frame df with the columns 'Actual_Case','Worst_Case','Best_Case'\n",
    "\n",
    "\n",
    "df = pd.DataFrame(columns = ['Actual_Case','Worst_Case','Best_Case'])\n",
    "\n",
    "# Add records to dataframe using the .loc function\n",
    "\n",
    "df.loc[0] = [avg_cost_PerApp,avg_cost_PerApp_wc,avg_cost_PerApp_bc]\n",
    "\n",
    "df\n"
   ]
  },
  {
   "cell_type": "code",
   "execution_count": 145,
   "metadata": {},
   "outputs": [
    {
     "data": {
      "text/plain": [
       "<Figure size 7200x7200 with 0 Axes>"
      ]
     },
     "metadata": {},
     "output_type": "display_data"
    },
    {
     "data": {
      "image/png": "[encoded data removed]",
      "text/plain": [
       "<Figure size 432x288 with 1 Axes>"
      ]
     },
     "metadata": {
      "needs_background": "light"
     },
     "output_type": "display_data"
    }
   ],
   "source": [
    "import matplotlib.pyplot as plt\n",
    "\n",
    "plt.figure(figsize=(100,100))\n",
    "\n",
    "df.plot( kind='bar', title='The average cost per application in all the 3 cases')\n",
    "\n",
    "plt.xlabel(\"Scenarios\")\n",
    "\n",
    "plt.ylabel(\"Average Cost per Application\")\n",
    "\n",
    "plt.show()\n",
    "\n"
   ]
  },
  {
   "cell_type": "markdown",
   "metadata": {},
   "source": [
    "### INSIGHT"
   ]
  },
  {
   "cell_type": "markdown",
   "metadata": {},
   "source": [
    "1. The average cost per application in the actual case is =  158.5462288273861\n",
    "2. The average cost per application in the worst case is =  172.9966504562357\n",
    "3. The average cost per application in the best case is =  145.88182638035315\n",
    "\n",
    "- As you can infer from the bar graph, the average cost per application is the highest for the **Worst Case**, which is followed by the **Actual Case**.\n",
    "\n",
    "- The Average cost of application is the least for the **Best Case** scenario as expected.\n"
   ]
  }
 ],
 "metadata": {
  "kernelspec": {
   "display_name": "Python 3",
   "language": "python",
   "name": "python3"
  },
  "language_info": {
   "codemirror_mode": {
    "name": "ipython",
    "version": 3
   },
   "file_extension": ".py",
   "mimetype": "text/x-python",
   "name": "python",
   "nbconvert_exporter": "python",
   "pygments_lexer": "ipython3",
   "version": "3.8.3"
  }
 },
 "nbformat": 4,
 "nbformat_minor": 2
}
